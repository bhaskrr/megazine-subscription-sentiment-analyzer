{
  "cells": [
    {
      "cell_type": "markdown",
      "metadata": {
        "id": "ZBEbfT-HLYTk"
      },
      "source": [
        "## Mounting Google Drive"
      ]
    },
    {
      "cell_type": "code",
      "execution_count": null,
      "metadata": {
        "colab": {
          "base_uri": "https://localhost:8080/"
        },
        "id": "kJ7RukkAYWVd",
        "outputId": "e8530ff3-fbdc-446e-c97c-0ae6d6d12c42"
      },
      "outputs": [
        {
          "name": "stdout",
          "output_type": "stream",
          "text": [
            "Mounted at /content/drive/\n"
          ]
        }
      ],
      "source": [
        "from google.colab import drive\n",
        "drive.mount('/content/drive/')"
      ]
    },
    {
      "cell_type": "markdown",
      "metadata": {
        "id": "t1Zttyl4LlW1"
      },
      "source": [
        "## Loading the dataset"
      ]
    },
    {
      "cell_type": "code",
      "execution_count": null,
      "metadata": {
        "id": "vYPX4g_tYkYJ"
      },
      "outputs": [],
      "source": [
        "import pandas as pd\n",
        "import json"
      ]
    },
    {
      "cell_type": "code",
      "execution_count": null,
      "metadata": {
        "id": "R4HxywySfRsA"
      },
      "outputs": [],
      "source": [
        "file = '/content/drive/MyDrive/Amazon megazine data sentiment analysis/Magazine_Subscriptions.jsonl'"
      ]
    },
    {
      "cell_type": "code",
      "execution_count": null,
      "metadata": {
        "colab": {
          "base_uri": "https://localhost:8080/",
          "height": 206
        },
        "id": "3YzTZD5XfPjj",
        "outputId": "e629fc74-e4ab-4f72-f714-eee34b25b5ea"
      },
      "outputs": [
        {
          "data": {
            "application/vnd.google.colaboratory.intrinsic+json": {
              "summary": "{\n  \"name\": \"megazine_data\",\n  \"rows\": 71497,\n  \"fields\": [\n    {\n      \"column\": \"text\",\n      \"properties\": {\n        \"dtype\": \"string\",\n        \"num_unique_values\": 65233,\n        \"samples\": [\n          \"I've been a Sunset subscriber off and on for years. They are the most well-regarded magazine out here in California, for gardeners, cooks and do it your-selfers.<br /><br />  Each issue offers a regional spotlight, offering travel, lodging and special interest activities. It's a great resource for anyone looking for perhaps a different area to visit.<br /><br />  The cooks section is always great and usually I can find at least 4 recipes to use in my kitchen each issue. Sunset also offers their recipe annuals, which have become treasured favorites in my kitchen. These hardbound books are a compilation of all Sunsets recipes. For those that love bread baking, Sunset offers some simply awesome bread recipes. All recipes are tested first in Sunsets' kitchens, before publication.<br /><br />  Sunsets garden section contains monthly tips and reminders for doing seasonal chores. The planting guides are a novice gardeners best friend. Every issue devotes itself to between two and three garden projects-offered step by step, and again-only after being tested in Sunsets own gardens.<br /><br />  Add to that the many great home design feature and projects, you get a magazine worth 3 times the amount they charge. If you've never tried Sunset magazine, I can honestly say you're in for a treat.\",\n          \"good price\",\n          \"I ordered this for my husband for valentines day...It's now April...no magazine : ((<br />Not very happy at all..but will wait one more month before I ask for my money back.\"\n        ],\n        \"semantic_type\": \"\",\n        \"description\": \"\"\n      }\n    },\n    {\n      \"column\": \"rating\",\n      \"properties\": {\n        \"dtype\": \"number\",\n        \"std\": 1.4606353821848226,\n        \"min\": 1.0,\n        \"max\": 5.0,\n        \"num_unique_values\": 5,\n        \"samples\": [\n          4.0,\n          3.0,\n          1.0\n        ],\n        \"semantic_type\": \"\",\n        \"description\": \"\"\n      }\n    }\n  ]\n}",
              "type": "dataframe",
              "variable_name": "megazine_data"
            },
            "text/html": [
              "\n",
              "  <div id=\"df-6b11f3ea-0dc2-4040-85bc-1e133199b363\" class=\"colab-df-container\">\n",
              "    <div>\n",
              "<style scoped>\n",
              "    .dataframe tbody tr th:only-of-type {\n",
              "        vertical-align: middle;\n",
              "    }\n",
              "\n",
              "    .dataframe tbody tr th {\n",
              "        vertical-align: top;\n",
              "    }\n",
              "\n",
              "    .dataframe thead th {\n",
              "        text-align: right;\n",
              "    }\n",
              "</style>\n",
              "<table border=\"1\" class=\"dataframe\">\n",
              "  <thead>\n",
              "    <tr style=\"text-align: right;\">\n",
              "      <th></th>\n",
              "      <th>text</th>\n",
              "      <th>rating</th>\n",
              "    </tr>\n",
              "  </thead>\n",
              "  <tbody>\n",
              "    <tr>\n",
              "      <th>0</th>\n",
              "      <td>Wonderful recipes in this magazine.</td>\n",
              "      <td>5.0</td>\n",
              "    </tr>\n",
              "    <tr>\n",
              "      <th>1</th>\n",
              "      <td>Great sports magazine that's on my 9 year olds...</td>\n",
              "      <td>4.0</td>\n",
              "    </tr>\n",
              "    <tr>\n",
              "      <th>2</th>\n",
              "      <td>\"Joy of Kosher\" magazine fills a much-needed n...</td>\n",
              "      <td>5.0</td>\n",
              "    </tr>\n",
              "    <tr>\n",
              "      <th>3</th>\n",
              "      <td>I've been addicted to Martha Stewart's Everyda...</td>\n",
              "      <td>5.0</td>\n",
              "    </tr>\n",
              "    <tr>\n",
              "      <th>4</th>\n",
              "      <td>Too many ads!</td>\n",
              "      <td>1.0</td>\n",
              "    </tr>\n",
              "  </tbody>\n",
              "</table>\n",
              "</div>\n",
              "    <div class=\"colab-df-buttons\">\n",
              "\n",
              "  <div class=\"colab-df-container\">\n",
              "    <button class=\"colab-df-convert\" onclick=\"convertToInteractive('df-6b11f3ea-0dc2-4040-85bc-1e133199b363')\"\n",
              "            title=\"Convert this dataframe to an interactive table.\"\n",
              "            style=\"display:none;\">\n",
              "\n",
              "  <svg xmlns=\"http://www.w3.org/2000/svg\" height=\"24px\" viewBox=\"0 -960 960 960\">\n",
              "    <path d=\"M120-120v-720h720v720H120Zm60-500h600v-160H180v160Zm220 220h160v-160H400v160Zm0 220h160v-160H400v160ZM180-400h160v-160H180v160Zm440 0h160v-160H620v160ZM180-180h160v-160H180v160Zm440 0h160v-160H620v160Z\"/>\n",
              "  </svg>\n",
              "    </button>\n",
              "\n",
              "  <style>\n",
              "    .colab-df-container {\n",
              "      display:flex;\n",
              "      gap: 12px;\n",
              "    }\n",
              "\n",
              "    .colab-df-convert {\n",
              "      background-color: #E8F0FE;\n",
              "      border: none;\n",
              "      border-radius: 50%;\n",
              "      cursor: pointer;\n",
              "      display: none;\n",
              "      fill: #1967D2;\n",
              "      height: 32px;\n",
              "      padding: 0 0 0 0;\n",
              "      width: 32px;\n",
              "    }\n",
              "\n",
              "    .colab-df-convert:hover {\n",
              "      background-color: #E2EBFA;\n",
              "      box-shadow: 0px 1px 2px rgba(60, 64, 67, 0.3), 0px 1px 3px 1px rgba(60, 64, 67, 0.15);\n",
              "      fill: #174EA6;\n",
              "    }\n",
              "\n",
              "    .colab-df-buttons div {\n",
              "      margin-bottom: 4px;\n",
              "    }\n",
              "\n",
              "    [theme=dark] .colab-df-convert {\n",
              "      background-color: #3B4455;\n",
              "      fill: #D2E3FC;\n",
              "    }\n",
              "\n",
              "    [theme=dark] .colab-df-convert:hover {\n",
              "      background-color: #434B5C;\n",
              "      box-shadow: 0px 1px 3px 1px rgba(0, 0, 0, 0.15);\n",
              "      filter: drop-shadow(0px 1px 2px rgba(0, 0, 0, 0.3));\n",
              "      fill: #FFFFFF;\n",
              "    }\n",
              "  </style>\n",
              "\n",
              "    <script>\n",
              "      const buttonEl =\n",
              "        document.querySelector('#df-6b11f3ea-0dc2-4040-85bc-1e133199b363 button.colab-df-convert');\n",
              "      buttonEl.style.display =\n",
              "        google.colab.kernel.accessAllowed ? 'block' : 'none';\n",
              "\n",
              "      async function convertToInteractive(key) {\n",
              "        const element = document.querySelector('#df-6b11f3ea-0dc2-4040-85bc-1e133199b363');\n",
              "        const dataTable =\n",
              "          await google.colab.kernel.invokeFunction('convertToInteractive',\n",
              "                                                    [key], {});\n",
              "        if (!dataTable) return;\n",
              "\n",
              "        const docLinkHtml = 'Like what you see? Visit the ' +\n",
              "          '<a target=\"_blank\" href=https://colab.research.google.com/notebooks/data_table.ipynb>data table notebook</a>'\n",
              "          + ' to learn more about interactive tables.';\n",
              "        element.innerHTML = '';\n",
              "        dataTable['output_type'] = 'display_data';\n",
              "        await google.colab.output.renderOutput(dataTable, element);\n",
              "        const docLink = document.createElement('div');\n",
              "        docLink.innerHTML = docLinkHtml;\n",
              "        element.appendChild(docLink);\n",
              "      }\n",
              "    </script>\n",
              "  </div>\n",
              "\n",
              "\n",
              "<div id=\"df-f7182e5c-b73d-467e-acf5-6bc8bbe63d3e\">\n",
              "  <button class=\"colab-df-quickchart\" onclick=\"quickchart('df-f7182e5c-b73d-467e-acf5-6bc8bbe63d3e')\"\n",
              "            title=\"Suggest charts\"\n",
              "            style=\"display:none;\">\n",
              "\n",
              "<svg xmlns=\"http://www.w3.org/2000/svg\" height=\"24px\"viewBox=\"0 0 24 24\"\n",
              "     width=\"24px\">\n",
              "    <g>\n",
              "        <path d=\"M19 3H5c-1.1 0-2 .9-2 2v14c0 1.1.9 2 2 2h14c1.1 0 2-.9 2-2V5c0-1.1-.9-2-2-2zM9 17H7v-7h2v7zm4 0h-2V7h2v10zm4 0h-2v-4h2v4z\"/>\n",
              "    </g>\n",
              "</svg>\n",
              "  </button>\n",
              "\n",
              "<style>\n",
              "  .colab-df-quickchart {\n",
              "      --bg-color: #E8F0FE;\n",
              "      --fill-color: #1967D2;\n",
              "      --hover-bg-color: #E2EBFA;\n",
              "      --hover-fill-color: #174EA6;\n",
              "      --disabled-fill-color: #AAA;\n",
              "      --disabled-bg-color: #DDD;\n",
              "  }\n",
              "\n",
              "  [theme=dark] .colab-df-quickchart {\n",
              "      --bg-color: #3B4455;\n",
              "      --fill-color: #D2E3FC;\n",
              "      --hover-bg-color: #434B5C;\n",
              "      --hover-fill-color: #FFFFFF;\n",
              "      --disabled-bg-color: #3B4455;\n",
              "      --disabled-fill-color: #666;\n",
              "  }\n",
              "\n",
              "  .colab-df-quickchart {\n",
              "    background-color: var(--bg-color);\n",
              "    border: none;\n",
              "    border-radius: 50%;\n",
              "    cursor: pointer;\n",
              "    display: none;\n",
              "    fill: var(--fill-color);\n",
              "    height: 32px;\n",
              "    padding: 0;\n",
              "    width: 32px;\n",
              "  }\n",
              "\n",
              "  .colab-df-quickchart:hover {\n",
              "    background-color: var(--hover-bg-color);\n",
              "    box-shadow: 0 1px 2px rgba(60, 64, 67, 0.3), 0 1px 3px 1px rgba(60, 64, 67, 0.15);\n",
              "    fill: var(--button-hover-fill-color);\n",
              "  }\n",
              "\n",
              "  .colab-df-quickchart-complete:disabled,\n",
              "  .colab-df-quickchart-complete:disabled:hover {\n",
              "    background-color: var(--disabled-bg-color);\n",
              "    fill: var(--disabled-fill-color);\n",
              "    box-shadow: none;\n",
              "  }\n",
              "\n",
              "  .colab-df-spinner {\n",
              "    border: 2px solid var(--fill-color);\n",
              "    border-color: transparent;\n",
              "    border-bottom-color: var(--fill-color);\n",
              "    animation:\n",
              "      spin 1s steps(1) infinite;\n",
              "  }\n",
              "\n",
              "  @keyframes spin {\n",
              "    0% {\n",
              "      border-color: transparent;\n",
              "      border-bottom-color: var(--fill-color);\n",
              "      border-left-color: var(--fill-color);\n",
              "    }\n",
              "    20% {\n",
              "      border-color: transparent;\n",
              "      border-left-color: var(--fill-color);\n",
              "      border-top-color: var(--fill-color);\n",
              "    }\n",
              "    30% {\n",
              "      border-color: transparent;\n",
              "      border-left-color: var(--fill-color);\n",
              "      border-top-color: var(--fill-color);\n",
              "      border-right-color: var(--fill-color);\n",
              "    }\n",
              "    40% {\n",
              "      border-color: transparent;\n",
              "      border-right-color: var(--fill-color);\n",
              "      border-top-color: var(--fill-color);\n",
              "    }\n",
              "    60% {\n",
              "      border-color: transparent;\n",
              "      border-right-color: var(--fill-color);\n",
              "    }\n",
              "    80% {\n",
              "      border-color: transparent;\n",
              "      border-right-color: var(--fill-color);\n",
              "      border-bottom-color: var(--fill-color);\n",
              "    }\n",
              "    90% {\n",
              "      border-color: transparent;\n",
              "      border-bottom-color: var(--fill-color);\n",
              "    }\n",
              "  }\n",
              "</style>\n",
              "\n",
              "  <script>\n",
              "    async function quickchart(key) {\n",
              "      const quickchartButtonEl =\n",
              "        document.querySelector('#' + key + ' button');\n",
              "      quickchartButtonEl.disabled = true;  // To prevent multiple clicks.\n",
              "      quickchartButtonEl.classList.add('colab-df-spinner');\n",
              "      try {\n",
              "        const charts = await google.colab.kernel.invokeFunction(\n",
              "            'suggestCharts', [key], {});\n",
              "      } catch (error) {\n",
              "        console.error('Error during call to suggestCharts:', error);\n",
              "      }\n",
              "      quickchartButtonEl.classList.remove('colab-df-spinner');\n",
              "      quickchartButtonEl.classList.add('colab-df-quickchart-complete');\n",
              "    }\n",
              "    (() => {\n",
              "      let quickchartButtonEl =\n",
              "        document.querySelector('#df-f7182e5c-b73d-467e-acf5-6bc8bbe63d3e button');\n",
              "      quickchartButtonEl.style.display =\n",
              "        google.colab.kernel.accessAllowed ? 'block' : 'none';\n",
              "    })();\n",
              "  </script>\n",
              "</div>\n",
              "\n",
              "    </div>\n",
              "  </div>\n"
            ],
            "text/plain": [
              "                                                text  rating\n",
              "0                Wonderful recipes in this magazine.     5.0\n",
              "1  Great sports magazine that's on my 9 year olds...     4.0\n",
              "2  \"Joy of Kosher\" magazine fills a much-needed n...     5.0\n",
              "3  I've been addicted to Martha Stewart's Everyda...     5.0\n",
              "4                                      Too many ads!     1.0"
            ]
          },
          "execution_count": 4,
          "metadata": {},
          "output_type": "execute_result"
        }
      ],
      "source": [
        "megazine_data = []\n",
        "with open(file, 'r') as fp:\n",
        "    for line in fp:\n",
        "        obj = json.loads(line.strip())\n",
        "\n",
        "        # Extract the 'rating' and 'review' fields\n",
        "        text = obj.get('text')   # Replace with the actual key for rating\n",
        "        rating = obj.get('rating')   # Replace with the actual key for review\n",
        "\n",
        "        # Append the extracted fields to the data list\n",
        "        megazine_data.append({'text': text, 'rating': rating})\n",
        "\n",
        "# Create a DataFrame from the list of dictionaries\n",
        "megazine_data = pd.DataFrame(megazine_data)\n",
        "megazine_data.head()"
      ]
    },
    {
      "cell_type": "markdown",
      "metadata": {
        "id": "pzmsoytqbWFz"
      },
      "source": [
        "## Saving as csv for future use"
      ]
    },
    {
      "cell_type": "code",
      "execution_count": null,
      "metadata": {
        "id": "MGLkdpQDgxds"
      },
      "outputs": [],
      "source": [
        "megazine_data.to_csv('/content/drive/MyDrive/Amazon megazine data sentiment analysis/megazine_data.csv')"
      ]
    },
    {
      "cell_type": "markdown",
      "metadata": {
        "id": "GKUqPCUIMHRC"
      },
      "source": [
        "## Inspecting the data"
      ]
    },
    {
      "cell_type": "code",
      "execution_count": null,
      "metadata": {
        "colab": {
          "base_uri": "https://localhost:8080/"
        },
        "id": "nyzIV1gagppE",
        "outputId": "cc144a75-500d-4172-9a1c-148aad1eab6d"
      },
      "outputs": [
        {
          "data": {
            "text/plain": [
              "(71497, 2)"
            ]
          },
          "execution_count": 5,
          "metadata": {},
          "output_type": "execute_result"
        }
      ],
      "source": [
        "megazine_data.shape"
      ]
    },
    {
      "cell_type": "code",
      "execution_count": null,
      "metadata": {
        "id": "DLciW4x6ZJbP"
      },
      "outputs": [],
      "source": [
        "megazine_data.head()"
      ]
    },
    {
      "cell_type": "markdown",
      "metadata": {
        "id": "kp9nyxxxMM2C"
      },
      "source": [
        "## Checking for null values"
      ]
    },
    {
      "cell_type": "code",
      "execution_count": null,
      "metadata": {
        "colab": {
          "base_uri": "https://localhost:8080/",
          "height": 147
        },
        "id": "Xff1e0XXZw-_",
        "outputId": "521ed950-81e0-4300-d5fa-80b04f62e375"
      },
      "outputs": [
        {
          "data": {
            "text/html": [
              "<div>\n",
              "<style scoped>\n",
              "    .dataframe tbody tr th:only-of-type {\n",
              "        vertical-align: middle;\n",
              "    }\n",
              "\n",
              "    .dataframe tbody tr th {\n",
              "        vertical-align: top;\n",
              "    }\n",
              "\n",
              "    .dataframe thead th {\n",
              "        text-align: right;\n",
              "    }\n",
              "</style>\n",
              "<table border=\"1\" class=\"dataframe\">\n",
              "  <thead>\n",
              "    <tr style=\"text-align: right;\">\n",
              "      <th></th>\n",
              "      <th>0</th>\n",
              "    </tr>\n",
              "  </thead>\n",
              "  <tbody>\n",
              "    <tr>\n",
              "      <th>text</th>\n",
              "      <td>0</td>\n",
              "    </tr>\n",
              "    <tr>\n",
              "      <th>rating</th>\n",
              "      <td>0</td>\n",
              "    </tr>\n",
              "  </tbody>\n",
              "</table>\n",
              "</div><br><label><b>dtype:</b> int64</label>"
            ],
            "text/plain": [
              "text      0\n",
              "rating    0\n",
              "dtype: int64"
            ]
          },
          "execution_count": 6,
          "metadata": {},
          "output_type": "execute_result"
        }
      ],
      "source": [
        "megazine_data.isna().sum()"
      ]
    },
    {
      "cell_type": "code",
      "execution_count": null,
      "metadata": {
        "colab": {
          "base_uri": "https://localhost:8080/",
          "height": 452
        },
        "id": "FhhCwDLzLz_p",
        "outputId": "50857496-4563-43bc-923a-ab95cf308e5f"
      },
      "outputs": [
        {
          "data": {
            "image/png": "[encoded data removed]",
            "text/plain": [
              "<Figure size 640x480 with 1 Axes>"
            ]
          },
          "metadata": {},
          "output_type": "display_data"
        }
      ],
      "source": [
        "# @title Rating\n",
        "\n",
        "from matplotlib import pyplot as plt\n",
        "megazine_data['rating'].plot(kind='hist', bins=20, title='stars')\n",
        "plt.gca().spines[['top', 'right',]].set_visible(False)"
      ]
    },
    {
      "cell_type": "markdown",
      "metadata": {
        "id": "iu_qVi0jMkPS"
      },
      "source": [
        "## Get sentiment scores based on the user given ratings"
      ]
    },
    {
      "cell_type": "code",
      "execution_count": null,
      "metadata": {
        "id": "MolPGVnQGcgA"
      },
      "outputs": [],
      "source": [
        "def get_sentiment(stars):\n",
        "  if stars <= 2:\n",
        "    return 0\n",
        "  elif stars == 3:\n",
        "    return 1\n",
        "  elif stars >= 4:\n",
        "    return 2"
      ]
    },
    {
      "cell_type": "markdown",
      "metadata": {
        "id": "AqAGKnibfPiF"
      },
      "source": [
        "### Apply the get_sentiment function"
      ]
    },
    {
      "cell_type": "code",
      "execution_count": null,
      "metadata": {
        "id": "vjjgZBLpGmRQ"
      },
      "outputs": [],
      "source": [
        "megazine_data['sentiment'] = megazine_data['rating'].apply(get_sentiment)"
      ]
    },
    {
      "cell_type": "code",
      "execution_count": null,
      "metadata": {
        "colab": {
          "base_uri": "https://localhost:8080/",
          "height": 206
        },
        "id": "HtGKbHkIGsnl",
        "outputId": "1c749323-50e2-498e-b683-32c7065dc926"
      },
      "outputs": [
        {
          "data": {
            "application/vnd.google.colaboratory.intrinsic+json": {
              "summary": "{\n  \"name\": \"megazine_data\",\n  \"rows\": 71497,\n  \"fields\": [\n    {\n      \"column\": \"text\",\n      \"properties\": {\n        \"dtype\": \"string\",\n        \"num_unique_values\": 65233,\n        \"samples\": [\n          \"I've been a Sunset subscriber off and on for years. They are the most well-regarded magazine out here in California, for gardeners, cooks and do it your-selfers.<br /><br />  Each issue offers a regional spotlight, offering travel, lodging and special interest activities. It's a great resource for anyone looking for perhaps a different area to visit.<br /><br />  The cooks section is always great and usually I can find at least 4 recipes to use in my kitchen each issue. Sunset also offers their recipe annuals, which have become treasured favorites in my kitchen. These hardbound books are a compilation of all Sunsets recipes. For those that love bread baking, Sunset offers some simply awesome bread recipes. All recipes are tested first in Sunsets' kitchens, before publication.<br /><br />  Sunsets garden section contains monthly tips and reminders for doing seasonal chores. The planting guides are a novice gardeners best friend. Every issue devotes itself to between two and three garden projects-offered step by step, and again-only after being tested in Sunsets own gardens.<br /><br />  Add to that the many great home design feature and projects, you get a magazine worth 3 times the amount they charge. If you've never tried Sunset magazine, I can honestly say you're in for a treat.\",\n          \"good price\",\n          \"I ordered this for my husband for valentines day...It's now April...no magazine : ((<br />Not very happy at all..but will wait one more month before I ask for my money back.\"\n        ],\n        \"semantic_type\": \"\",\n        \"description\": \"\"\n      }\n    },\n    {\n      \"column\": \"rating\",\n      \"properties\": {\n        \"dtype\": \"number\",\n        \"std\": 1.4606353821848226,\n        \"min\": 1.0,\n        \"max\": 5.0,\n        \"num_unique_values\": 5,\n        \"samples\": [\n          4.0,\n          3.0,\n          1.0\n        ],\n        \"semantic_type\": \"\",\n        \"description\": \"\"\n      }\n    },\n    {\n      \"column\": \"sentiment\",\n      \"properties\": {\n        \"dtype\": \"number\",\n        \"std\": 0,\n        \"min\": 0,\n        \"max\": 2,\n        \"num_unique_values\": 3,\n        \"samples\": [\n          2,\n          0,\n          1\n        ],\n        \"semantic_type\": \"\",\n        \"description\": \"\"\n      }\n    }\n  ]\n}",
              "type": "dataframe",
              "variable_name": "megazine_data"
            },
            "text/html": [
              "\n",
              "  <div id=\"df-91593e26-de2f-4131-be62-fcd37e657bfc\" class=\"colab-df-container\">\n",
              "    <div>\n",
              "<style scoped>\n",
              "    .dataframe tbody tr th:only-of-type {\n",
              "        vertical-align: middle;\n",
              "    }\n",
              "\n",
              "    .dataframe tbody tr th {\n",
              "        vertical-align: top;\n",
              "    }\n",
              "\n",
              "    .dataframe thead th {\n",
              "        text-align: right;\n",
              "    }\n",
              "</style>\n",
              "<table border=\"1\" class=\"dataframe\">\n",
              "  <thead>\n",
              "    <tr style=\"text-align: right;\">\n",
              "      <th></th>\n",
              "      <th>text</th>\n",
              "      <th>rating</th>\n",
              "      <th>sentiment</th>\n",
              "    </tr>\n",
              "  </thead>\n",
              "  <tbody>\n",
              "    <tr>\n",
              "      <th>0</th>\n",
              "      <td>Wonderful recipes in this magazine.</td>\n",
              "      <td>5.0</td>\n",
              "      <td>2</td>\n",
              "    </tr>\n",
              "    <tr>\n",
              "      <th>1</th>\n",
              "      <td>Great sports magazine that's on my 9 year olds...</td>\n",
              "      <td>4.0</td>\n",
              "      <td>2</td>\n",
              "    </tr>\n",
              "    <tr>\n",
              "      <th>2</th>\n",
              "      <td>\"Joy of Kosher\" magazine fills a much-needed n...</td>\n",
              "      <td>5.0</td>\n",
              "      <td>2</td>\n",
              "    </tr>\n",
              "    <tr>\n",
              "      <th>3</th>\n",
              "      <td>I've been addicted to Martha Stewart's Everyda...</td>\n",
              "      <td>5.0</td>\n",
              "      <td>2</td>\n",
              "    </tr>\n",
              "    <tr>\n",
              "      <th>4</th>\n",
              "      <td>Too many ads!</td>\n",
              "      <td>1.0</td>\n",
              "      <td>0</td>\n",
              "    </tr>\n",
              "  </tbody>\n",
              "</table>\n",
              "</div>\n",
              "    <div class=\"colab-df-buttons\">\n",
              "\n",
              "  <div class=\"colab-df-container\">\n",
              "    <button class=\"colab-df-convert\" onclick=\"convertToInteractive('df-91593e26-de2f-4131-be62-fcd37e657bfc')\"\n",
              "            title=\"Convert this dataframe to an interactive table.\"\n",
              "            style=\"display:none;\">\n",
              "\n",
              "  <svg xmlns=\"http://www.w3.org/2000/svg\" height=\"24px\" viewBox=\"0 -960 960 960\">\n",
              "    <path d=\"M120-120v-720h720v720H120Zm60-500h600v-160H180v160Zm220 220h160v-160H400v160Zm0 220h160v-160H400v160ZM180-400h160v-160H180v160Zm440 0h160v-160H620v160ZM180-180h160v-160H180v160Zm440 0h160v-160H620v160Z\"/>\n",
              "  </svg>\n",
              "    </button>\n",
              "\n",
              "  <style>\n",
              "    .colab-df-container {\n",
              "      display:flex;\n",
              "      gap: 12px;\n",
              "    }\n",
              "\n",
              "    .colab-df-convert {\n",
              "      background-color: #E8F0FE;\n",
              "      border: none;\n",
              "      border-radius: 50%;\n",
              "      cursor: pointer;\n",
              "      display: none;\n",
              "      fill: #1967D2;\n",
              "      height: 32px;\n",
              "      padding: 0 0 0 0;\n",
              "      width: 32px;\n",
              "    }\n",
              "\n",
              "    .colab-df-convert:hover {\n",
              "      background-color: #E2EBFA;\n",
              "      box-shadow: 0px 1px 2px rgba(60, 64, 67, 0.3), 0px 1px 3px 1px rgba(60, 64, 67, 0.15);\n",
              "      fill: #174EA6;\n",
              "    }\n",
              "\n",
              "    .colab-df-buttons div {\n",
              "      margin-bottom: 4px;\n",
              "    }\n",
              "\n",
              "    [theme=dark] .colab-df-convert {\n",
              "      background-color: #3B4455;\n",
              "      fill: #D2E3FC;\n",
              "    }\n",
              "\n",
              "    [theme=dark] .colab-df-convert:hover {\n",
              "      background-color: #434B5C;\n",
              "      box-shadow: 0px 1px 3px 1px rgba(0, 0, 0, 0.15);\n",
              "      filter: drop-shadow(0px 1px 2px rgba(0, 0, 0, 0.3));\n",
              "      fill: #FFFFFF;\n",
              "    }\n",
              "  </style>\n",
              "\n",
              "    <script>\n",
              "      const buttonEl =\n",
              "        document.querySelector('#df-91593e26-de2f-4131-be62-fcd37e657bfc button.colab-df-convert');\n",
              "      buttonEl.style.display =\n",
              "        google.colab.kernel.accessAllowed ? 'block' : 'none';\n",
              "\n",
              "      async function convertToInteractive(key) {\n",
              "        const element = document.querySelector('#df-91593e26-de2f-4131-be62-fcd37e657bfc');\n",
              "        const dataTable =\n",
              "          await google.colab.kernel.invokeFunction('convertToInteractive',\n",
              "                                                    [key], {});\n",
              "        if (!dataTable) return;\n",
              "\n",
              "        const docLinkHtml = 'Like what you see? Visit the ' +\n",
              "          '<a target=\"_blank\" href=https://colab.research.google.com/notebooks/data_table.ipynb>data table notebook</a>'\n",
              "          + ' to learn more about interactive tables.';\n",
              "        element.innerHTML = '';\n",
              "        dataTable['output_type'] = 'display_data';\n",
              "        await google.colab.output.renderOutput(dataTable, element);\n",
              "        const docLink = document.createElement('div');\n",
              "        docLink.innerHTML = docLinkHtml;\n",
              "        element.appendChild(docLink);\n",
              "      }\n",
              "    </script>\n",
              "  </div>\n",
              "\n",
              "\n",
              "<div id=\"df-52dbbcae-3173-47ec-ad41-ee64b8d7e059\">\n",
              "  <button class=\"colab-df-quickchart\" onclick=\"quickchart('df-52dbbcae-3173-47ec-ad41-ee64b8d7e059')\"\n",
              "            title=\"Suggest charts\"\n",
              "            style=\"display:none;\">\n",
              "\n",
              "<svg xmlns=\"http://www.w3.org/2000/svg\" height=\"24px\"viewBox=\"0 0 24 24\"\n",
              "     width=\"24px\">\n",
              "    <g>\n",
              "        <path d=\"M19 3H5c-1.1 0-2 .9-2 2v14c0 1.1.9 2 2 2h14c1.1 0 2-.9 2-2V5c0-1.1-.9-2-2-2zM9 17H7v-7h2v7zm4 0h-2V7h2v10zm4 0h-2v-4h2v4z\"/>\n",
              "    </g>\n",
              "</svg>\n",
              "  </button>\n",
              "\n",
              "<style>\n",
              "  .colab-df-quickchart {\n",
              "      --bg-color: #E8F0FE;\n",
              "      --fill-color: #1967D2;\n",
              "      --hover-bg-color: #E2EBFA;\n",
              "      --hover-fill-color: #174EA6;\n",
              "      --disabled-fill-color: #AAA;\n",
              "      --disabled-bg-color: #DDD;\n",
              "  }\n",
              "\n",
              "  [theme=dark] .colab-df-quickchart {\n",
              "      --bg-color: #3B4455;\n",
              "      --fill-color: #D2E3FC;\n",
              "      --hover-bg-color: #434B5C;\n",
              "      --hover-fill-color: #FFFFFF;\n",
              "      --disabled-bg-color: #3B4455;\n",
              "      --disabled-fill-color: #666;\n",
              "  }\n",
              "\n",
              "  .colab-df-quickchart {\n",
              "    background-color: var(--bg-color);\n",
              "    border: none;\n",
              "    border-radius: 50%;\n",
              "    cursor: pointer;\n",
              "    display: none;\n",
              "    fill: var(--fill-color);\n",
              "    height: 32px;\n",
              "    padding: 0;\n",
              "    width: 32px;\n",
              "  }\n",
              "\n",
              "  .colab-df-quickchart:hover {\n",
              "    background-color: var(--hover-bg-color);\n",
              "    box-shadow: 0 1px 2px rgba(60, 64, 67, 0.3), 0 1px 3px 1px rgba(60, 64, 67, 0.15);\n",
              "    fill: var(--button-hover-fill-color);\n",
              "  }\n",
              "\n",
              "  .colab-df-quickchart-complete:disabled,\n",
              "  .colab-df-quickchart-complete:disabled:hover {\n",
              "    background-color: var(--disabled-bg-color);\n",
              "    fill: var(--disabled-fill-color);\n",
              "    box-shadow: none;\n",
              "  }\n",
              "\n",
              "  .colab-df-spinner {\n",
              "    border: 2px solid var(--fill-color);\n",
              "    border-color: transparent;\n",
              "    border-bottom-color: var(--fill-color);\n",
              "    animation:\n",
              "      spin 1s steps(1) infinite;\n",
              "  }\n",
              "\n",
              "  @keyframes spin {\n",
              "    0% {\n",
              "      border-color: transparent;\n",
              "      border-bottom-color: var(--fill-color);\n",
              "      border-left-color: var(--fill-color);\n",
              "    }\n",
              "    20% {\n",
              "      border-color: transparent;\n",
              "      border-left-color: var(--fill-color);\n",
              "      border-top-color: var(--fill-color);\n",
              "    }\n",
              "    30% {\n",
              "      border-color: transparent;\n",
              "      border-left-color: var(--fill-color);\n",
              "      border-top-color: var(--fill-color);\n",
              "      border-right-color: var(--fill-color);\n",
              "    }\n",
              "    40% {\n",
              "      border-color: transparent;\n",
              "      border-right-color: var(--fill-color);\n",
              "      border-top-color: var(--fill-color);\n",
              "    }\n",
              "    60% {\n",
              "      border-color: transparent;\n",
              "      border-right-color: var(--fill-color);\n",
              "    }\n",
              "    80% {\n",
              "      border-color: transparent;\n",
              "      border-right-color: var(--fill-color);\n",
              "      border-bottom-color: var(--fill-color);\n",
              "    }\n",
              "    90% {\n",
              "      border-color: transparent;\n",
              "      border-bottom-color: var(--fill-color);\n",
              "    }\n",
              "  }\n",
              "</style>\n",
              "\n",
              "  <script>\n",
              "    async function quickchart(key) {\n",
              "      const quickchartButtonEl =\n",
              "        document.querySelector('#' + key + ' button');\n",
              "      quickchartButtonEl.disabled = true;  // To prevent multiple clicks.\n",
              "      quickchartButtonEl.classList.add('colab-df-spinner');\n",
              "      try {\n",
              "        const charts = await google.colab.kernel.invokeFunction(\n",
              "            'suggestCharts', [key], {});\n",
              "      } catch (error) {\n",
              "        console.error('Error during call to suggestCharts:', error);\n",
              "      }\n",
              "      quickchartButtonEl.classList.remove('colab-df-spinner');\n",
              "      quickchartButtonEl.classList.add('colab-df-quickchart-complete');\n",
              "    }\n",
              "    (() => {\n",
              "      let quickchartButtonEl =\n",
              "        document.querySelector('#df-52dbbcae-3173-47ec-ad41-ee64b8d7e059 button');\n",
              "      quickchartButtonEl.style.display =\n",
              "        google.colab.kernel.accessAllowed ? 'block' : 'none';\n",
              "    })();\n",
              "  </script>\n",
              "</div>\n",
              "\n",
              "    </div>\n",
              "  </div>\n"
            ],
            "text/plain": [
              "                                                text  rating  sentiment\n",
              "0                Wonderful recipes in this magazine.     5.0          2\n",
              "1  Great sports magazine that's on my 9 year olds...     4.0          2\n",
              "2  \"Joy of Kosher\" magazine fills a much-needed n...     5.0          2\n",
              "3  I've been addicted to Martha Stewart's Everyda...     5.0          2\n",
              "4                                      Too many ads!     1.0          0"
            ]
          },
          "execution_count": 10,
          "metadata": {},
          "output_type": "execute_result"
        }
      ],
      "source": [
        "megazine_data.head()"
      ]
    },
    {
      "cell_type": "markdown",
      "metadata": {
        "id": "L5j-iMjWfeNi"
      },
      "source": [
        "## Class distribution after mapping sentiments"
      ]
    },
    {
      "cell_type": "code",
      "execution_count": null,
      "metadata": {
        "colab": {
          "base_uri": "https://localhost:8080/",
          "height": 210
        },
        "id": "0PqiFilwGwam",
        "outputId": "5206da07-4bdb-432a-9ab4-fd278401378a"
      },
      "outputs": [
        {
          "data": {
            "text/html": [
              "<div>\n",
              "<style scoped>\n",
              "    .dataframe tbody tr th:only-of-type {\n",
              "        vertical-align: middle;\n",
              "    }\n",
              "\n",
              "    .dataframe tbody tr th {\n",
              "        vertical-align: top;\n",
              "    }\n",
              "\n",
              "    .dataframe thead th {\n",
              "        text-align: right;\n",
              "    }\n",
              "</style>\n",
              "<table border=\"1\" class=\"dataframe\">\n",
              "  <thead>\n",
              "    <tr style=\"text-align: right;\">\n",
              "      <th></th>\n",
              "      <th>count</th>\n",
              "    </tr>\n",
              "    <tr>\n",
              "      <th>sentiment</th>\n",
              "      <th></th>\n",
              "    </tr>\n",
              "  </thead>\n",
              "  <tbody>\n",
              "    <tr>\n",
              "      <th>2</th>\n",
              "      <td>52826</td>\n",
              "    </tr>\n",
              "    <tr>\n",
              "      <th>0</th>\n",
              "      <td>13638</td>\n",
              "    </tr>\n",
              "    <tr>\n",
              "      <th>1</th>\n",
              "      <td>5033</td>\n",
              "    </tr>\n",
              "  </tbody>\n",
              "</table>\n",
              "</div><br><label><b>dtype:</b> int64</label>"
            ],
            "text/plain": [
              "sentiment\n",
              "2    52826\n",
              "0    13638\n",
              "1     5033\n",
              "Name: count, dtype: int64"
            ]
          },
          "execution_count": 11,
          "metadata": {},
          "output_type": "execute_result"
        }
      ],
      "source": [
        "megazine_data['sentiment'].value_counts()"
      ]
    },
    {
      "cell_type": "code",
      "execution_count": null,
      "metadata": {
        "colab": {
          "base_uri": "https://localhost:8080/",
          "height": 452
        },
        "id": "jl304_Wekr1K",
        "outputId": "7f6de0fc-9fec-4967-c588-75a60a1fd4d3"
      },
      "outputs": [
        {
          "data": {
            "image/png": "[encoded data removed]",
            "text/plain": [
              "<Figure size 640x480 with 1 Axes>"
            ]
          },
          "metadata": {},
          "output_type": "display_data"
        }
      ],
      "source": [
        "# @title Sentiment\n",
        "\n",
        "from matplotlib import pyplot as plt\n",
        "megazine_data['sentiment'].plot(kind='hist', bins=20, title='Sentiment')\n",
        "plt.gca().spines[['top', 'right',]].set_visible(False)"
      ]
    },
    {
      "cell_type": "markdown",
      "metadata": {
        "id": "iSZVzsG8Mxmd"
      },
      "source": [
        "## Data preprocessing"
      ]
    },
    {
      "cell_type": "code",
      "execution_count": null,
      "metadata": {
        "colab": {
          "base_uri": "https://localhost:8080/"
        },
        "id": "g0AnOII9chnb",
        "outputId": "e6650681-0988-4173-c375-75bbccd51125"
      },
      "outputs": [
        {
          "name": "stderr",
          "output_type": "stream",
          "text": [
            "[nltk_data] Downloading package punkt to /root/nltk_data...\n",
            "[nltk_data]   Unzipping tokenizers/punkt.zip.\n",
            "[nltk_data] Downloading package averaged_perceptron_tagger to\n",
            "[nltk_data]     /root/nltk_data...\n",
            "[nltk_data]   Unzipping taggers/averaged_perceptron_tagger.zip.\n",
            "[nltk_data] Downloading package wordnet to /root/nltk_data...\n",
            "[nltk_data] Downloading package stopwords to /root/nltk_data...\n",
            "[nltk_data]   Unzipping corpora/stopwords.zip.\n"
          ]
        },
        {
          "data": {
            "text/plain": [
              "True"
            ]
          },
          "execution_count": 13,
          "metadata": {},
          "output_type": "execute_result"
        }
      ],
      "source": [
        "from sklearn.pipeline import Pipeline\n",
        "from sklearn.preprocessing import FunctionTransformer\n",
        "from sklearn.feature_extraction.text import TfidfVectorizer\n",
        "from sklearn.model_selection import train_test_split\n",
        "from imblearn.over_sampling import RandomOverSampler\n",
        "import re, string\n",
        "import nltk\n",
        "from nltk.corpus import stopwords\n",
        "from nltk.stem import WordNetLemmatizer\n",
        "from nltk.tokenize import word_tokenize\n",
        "nltk.download('punkt')\n",
        "nltk.download('averaged_perceptron_tagger')\n",
        "nltk.download('wordnet')\n",
        "nltk.download('stopwords')"
      ]
    },
    {
      "cell_type": "code",
      "execution_count": null,
      "metadata": {
        "id": "JlM_G9pFCpXr"
      },
      "outputs": [],
      "source": [
        "# STOPWORD REMOVAL\n",
        "def remove_stopwords(text):\n",
        "    stop_words = set(stopwords.words('english'))\n",
        "    filtered_words = [word for word in text.split() if word not in stop_words]\n",
        "    return ' '.join(filtered_words)\n",
        "\n",
        "# LEMMATIZATION\n",
        "# Initialize the lemmatizer\n",
        "wl = WordNetLemmatizer()\n",
        "\n",
        "def lemmatizer(text):\n",
        "    tokens = word_tokenize(text)\n",
        "    lemmatized_tokens = [wl.lemmatize(token) for token in tokens]\n",
        "    return ' '.join(lemmatized_tokens)\n",
        "\n",
        "\n",
        "def preprocess_text(text):\n",
        "  # text = str(text)\n",
        "  text = text.lower()\n",
        "  text = text.strip()\n",
        "\n",
        "  # Remove URLs/links\n",
        "  text = re.sub(r'http\\S+|www.\\S+', '', text)\n",
        "  text = re.sub(r'\\(.*?\\)|\\[.*?\\]', '', text)\n",
        "  text = re.sub(r'[\\(\\)\\[\\]]', '', text)\n",
        "  text = re.compile('<.`/*?>').sub('', text)\n",
        "  text = re.sub(r'\\[[0-9]*]', '', text)\n",
        "  text = re.sub(r'[^\\w\\s]', '', text)\n",
        "  text = re.sub(r'\\d+', '', text)\n",
        "  text = re.sub(r'[^a-zA-Z0-9\\s]', '', text)\n",
        "  text = re.sub(r'\\s+', ' ', text)\n",
        "  return text"
      ]
    },
    {
      "cell_type": "code",
      "execution_count": null,
      "metadata": {
        "id": "2hAgQBYaC5Z1"
      },
      "outputs": [],
      "source": [
        "def final_preprocess(texts):\n",
        "  texts = [preprocess_text(text) for text in texts] # Apply preprocess_text to each text in the list\n",
        "  # texts = [remove_stopwords(text) for text in texts] # Apply remove_stopwords to each text in the list\n",
        "  texts = [lemmatizer(text) for text in texts]  # Apply lemmatizer to each text in the list\n",
        "  return texts"
      ]
    },
    {
      "cell_type": "markdown",
      "metadata": {
        "id": "_wSQX1AKM4AI"
      },
      "source": [
        "## Preprocessing pipeline"
      ]
    },
    {
      "cell_type": "code",
      "execution_count": null,
      "metadata": {
        "id": "o99sImSlda5Y"
      },
      "outputs": [],
      "source": [
        "# Define a function to apply preprocessing and splitting\n",
        "def apply_pipeline(texts):\n",
        "    pipeline = Pipeline([\n",
        "        ('preprocessor', FunctionTransformer(lambda x: final_preprocess(x), validate=False)),\n",
        "    ])\n",
        "\n",
        "    # Fit and transform the data\n",
        "    X_transformed = pipeline.fit_transform(texts)\n",
        "    return X_transformed"
      ]
    },
    {
      "cell_type": "markdown",
      "metadata": {
        "id": "NOA-ME3rbyig"
      },
      "source": [
        "## Resampler function"
      ]
    },
    {
      "cell_type": "code",
      "execution_count": null,
      "metadata": {
        "id": "LYkvrB__rF4u"
      },
      "outputs": [],
      "source": [
        "def resampler(X, y):\n",
        "  ro = RandomOverSampler()\n",
        "  X, y = ro.fit_resample(X, y)\n",
        "  return X, y"
      ]
    },
    {
      "cell_type": "markdown",
      "metadata": {
        "id": "fedTTBc0b1wI"
      },
      "source": [
        "## GloVe vectorizer function"
      ]
    },
    {
      "cell_type": "code",
      "execution_count": null,
      "metadata": {
        "id": "bPmJQOSyGlO1"
      },
      "outputs": [],
      "source": [
        "import numpy as np\n",
        "\n",
        "def load_glove_embeddings(file_path):\n",
        "    embeddings_index = {}\n",
        "    with open(file_path, 'r', encoding='utf-8') as f:\n",
        "        for line in f:\n",
        "            values = line.split()\n",
        "            word = values[0]\n",
        "            vector = np.asarray(values[1:], dtype='float32')\n",
        "            embeddings_index[word] = vector\n",
        "    return embeddings_index\n",
        "\n",
        "# Load GloVe embeddings\n",
        "glove_file = '/content/drive/MyDrive/Amazon megazine data sentiment analysis/glove.6B.100d.txt'\n",
        "embeddings_index = load_glove_embeddings(glove_file)"
      ]
    },
    {
      "cell_type": "code",
      "execution_count": null,
      "metadata": {
        "id": "mlGtbBcRI-G8"
      },
      "outputs": [],
      "source": [
        "def text_to_glove_vector(text, embeddings_index, embedding_dim=100):\n",
        "    words = text.split()\n",
        "    word_vectors = [embeddings_index.get(word, np.zeros(embedding_dim)) for word in words if word in embeddings_index]\n",
        "\n",
        "    # Return the average of the word vectors (single sentence vector)\n",
        "    return np.mean(word_vectors, axis=0) if len(word_vectors) > 0 else np.zeros(embedding_dim)\n",
        "\n",
        "def dataset_to_glove(X, embeddings_index, embedding_dim=100):\n",
        "    return np.array([text_to_glove_vector(text, embeddings_index, embedding_dim) for text in X])"
      ]
    },
    {
      "cell_type": "markdown",
      "metadata": {
        "id": "7FoKTsmNb5Ig"
      },
      "source": [
        "## Splitter function"
      ]
    },
    {
      "cell_type": "code",
      "execution_count": null,
      "metadata": {
        "id": "-JggdxLlrWBd"
      },
      "outputs": [],
      "source": [
        "def splitter(X, y):\n",
        "  X_train, X_test, y_train, y_test = train_test_split(X, y, test_size=0.2, random_state=42)\n",
        "  return X_train, X_test, y_train, y_test"
      ]
    },
    {
      "cell_type": "markdown",
      "metadata": {
        "id": "XwfnLRk1cJOJ"
      },
      "source": [
        "## Applying preprocessing pipeline"
      ]
    },
    {
      "cell_type": "code",
      "execution_count": null,
      "metadata": {
        "id": "TCdtIUxNski5"
      },
      "outputs": [],
      "source": [
        "X_transformed = apply_pipeline(megazine_data['text'])"
      ]
    },
    {
      "cell_type": "code",
      "execution_count": null,
      "metadata": {
        "colab": {
          "base_uri": "https://localhost:8080/"
        },
        "id": "Ya9d1SHkiDQl",
        "outputId": "dd33e1b7-4d54-45ff-8510-8231ac85f0ef"
      },
      "outputs": [
        {
          "data": {
            "text/plain": [
              "['wonderful recipe in this magazine',\n",
              " 'great sport magazine thats on my year old level',\n",
              " 'joy of kosher magazine fill a muchneeded niche for kosher recipe cookbook review and the kosher lifestyle not found in other mainstream magazine sporting beautifullyphotographed cover and spread that are equally at home next to powerhouse food and cooking magazine joy of kosher is your source for all thing kosher far beyond mere recipe joy of kosher includes news on kosher restaurant kosher wine cookbook kitchen tool holiday decorating tip and article on kosher travel youll read interview with kosher chef and entrepreneur and spotlight on new kosher product kosher wine and wine pairing are given plenty of space there are dozen of upandcoming kosher winery in israel and many toprated wine among thembr br more than just a cooking magazine joy of kosher is a lifestyle magazine sure the emphasis is on kosher food and wine but youll also find article on food and health family outingsactivities and tradition youll also find article that explore jewish belief and their relationship to food and the kosher recipe represent the culinary wealth of the jewish diaspora and beyond youll find italian caponata and herbed spaetzle rubbing elbow with whitefish shu mai dumpling beef larb or moroccaninspired tagines along with upscale kosher dish that mirror current trend youll see many article and recipe from famous chef in the kosher food world including jamie geller kosher pastry chef paula shoyer and chef laura frankel br br most importantly the recipe are completely approachable using ingredient that should be readily available at your supermarket each issue also includes a handy recipe and nutrition guide that feature an alphabetical listing of all recipe along with calorie fiber sodium carbs fat and protein a i watch my fat and calorie intake i appreciated having this information readily available a not many cooking magazine provide it on a consistent basis recent issue have also put a spotlight on glutenfree and other special diet and a special focus on seasonal foodsbr br one thing youll quickly notice is that advertising take up a fair chunk of the magazine in the winter issue i counted about page of full and halfpage ad out of about total the colorful advertising in many case blend in fairly seamlessly with the rest of the contentbr br the joy of kosher website offer additional article recipe cookbook review and giveaway that have introduced me to some great new kosher cookbook whether youre looking for new idea for quick and easy kosher meal decorating idea or kosher vacation rental and getaway youre sure to love joy of kosher',\n",
              " 'ive been addicted to martha stewart everyday food for several year but until recently i had been buying it by the issue instead of shelling out for a year subscriptionbr br i love the fact that everyday food take everyday ingredient and make them extraordinary example in a recent issue different chicken recipe were given along with a primer on chicken and a wine pairing guide the included chicken recipe ranged from classic such a chicken tender bbq chicken and chicken club salad to the more exotic greek chicken cutlet and indianspiced braised chicken br br another issue had a divine nohassle dessert that tasted like a laborintensive tiramisu whipped ricotta sugar and instant espresso topped with crumbled cooky bonus no raw eggsbr br everyday food also ha an eye out for healthier food including a focus on whole grain another recent issue featured a delicious bulgur breakfast porridge and veggie burger with tahini mayonnaise in the back of each issue is an everyday pantry checklist perfect for ripping out and taking along to the store there is also a nutritional guide provided br br in addition everyday food frequently feature article on kitchen tool and appliance that are helpful for novice and experienced cook alikebr br my main criticism is that for a slim magazine roughly consists of distracting print ad also everyday food is on the expensive side at for issue and i liked it better having the nutritional info listed at the back rather than the front but these are minor gripesbr br compact and colorful everyday food is a wonderful tool for any chef particularly if youre short on time and youre looking for new way to spice up your weeknight menu',\n",
              " 'too many ad',\n",
              " 'i wa so excited about this magazine but didnt find it that good a lot of the information wa repeated in other magazine instead ive gone with people magazine',\n",
              " 'ive renewed this magazine for my mom and she love it',\n",
              " 'it took two month before she got her first magazine she doe look forward to getting it she love to get mail',\n",
              " 'i have been reading digitally for year but decided to switch to print so i could do the crossword and save the issue',\n",
              " 'for many year i have subscribed to piecework magazine because i love reading article about the history of beautiful handmade item from time to time ive thought about letting my subscription lapse but then i remember that piecework is the one magazine that i always look at and read a soon a each new issue arrivesbr br when piecework wa first launched it had more emphasis on historical textile than it doe at present today because the magazine ha already published so many article on historical textile the emphasis is more on using historical textile a inspiration for modern project but each issue still includes complete instruction for a few small project that use the historicalethnic design or technique described in the article br br in recent year piecework ha published annual lace and historical knitting issue which have multiple article dealing with those special topic i love the special issue but i also enjoy the regular issue that include a variety of short article on several different kind of handworkranging from sewn apron through beaded bag the bayeux tapestry embroidered pincushion a silk wedding dress made from a wwii parachute coptic sock nursery rhyme button decorative braided landscape linen embellished with hardanger embroidery or some other kind of handmade item depending on the issue the short article are illustrated with historical photo and often accompanied by reference for further reading in truth i have never received a single issue of piecework that didnt contain at least one article that wa well worth the price of the magazine',\n",
              " 'i really really enjoy this magazine so much so that i opted to extend my subscription for more year it filled with great advice on how to save money little lifestyle tip and if you are an avid coupon clipper the magazine will pay for itself because there always lot of coupon included',\n",
              " 'great magazine lot of good recipe that are easy and yum',\n",
              " 'i got this magizime for many yeats',\n",
              " 'this is a great magazine for cat lover i n have catsi pas the magazine on to the little girl next door who just got her first cat',\n",
              " 'aaa',\n",
              " 'i have subscribed to this great magazine since and i am always astounded by the great spiritual article the mantra meditation anatomy dissection the beginner program and the advanced practice i am always learning and i have decided to scan some of my favorite article a keeper to read again or pas onto people who may need some independent perspective on lifebr br a a little yogi you know it is not all about feeding the physical strength but the mind and spirit have to be engaged a well a a kundalini yogi i find the article are just a applicable to my practice one of the few magazine that really provide the depth that i am looking for even though the advertising can be a little annoying sometimes when i am trying to cut some of the article for prosperity',\n",
              " 'the copy i received did not even look like real magazine they looked like promotional magazine sample mostly ad very little content',\n",
              " 'the magazine that arrived felt like a very cheap version it didnt look at all like a regular magazine it looked like a sample or something very little actual content most of the magazine is ad even the little content there is felt like an ad',\n",
              " 'we were looking for a magazine for our year old that would allow him to discover new thing and let u expose him to the amazing thing around him national geographic for kid sounded perfectbr br unfortunately the magazine turned out to be filled with advertisement and noneducational article at least once per issue a story is dedicated to an childrens movie also there are lot of ad for video game many of which contain violent content br br in the end the magazine seemed more like saturday morning tv rather than a pb nature show which is what we were expecting the potential is there but in all honesty i think we get more out of flipping through a national geographic with our son then we do flipping through a national geographick kidsbr br ranger rick big backyard are better choice although they are wildlifenature specific it would be nice if national geographic really could make a childrens version of their adult magazine keep the substance and throw out the garbage',\n",
              " 'each month i read this magazine cover to cover ten year ago i fell in love with alaska on my once in a lifetime trip now i am on my th visit to the state and hope to find a way to continue visiting this magazine help me make it to the next trip and give me more and more idea about what to do when i am in the statebr br the magazine is great collection of fiction short and feature story that truly let you know what it is like to live in alaska it a close a an out of stater can come to being a residentbr br a well a good writing each issue brings ton of beautiful image if you know someone who is planning on visiting alaska think about getting them a gift subscription to alaska magazine i can guarantee they will appreciate it just be careful alaska is a adictive a nicotine',\n",
              " 'i love it',\n",
              " 'my boyfriend absolutely love this magazine it about the only thing he actually read there are plenty of high quality picture so even i find it interesting i would highly reccommend it',\n",
              " 'there is something in each edition of the magazine for everyone in the family i look forward to receiving it each month',\n",
              " 'i read every issue of the new york i am getting it weekly for a total of only this is the best magazine value out there',\n",
              " 'this is a beautiful magazine just a bit too modern for me most of the design are for large really expensive home',\n",
              " 'full of helpful and interesting article',\n",
              " 'a timeless classic',\n",
              " 'love it',\n",
              " 'i love this magazine it is expensive but worth it i have been getting it for a year now and love every issue have made a lot of thing from them very easy instruction and great idea it is the only magazine i get now',\n",
              " 'i love tv guide and have always been a huge fan i wa a subscriber year ago but wound up canceling due to the tv show schedule the cable company provides right on the tv seemed like a waste of money to subscribe to tv guide when i could just take a look at the schedule chart right on the tv for free but i missed tv guide and when i spotted a one year subscription for both print and kindle for only i couldnt resist and subscribed once again ive now received my first issue and im thrilled i really have missed this magazine yes i can see the same tv show schedule right on the tv but i like having the paper magazine by my side to check out the schedule and i especially love to read the article and look over the tv show rating result and of course the crossword puzzle so happy to have my weekly crossword puzzle back i do love my kindle and use it all the time i like that i have tv guide access there but i definitely prefer having the actual magazine in my hand to hold and read if you are a fan of television i can not recommend tv guide enough definitely a must have for tv watcher and the price cant be beat',\n",
              " 'i enjoy reading o',\n",
              " 'perfect in every way',\n",
              " 'great product',\n",
              " 'im enjoying the bird bloom a lot working on landscaping for attracting bird hummingbird and butterfly',\n",
              " 'have to ask my son',\n",
              " 'great for keeping ahead of the mass concerning new and great beauty product they have fashion stuff in there too but i have my own style and just kind of skim over those part but i love the beauty product review advice and sneak peek good selection of sample tucked in every month',\n",
              " 'i few year ago i ordered this magazine the same thing that happened before is happening again no magazine i wont do this again and i really liked it',\n",
              " 'awesome magazine',\n",
              " 'bought it a a father day gift for my stepfather and i am renewing it a a christmas gift he absolutely love it all the year he been married to my mom he always had a vegetable herb garden even when we had very small back yard a he tended his garden a few day ago he asked how many more issue would he receeive because he like the magazine so much i am going to look into getting him some back issue',\n",
              " 'i am a vietnsm veteran and at this stage of life i wanted a magazine that reflected thing that i grew up through those change that seem so common i guess i wa looking for a magazine that reflected the past like ctacker barrel doe in their restaurant this is full of short comment from sender very little photo or reflection from our past and nothing to sit and show my kid that this wa my life this will give you a head up i just wanted to remember something of the past beside vietnam riot etc that washing machine that television the grocery store the simple life',\n",
              " 'my oldest son a college grad in journalism love poetry and love this magazine so i rated it based on his satisfaction which is a star of excellence and diversity take a while for the subscription to kick in but in the end it is worth it hard to find good publication in this area of interest so if you love poetry this may be worth a try',\n",
              " 'i have purchased this a gift for some time it is only published time a year but the content are excellent for those looking to sit with a magazine and relax and learn how to be healthier reduce stress and live a better life i recommend this journal subscription',\n",
              " 'i order it for my brother and he love it i have never read it marlene nelson',\n",
              " 'a refreshingly nice magazine with more idea than advertising also good ad a nice change from the one i have been subscribing to for so many year excellent quality and nothing online can top the feel of a good magazine held in your hand',\n",
              " 'this wa a gift that wa well received and made the recipient very happy',\n",
              " 'dont read it',\n",
              " 'have liked for several year',\n",
              " 'i like magazine that emphasize travel and culture i like them even more when they focus not just on the popular tourist spot but also on lesser known travel gem that can be found in every state in the nation a magazine that fulfills my wish is new mexico magazinebr br with this monthly publication you get a rundown of the event the place the people the art and the food that make new mexico unique the photography is eye catching and there is a good mixture of article relating to natural attraction v man made point of interest and event a well a a good number of article dedicated to wellknown and not well known attractionsbr br the layout of this publication is good and i like the state map in the front that show the location of the featured destination in each issue there are monthly section for art and food the latter of which includes recipe so that you can create authentic new mexican food right at home for a touch of humor turn near the end of the issue and enjoy the monthly feature called one of our is missing it ha short funny story of new mexican who discover that much of the rest of united state is apparently unaware that new mexico is a u statebr br it fun to learn about place to go and people to meet new mexico ha much to offer in term of natural scenery great food and culture and friendly folk new mexico magazine brings it all together for you in each monthly issue a few le ad would be cool but this is still a very good publication for learning more about new mexico and for planning your next visit',\n",
              " 'politics can make for some entertaining and lively conversation in recent year in particular political talk ha been livelier than ever but it ha also turned ugly and the once civil discourse between dissenting view ha become more opinionated and even personal one magazine that fit in very well with these time of political polarization is the nationbr br the nation is a magazine that is all about political issue from a decidedly left leaning perspective no matter what the issue the nation take a progressive position that seek to bring about change in order to benefit the largest number of people at least in the mind of it writer whether the topic is gun control taxing the wealthy improving health care or expanding government benefit the nation position is frank and always take a leftward slantbr br i read a few different political magazine and have found some of them good even if i dont necessarily agree with every position they take with the nation the formula is similar to that of other political magazine but one difference i have noticed is that the nation seems a little more extreme and angrier than the others of it ilk the article sometimes voice a sense of irritation like the writer just can not believe what is going on around them and why american have not wised up and smelled the dead rat in front of them yes there are some article like this in the other political publication but the nation really let it irritation shine throughbr br this is not to say that the nation is completely without any good article it doe hit the nail on the head with several of them like one promoting churchstate separation civil right and other topic the writer do manage to make some very compelling articulate point the article that voice irritation can sometimes twist reasoning and logic but these social issue article often make good sense and the writer seem to know the topic well yes they are biased but that is precisely what a magazine like this is all about promoting a specific point of view from one side of the issue completing ignoring most or all counter viewpointsbr br i like reading political magazine even if i dont agree with everything they say the nation ha some article that are difficult to stomach but it ha others that offer some good insight into the important issue of the day from an alternative but always left leaning perspective even if you are a dyed in the wool conservative there are still some important thing to learn from the opposition and the nation provides everything you would ever want to know about education the economy foreign policy civil right and more from a distinctly leftward point of view',\n",
              " 'america ha many great wonderland and it system of national park national preserve seashore monument memorial etc is the most developed in the world the many great scenic and historical preservation are spotlighted in this publication national park magazine the magazine of the national park conservation associationbr br national park magazine is published quarterly and can be counted on for about three featured article and standard department the magazine aim to keep it supporter and others informed about the challenge success story and various concern surrounding the different unit of the national park servicebr br this magazine is published by a non profit organization that is focused on conservation and because of that fact the issue tend to talk mainly about the many problem that plague the park and what need to be done to correct them the npca like to talk about it own effort and success in this magazine but it is also quick to point out when more work need to be done other reading in each issue sometimes venture into informative or educational article the informative article are the type one would expect in a publication such a this they feature a specific national park national river etc and then take the reader on a journey throughout the park unit filling the reader in on the important thing to know if planning a visit the educational article are often about animal and present fact that make the animal unique and worth conservingbr br national park magazine is a very nice well written and informative read and there are very few advertisement america ha some amazing national park national monument and other nationally designated site and national park magazine doe a nice job bringing the different unit into your life through it quarterly reporting it would be cool if the magazine talked more about visiting the park and what they offer but you have to keep in mind that this magazine is tied to a non profit organization that is focused on conservation and because of this the writing ten to be geared in an activist direction remember this before you decide to subscribe and enjoy your issue of national park magazine',\n",
              " 'published by the archaeological conservancy american archaeology is a quarterly publication that summarizes many of the important happening in the world of archaeology around the united state the magazine talk about ancient culture and way of life a we interpret them today based on recent archaeological findingsbr br im a supporter of the archaeological conservancy and one of the benefit of supporting this non profit organization is that you get a subscription to this magazine with your membership and it is certainly worth the money a this is easily one of the best magazine of it kind or any kind the article help you get in touch with ancient people understand their way of life and discover what drove native american and others to live the way they livedbr br this publication isnt strictly about the united state it doe venture into other area of the continent from time to time and it doesnt always resort to ancient time for it inspiration some of the article are based on happening from the more recent past sometimes only a hundred or so year ago it show that any piece of history ancient or not can still be worthy of an archaeological discoverybr br american archaeology is a well edited magazine and one thing many reader will greatly appreciate is the lack of advertising other than a few small ad near the beginning and end of each issue the rest of the magazine is advertisement free and even the few ad that exist are not bad at all for the simple fact that they feature relevant service usually seminar and excursion focused on archaeologybr br learning about the past and preserving historic site structure burial mound etc is an important way to discover more about who we are a people american archaeology is an excellent publication for those who want to tap into our heritage and learn more way how we can preserve and interpret these important remnant of human history it one of my favorite magazine and i recommend it to anyone with an interest in this subject',\n",
              " 'i have several magazine that i consult for my reading enjoyment andor enlightenment with most of them i thumb through and focus only on article that seem interesting but there are a few magazine that seem to hit the mark so consistently that i read the almost the entire issue month after month one good example of the latter is archaeology magazinebr br what set this magazine apart from most others is the content itself yes there are some cool illustration but where archaeology magazine shine is with the article themselves they are packed full of fascinating information and they enrich your knowledge of history and i dont mean refresh your knowledge i mean enrich because much of what you read here is going to involve historical fact you likely never heard before i come away from every issue learning something brand new about a specific era in world history and the culture that lived and thrived during that timebr br archaeology magazine ha very few advertisement most of them are clustered at the end of each issue so you get uninterrupted reading from start to finish another thing i love is that most of the article are not excessively long some are only a half page or le at most they might cover four page top i like this because im the type who may not want to commit to a long say page magazine article i read some magazine with long article like this and the moment i see that it going to be this long and i always check before i start reading i often skip the article completelybr br yet another reason to love archaeology magazine is the quality of the writing the editor make sure each article is clear and concise with proper grammar and clarity the article are educational and they maintain an academic style youre not going to find much in the way of humor or other creative form of non fiction prose no archaeology magazine stick with the fact and present them in and informative way that archaeology and history enthusiast will appreciatebr br i usually skim through most magazine but archaeology magazine is different it is one of the very few magazine that maintain my interest from beginning to end with every article worthy of a read try this magazine for yourself and get enlightened on the fascinating world we live in and all of it glorious past',\n",
              " 'national wildlife magazine is a very nice publication for those with an active interest in wildlife protection and general nature conservation it offer some very good article on wildlife and the constant struggle animal face a they fight for survival in a world increasingly dominated by humansbr br national wildlife magazine seek to inform and educate and it article include story about success story and challenge a well a the occasional article or department that offer up animal trivia and fact one article may include a story about the loss of habitat for wild cat while another may talk about the brute size and strength of a rhinoceros whatever the story this magazine is right there informing and educating it reader about the wild and wonderful world of animalsbr br advertisement are part of this publication and this fact may surprise some who read this publication for the first time many non profit organization publish magazine but a good percentage of these magazine are completely ad free this magazine ha a few ad but they cover only about one fifth of the page in each issue there are few enough of them that they do not take away from the magazine enjoymentbr br besides the article another excellent feature of national wildlife magazine is the photography in fact i would bet that some people try to get their hand on this magazine solely for the purpose of looking at those amazing photograph of animal in their natural habitat the photograph are impressive and memorable with some of them depicting an animal standing still or lying down in the wild and others showing an animal chasing and catching it prey in high speed detail every issue is loaded with these amazing picture of animal and it isnt surprising that so many reader mention the photograph among their favorite part of the magazinebr br wildlife continues to struggle for survival and national wildlife magazine is one of the better non profit publication that bring this information to your home it is not an easy magazine to find but i recommend grabbing and reading a copy if you can it rate among my all time favorite wildlife magazine',\n",
              " 'garden gate magazine is a publication for gardener of all stripe a magazine with nice photography gardening and craft instruction and general tip to make your garden and general landscaping look better then ever amatuers and experienced gardener alike will find many useful tip and bit of advice on decoration plant care and morebr br im not big on outdoor creation but i agree that a well manicured landscape and a nice garden area is not only easy on the eye it can also add a sense of peacefulness by it mere presence who doesnt enjoy walking into a beautiful garden area even if you have little interest in gardening horticulture or anything related there is much to be said for a nice greenflowery yard and garden gate magazine is very useful to help you achieve exactly that with project and advice for individual at different skill levelsbr br i have been reading garden gate magazine for only a short time but i have found much useful information in this publication the list and the step by step instruction are among my favorite and i like that the magazine is not geared only toward those with the extra green thumb i am not very skilled in a garden so i need a publication that respect my limited ability garden gate magazine ha plenty to offer an inexperienced person like myself and at the same time it ha plenty of great idea that involve more extensive building and planting making the magazine useful for the more experienced individual garden gate magazine leaf no person behind and that is one of the publication many appealsbr br garden gate magazine spell everything out nicely and includes plenty of diagram so that even an outdoor klutz like myself can figure out what each thing mean and what to do the magazine ha a good deal of information too and some might find it surprising that a publication with only page can include so much in so little space take a look at the department in every issue and feature listed above when wa the last time you saw a table of content like that in a fiftypage magazine there is a reason garden gate magazine is able to pack in so much in so little room and the reason is there are no advertisement this is such a refreshing change from other magazine and it make a big difference when you are trying to follow instruction there is nothing to distract and the article are not very long making this the perfect reading option for those with shorter attention spansbr br when a magazine is free from advertisement it is often high in price and garden gate magazine is no exception the magazine is published only six time per year and each issue carry a high cover price around five dollar to make matter worse you dont get much of a cut in price when you subscribe buy all six issue at your local newsstand and it will cost you subscribe for a year and it will cost you this is a saving yes but it isnt nearly the level of subscription saving so common with other magazine a two year deal make the saving better but the cost per issue is still quite high and it is the direct result of publishing ad freebr br if you can get past the cost however you will find that garden gate magazine is a very good magazine with much to offer everyone who love a nice landscape a i said im not even much into this type of work and i dont landscape a a hobby yet i still like reading this magazine if a publication can pique the interest of someone who doesnt even have a true interest in the subject it must be doing something right and garden gate magazine is definitely a periodical that is doing almost everything correctly',\n",
              " 'kid like to read magazine and book a long a they contain visual element game and other thing to keep them entertained they dont even mind a little bit of education and learning a long a it is entertaining in some way this is why kid magazine are often so visual and colorful and national geographic kid is a expected a publication loaded with picture and bright color the magazine is focused mainly on animal but also includes material on science geography technology etcbr br my girl are big fan of several kid magazine and they look forward to receiving issue in the mail each month i like most of them due to their educational value but i must take exception to national geographic kid magazine this publication doe contain some educational material but the problem is that the education is minimal with the remaining page covered with meaningless fluff and advertisement the ad are especially annoying because national geographic kid intermingles the ad into what seems like an educational article it is done in a subtle way that you may not even notice at firstbr br national geographic kid attempt to break up the educational material with trivia some photograph and a few other thing but they are not item i would expect to see in a publication that is supposed to be aimed at child in the later elementary school age year and that is supposed to educate it is also surprising how thin the magazine is it seems more like a thick newsletter than a magazine publicationbr br national geographic itself is a great magazine and i am very surprised that such a quality publication would permit it name to be scarred by the like of this magazine it could be so much better with a little work it isnt like national geographic doesnt have the resource to make improvement they have the expertise and the know how to make a quality kid magazine but seem content with this publication in it present form in spite of it many flawsbr br kid magazine are plentiful and there are some really good publication available that help teach kid about different subject in an entertaining way national geographic kid unfortunately isnt one of them the worthwhile material can be isolated to about one third of the magazine limited page and the overall educational value is minimal sum everything together and you have a magazine that isnt worth the money and should be avoided',\n",
              " 'texas monthly magazine is a magazine about a state it place and it people this publication cover texas culture travel music art dining special event and more each issue take reader on a journey throughout the state and keep them up to date on the lone star state and her peoplebr br texas monthly magazine ha more department than the typical magazine and many of them are fun to read offering a quick look inside a lesser known town festival or individual that call texas home a good example is the department titled street smart this short section offer a glimpse inside one of texas thousand of small town along with a numbered list of special point of interest in the city the music and book department are fun too because they present some popular and soon to be popular medium from texas resident another department i like for it pleasant amusement is one called the manual it present something texas related in the area of fashion and style and then offer some advice on the best usage or display of the item based on texas culturebr br texas monthly magazine offer several long featured article and they can usually be found starting in the middle of each issue and continuing all the way to about the three quarter mark these longer featured article can focus on most anything from travel to art to food to the people who create the art and prepare the food there are usually at least a few current event type article related to something important in the news while the other featured article include story about people event etc that are generally timelessbr br texas monthly magazine is a well written well edited magazine and it a nice reference and reading tool for texas resident who like to learn more about the state and find new place to visit and thing to try i like having it handy but if i could change one thing about this magazine it would be the number of ad in each issue true all magazine need advertisement in order to generate reveune but the number of ad in texas monthly magazine is a tad excessive each issue open up with about eighteen page of ad before even reaching the table of content the next hundred or so page have ad on every other page and the ad only diminish when you get to one of the featured article after that the ad return for the remainder of the issue with the final thirty to fifty page consisting of practically nothing but adsbr br going back to the positive point another reason to like texas monthly is the long length of each issue the magazine is much longer than most with some issue approaching page in length yes the ad are excessive but even if all the ad were removed you would still have a very large amount of reading material in each issue much more than found in the majority of magazinesbr br texas is a very large very diverse state with many thing to offer and texas monthly is a very enjoyable read that help texas resident keep up with some of the many happening in this great state the ad are excessive but when all factor are taken into account this is still an enjoyable publication that every texan should read and that many outsider will enjoy a well',\n",
              " 'fitness magazine is a healthbeautyfitness publication that concentrate it effort on the physical well being of the individual this magazine is geared toward woman health and it offer some good article on such health inspired topic a the nutritional content of specific food strategy for losing weight natural way to battle allergy and many morebr br getting in shape and staying in shape are certainly worthwhile goal and this magazine ha some good pointer but there are a few thing about this magazine that i do not appreciate one is the misleading title when i see the word fitness on the front of a magazine i expect the publication to dedicate itself not just to losing weight but also staying in shape through physical workout weightlifting and more however there isnt much in this magazine that is dedicated to fitness education weightlifting or any other similar topic the other issue i have with this magazine is it beauty and fashion emphasis true some of these article do correlate with health and fitness but others are more fluff than substancebr br looking at other aspect of fitness magazine i like that it includes the featured cover article in their own reference section because this make it easy to open an issue and go directly to an article of interest i also like the low price you dont find magazine priced at such a low level nowadays and this is a refreshing change on the other hand there are a large number of advertisement in each issue and this is likely part of the reason the retail price is kept at such a low levelbr br so what is my bottom line on this magazine well there is some good material in this publication some good advice on medical matter and nutrition and other positive quality however this publication deviate from the subject of fitness on a frequent basis and it doesnt contain many article on the mind and spirit like it subtitle suggests thus the pro and con are just about on par with each other leading to an average rating overall',\n",
              " 'popular mechanic is a magazine dedicated to mechanic repair industry and technology this magazine offer timely article that are often intelligent thought provoking and often fascinating andor awe inspiring they often talk about mechanical achievement impressive technology record setting feat etc these article show what human are capable of doing and they remain in your memory for some timebr br these achievement type article are often the best in each issue however popular mechanic is more than just a magazine about incredible achievement with popular mechanic you get article about car home improvement repair etc which are more practical than anything car enthusiast often enjoy popular mechanic more than anyone due to the magazine consistent article on automobile and review of automobile there are in fact multiple article on automobile andor automotive technology in each issue and they are often among the lengthiest in the magazinebr br besides car popular mechanic like to devote space to the subject of home repair and improvement these article are nice because they offer practical advice that can help do it yourself reader save a good deal of cash they are often educational in nature too how your house work for example is a subsection of the home department and it describes in detail how a certain part of your home function it might sound boring at first but it is often fascinating to learn what go on behind the wall under the foundation inside the appliance etc sometimes the educational lesson is obvious but other time the lesson learned are eye opening and will expose homeowner to thing about their home they never knew existedbr br popular mechanic is overall a very nice publication that i will continue to read i like the article that emphasize fascinating innovation and achievement best but i can also agree that the home and automotive article are very practical and useful the over emphasis on automobile is a small complaint about popular mechanic but the magazine a a whole is very good and very readable',\n",
              " 'garden and gun is a magazine about southern living with a combination of article that appeal to both woman and men this magazine cover a range of topic that can include everything from gardening to history to hunting and beyondbr br garden and gun is a magazine with an unusual title and this is the first aspect of the magazine that will catch your attention what kind of a title is garden and gun it sound like some sort of twisted joke but there is a reason for the unusual choice of title it is intended to demonstrate the wide range of topic contained within and the balance between article that appeal to men v article that appeal to woman in contrast to most other southern read which are often designed to appeal only to woman for the most part this magazine succeeds with it balance although there tend to be more article related to garden than to gunsbr br garden and gun ha a large number of department and they include everything from cooking to sport to music to fashion and beyond and of course they all relate to the american south one department might focus on southern eating while another will focus on southern architecture each article concentrate on the southern way of doing thing and how this part of the united state ha it own particular mean to achieve an end the writing is good and often feature comment and interview from ordinary people who love their southern heritage and want to share it with the readerbr br photography is important to any magazine and the photo in garden and gun add significantly to the magazine appeal the photo include a fair share of scenic place but the appeal go beyond that the photo depicting ordinary thing are just a interesting the food for example is often photographed in a way that brings out the fine detail of the featured dish and many will be impressed by how realistic it look you will also find interesting photograph taken in unheard of place it could be a simple photo of a schoolhouse or a photo of an empty church these are the type of photograph you dont expect to see in a magazine and like a work of art they get your imagination goingbr br garden and gun tends to jump around with it article and this fact may not sit well with some reader i find it okay but one fact i wish wa different is the magazine tendency to play it safe and stick with topic that are non controversial in nature we all know that southern politics are known for their conservative bend and southerner often accept socially conservative belief a gospel truth these topic of controversy would make for some great article but garden and gun tends to avoid this type of material and stick with whatever is safe even the article about gun and hunting are presented in a non confrontational waybr br southerner have their own way of doing thing and garden and gun doe a good job capturing the soul of the american south i like the photography most of all and there are some good department in each issue the publication ha a few shortcoming but it is good enough for the occasional read',\n",
              " 'ready made magazine is a publication aimed at the young person who like to create hisher own thing and these thing could include anything from clothing to furniture to mixed drink and beyond more than just a magazine about saving money ready made is a publication that attempt to bring out the creative side in it reader with suggestion for making everyday item from ordinary goodsbr br ready made spends most of it page showing reader some unique way to make thing and the suggestion range from the practical to the unusual on the practical side the magazine suggests making thing like planter using coffee can and vas using empty bottle but then there are some craft that are not so obvious like using a metal mixing bowl for a light fixture by inverting the bowl and attaching a light bulb from the inside you never really know what unusual idea ready made magazine is going to offer in each issue and this help keep the magazine fresh and somewhat interestingbr br judging ready made magazine a a whole is sometimes difficult due to the nature of the publication creativity is certainly a good quality but ready made magazine get a little too weird for my taste suggestion for making your own soap creating different food and making mixed drink are fine and normal but some of the suggested craft are odd at best and extremely tacky at worst taking thing like sandwich box cookie tin mail box and other thing and turning them into light and other fixture can result in some incredibly tacky dcor and the clothing suggestion are often too outrageous to be true how many among u want to be seen wearing a skirt made from an old pillow case every now and then ready made magazine will surprise me with a recycled item that actually look presentable but more often than not the suggestion look a little too contemporary and non traditional for my tastesbr br ready made magazine is a publication that many will find entertaining but usually for the wrong reason i like some of the article on recipe and making household cleaner but the suggestion for do it yourself project are often beyond the scope of good taste you will end up either shaking your head in disbelief or enjoying a good laugh a you soak up the tackiness and wonder exactly who would really want some of these unusual item in their home or on their person so when all factor are considered ready made add up to an average magazine overall with an equal balance between good and bad point',\n",
              " 'woodworking is a popular hobby and those who partake in this activity often turn to printed resource for new idea tip etc wood magazine is one publication designed to help woodworker in several way it offer new technique new tool and new project for the budding or experienced woodworker who is seeking out way to improvedevelop their woodworking talent wood magazine want it reader to be educated and curious and it offer article that satisfy both desiresbr br wood magazine article span a wide range with some that cover basic task like cutting wood at an angle to more complicated task like carving unique shape and pattern one fact that reader will notice immediately is that wood magazine article are divided up so that woodworker at all level from novice to expert will find something to which they can relate the article tend to lean slightly toward the beginner to intermediate level but there are certainly enough advanced article in each issue to keep all woodworker busy and satisfiedbr br the article in wood magazine are generally short and they are often written in a step by step format with illustration and measurement to remove any guesswork from the process these visual aspect and stepbulleted format make the magazine seem like a reference guide at time but they are very useful for someone who want to build one of the item and doesnt want to take any chancesbr br if there is anything unattractive about wood magazine it would have to be the high price the cover price is high and there is little discount incentive when you sign up for a subscription also this magazine is published only seven time per year this latter fact could frustrate some woodworker who want new and fresh idea on a more frequent basisbr br aside from the cost however wood magazine is a good magazine for woodworker at all level the tip and trick are useful the education valuable and the project interesting andor practical it make a good magazine for the occasional or serious woodworker who want to develop one skill andor increase one interest in the art of making thing from wood a little more length to the magazine and a lower price would be nice but it is still a good magazine overall',\n",
              " 'popular science is a magazine i have been reading on and off for more than twenty year and it rank a a science magazine for the mass a most reader will tell you popular science is a beginner science publication and is generally intended for those who are curious about science and want to gain a better understanding of science and technologybr br popular science is more about technology than science and this is evident from the department and most of the featured article yes popular science doe include article about atom chemical outer space physic etc but the majority of the article are about modern technology and it us and application the technology article are dedicated to subject such a new vehicle environmental trend electronic device and more article like these might seem a little out of scope but one ha to remember that the first word in the title of the magazine is popular technology is huge so it make sense that the magazine would dedicate such a large percentage of it article to high techbr br the writing in popular science is very good but a i said before this magazine is intended more a a beginner guide to science and technology this mean the article will be perfectly fine for those with limited science and technology knowledge for those with a more advanced scientific mind some of the article may be too elementary however every issue can be counted on for at least a couple of indepth intellectual article also one need to keep in mind that the article are generally short and cover only a page or two this is nice for those with shorter attention span and for those who want to soak up a many fact about a many different thing a possiblebr br learning more about science and technology is certainly a good idea and popular science is a good choice of reading material for those who are scientifically curious want to improve their science knowledge level and want to learn about the latest technology the magazine could prove to be a little too simplistic for those with a working or educational background in science but for everyone else popular science present a good mean to keep up with the latest in science and high tech with writing that is clear and intelligent without going over the top',\n",
              " 'my mailbox overflow with magazine and among the theme home and home related topic are the most common dwell magazine rank a one of the better home magazine i read each month and it is one of only a few publication that i will return to throughout the month for entertainment and other purposesbr br what make dwell a unique publication is it dedication to more interesting and unusual home remodeling and rebuilding idea other modern home magazine exist but dwell magazine take the idea of modern to a slightly different level than other similar publication with dwell magazine the reader is presented with unusual home both on the exterior and interior and many of them are certainly eye catching if nothing else this magazine is all about home that offer distinction and some of the design idea are very interesting and will stick with you for a long timebr br probably the most unique fact about dwell magazine is that while it focus on unusual and creative home design it manages to maintain a level of livability other magazine that focus on unusual thing whether it the home or something else often take the weirdness factor to the extreme and they end up alienating most reader but dwell magazine avoids making this mistake the idea it present are unusual and creative but still within the boundary of taste and practicalitybr br magazine usually offer article that cover a large range of topic each month but one other interesting aspect of dwell magazine is that each magazine is based on a specific theme this theme is clearly spelled out on the front cover directly under the magazine name in bold letter this is nice because you already have a good idea what to expect when you open the page of any issue the featured article for the month will stick to the main theme for that particular issuebr br dwell magazine is one of hundred of publication that focus on the home but it easily stand out in the pack and i rank it among my favorite in this genre im not into home design on a doityourself level but i do like to look at home and the room within home and i am always open to new idea dwell magazine offer plenty of creative idea every month and it a good magazine to consult for home makeover plan',\n",
              " 'yachting magazine is a publication dedicated to the acquisition of large sea going vessel and the enjoyment that spending time on a yacht can bring this publication is all about big boat with an emphasis that is divided between buying a yacht comparing yacht performance evaluating new model of yacht and enjoying life to the fullest a the owneroperator of your own home on the waterbr br yachting magazine is a magazine about luxury and it compare favorably to other similar publication magazine about yacht are intended for an elite group of people for whom money is no object and yachting magazine is no different the big boat talked about tested and offered for sale in the classified section usually sell for a minimum price of around half a million dollar and many of them sell for multiple million of dollar placing the bulk of the magazine promoted material out of the reach of most individualsbr br even though yachting magazine is impractical for most people there are a few nice feature with yachting magazine and at the top of the list is the photography not only do you get to gaze in awe at these incredible aquatic machine you also get to enjoy great photograph of beautiful lake ocean and river where yacht of different size can often be found these photograph set the imagination soaring and they rank a the magazine number one asset second to the photograph are the travel article again they usually feature some nice photography not to mention a few travel secret from coastal andor riverfront city around the worldbr br a for the writing in yachting magazine it is generally good but other than the article mentioned above most of the material in this publication is too simplistic andor irrelevant to the bulk of the population for example the evaluation of new makemodel of yacht are often very lacking offering only a one page summary which isnt nearly enough to make an informed buying decision worse from a practical standpoint the vessel the magazine feature are usually in the one million dollar price range this is fantasy material for most people the yacht are nice to look at and fantasize about but unless i receive a pay raise in the one thousand percent range there is practically no chance that i will be purchasing a multi million dollar yacht any time soonbr br taken a a whole yachting magazine is an acceptable publication that i will continue to read solely for it eye candy property i really like the photography and the magazine can sometimes impress with a few of it travel article but other than that yachting magazine is a fantasy read pure and simple even though the photograph are great and they can set your imagination on fire the magazine is an impractical read for most with more fantasy material than your favorite adult movie',\n",
              " 'the robb report is an amusing yet very professional magazine aimed at those with too much money and too few thing to buy this publication feature outrageously priced merchandise and let you the reader gaze in awe at some of the way in which the fabulously wealthy spend their excess cashbr br i have been enjoying the robb report for about a year now and a i read each issue i find myself alternating between various emotion on one hand the magazine offer a fascinating glimpse inside the buying world of the filthy rich on the other hand one ha to wonder what would convince someone to spend huge sum of money on merchandise that while certainly high in prestige could still be obtained for much le money without sacrificing much quality i realize the incredibly rich like their toy and need something on which to spend their cash but some of these item go way over the top to put it mildly item such a eight hundred dollar sunglass or five thousand dollar watch are often highlighted in the page of the robb report and while they certainly capture one imagination you have to question what would convince a person to spend so lavishlybr br even though the robb report is a fantasy read for most people it still ha much to offer and one thing i like about this magazine is the writing not only is it top notch but these individual really know what they are talking about and they are able to keep the writing on a level that make living the good life seem ordinary in other word this magazine doesnt read like a shock piece it assumes that the reader is already well acquainted with living a life of luxury and may not even be that impressed by a one thousand dollar writing utensil or a fifteen thousand dollar set of golf club another great quality of the robb report is the photography it is absolutely superb with illustration that are vivid clear and inspiring in a fantasy type of waybr br rich people like their toy just like everyone else and the robb report fulfills their need by presenting a quality magazine that is flawlessly written and exquisitely illustrated it is a fantasy read for most people but it performs it main mission quite nicely spotlighting extremely expensive merchandise for the highly affluent and offering a glimpse inside the lifestyle that many of the world super rich enjoy every day',\n",
              " 'writer are usually on the lookout for information they want to know how to succeed at the business of writing they want to know how to promote themselves they want tip and advice for success most turn to the world wide web for this similar information but there are still a few traidtional avenue for writing advice and one of them is magazine among magazine for writer poet writer magazine is one of the better choice available it brings the world of writing to your fingertip every two month with helpful article about writing style publication challenge etc along with interview from established writer who are ready to share their secretsbr br poet writer magazine concentrate a large percentage of it article and advice on the world of poetry so it make a valuable resource for those who specialize in writing poem and want to expand on their talent it also emphasizes fictional writing and each issue can be counted on for at least one interview with a famous or semi famous fiction writerpoet these writer are ready to share their success and challenge with the reader and many will find these article personable and inspiringbr br with the emphasis on fiction some people might come away from poet writer magazine with a feeling of disappointment i am one of those people who read and write nothing but non fiction so i wa a little disappointed when i discovered that poet writer contained so little material for non fiction writer however i can still see the value of this magazine for all writer going back to the article about specific writer for example one can quickly read about their struggle success failure etc and relate them to any type of writing and while there are not a many tip and advice column a there are in other writing publication there are still a few and they are pretty good even if usually very general and obviousbr br poet writer magazine contains plenty of advertisement the ad focus on writing conference publisher university degree program writing workshop writing retreat and other event some might argue that the page contain too many advertisement but since writer who read writing magazine are usually looking for way to promote themselves improve their education level and perfect their art it make sense that advertisement are such an important part of the magazine i know some people who grab a copy of poet writer magazine solely for the advertisement so i can not necessarily say this is a con unusual is the writer who doesnt want to grow and expand hisher craft through promotion and education so it make sense that advertising is so prevalent in this type of magazinebr br poet writer magazine is a useful publication for writer particularly those who write poetry and general fiction the magazine is published entirely in black and white except for the cover photo and some of the advertisement and it offer a good deal of length per issue for your reading enjoyment it is a magazien about writing culture a well a writing education and promotion and while it would be nice if it included more information for non fiction writer it still ha many good thing to offer and it make a great gift choice for the aspiring poet andor fictional author',\n",
              " 'dime magazine is a publication that is all about basketball and the personality who have helped shape the sport and have helped make it a popular part of our entertainment and culture this magazine is unique in that it focus only on the sport of basketball most all other popular sporting magazine cover all type of sport from football to tennis and everything in between but dime magazine is one hundred percent basketball and it devotes it page to the men and woman behind the sport and what they are like when not playing the game there is some talk about the sport itself but dime magazine dig deeper than that it strives to let the reader know about the basketball people themselves what they are like what they believe in what their family life is like etcbr br dime magazine cover basketball in every form including college nba wnba and world competition but the majority of the article cover the nba and it many dazzling star occasionally dime magazine will offer an article on a woman who play college hoop or a rising basketball star in another part of the world but most of the story revolve around the personality that make the nba what it is today these personal story are often very frank and very to the point a most fan already know the nba ha some very unique and powerful personality among it personnel and these men do not hold back their feeling and do not resist massaging their own ego they let you know exactly what they think whether it about basketball or some other subjectbr br dime magazine is a very consistent magazine each issue contains about the same number of page with section laid out in roughly the same way one quality that many will appreciate is the lack of advertisement there is a fashion section near the end which is like an advertisement but other than this dime magazine devotes most of it page to story and interview with the player this publication want to keep basketball enthusiast informed about some of the most interesting player in the game and it waste little time or magazine space deviating from it main purposebr br basketball fan are often die hard and many individual live and breathe the sport they love dime magazine is a great publication for these intense fan of basketball because it go much deeper than the game itself basketball is fun to watch but there is more to the game than what one witness on the court there are also the personality that have helped shape the game of basketball and dime magazine is a nice publication for reading about and learning more about the interesting men and woman who have helped make basketball the cultural phenomenon that it is today',\n",
              " 'kitplanes is a different kind of magazine and one that will only appeal to a limited audience this magazine is intended for those who love airplane and whose interest in airplane reach a level that go beyond simply flying kitplanes take aviation to a different level for a magazine by focusing on actually building aircraft kitplanes is more than just a mechanical read it is also a creative read that explores the different way that small aircraft can be built the different design and the different style and capabilitiesbr br most of the page in kitplanes are dedicated to design and construction from the initial mental blueprint to the proper hardware kitplanes want to help the enthusiastic hobbyist construct the dream machine some of the article in kitplanes are educational in nature focusing on the specific of aerodynamics the pro and con of using different type of metal etc the magazine even includes some success story from builder who have completed their aircraft construction and want to share their result with the readerbr br mechanic are important but in the day and age in which we live technology is more important than ever and kitplanes is right there to help small aircraft isnt a sophisticated a commercial aircraft but the aircraft building hobbyist still want to be a safe a possible and kitplanes offer plenty of tip on instrument panel safety system and other thing high tech in naturebr br one other interesting aspect of kitplanes is that it a very consistent magazine each issue i have read contains exactly page and the department and most of the regular feature are found on exactly the same page number each month for those who like consistency and repetition this is a nice feature for a magazine but this will not sit well with people who like a little variety from time to time i am one of the type who like some variety in my magazine so the consistency is a strike against the magazine even if only a small strikebr br kitplanes is overall a pretty good magazine about a very expensive hobby i find the article pretty good even though some are certainly better than others some are a little too brief and assume the builder need guidance from start to finish but kitplanes is still a useful magazine for those who dream about constructing their own airplane it doe have a few shortfall but for the flying enthusiast who dream of constructing hisher own aircraft kitplanes is a magazine worth reading',\n",
              " 'pink is a business magazine for woman it a publication written and targeted to the successful career woman and it a magazine i have been glancing through for the past several year pink discus a myriad of topic that are important to the career female including success and advancement in the workplace to balance between home and career to staying healthy so that the working woman can enjoy the fruit of her labor this is a magazine that aim to show that woman can be a successful business professional while also maintaining her sense of femininity traditional female trait and business success do not have to be mutually exclusive idea they can co exist and many woman are quickly realizing that they too can be soft and feminine while also holding a position of high prestige in their place of businessbr br because pink is about business a large number of the page in each issue are dedicated to career development and some of these article can offer good advice and inspiring wisdom these success story rank among the best article in each issue these woman are ready to share their climb to the top with the reader explaining what worked and what didnt work the obstacle faced and the way in which they learned to balance their success in the workplace with their family life and other job a a concerned mother and parentbr br most of the department and other material in pink are pretty good and there is some sound advice that can apply to anyone whether male or female but i must admit that i do get a little tired of the seeming battle of the sex component of this magazine many of the article deal with career obstacle and this is fine but they often portray the woman a victim or possible victim otherwise intelligent people who have to overcome many additional obstacle due to being a woman obstacle that men supposedly do not need to worry about the magazine almost seems to pit one side against the other and even if it is intended in an educational way it take away from the value of the magazine i would rather read the positive aspect of being a career woman and how woman have faced the challenge presented by their profession regardless of whether the so called obstacle is a man or a womanbr br pink is overall a pretty good magazine for the career woman who also ha a family and want to learn new way to balance these competing realm of her life it doe tend to emphasize the male v female aspect of work a little more than i would prefer and when it doe this it sometimes make the woman seem like victim but when pink is sharing female business success story or dispensing advice it is a solid magazine that most any professional woman will appreciate and this fact alone make pink a publication worth reading',\n",
              " 'motorcycle enthusiast are a unique breed and the main quality that set them apart from the rest of civilization is their unyielding enthusiasm for their chosen sporthobby they often become consumed with biking and like golf fanatic and others they view every spare moment a an excuse to partake in their chosen activitybr br cycle world is a magazine designed with the motorcycle enthusiast in mind this publication is made for the type of biker who not only like to ride his cycle but also liked to learn a much about motorcycle a possible there are of course plenty of article in each issue of cycle world that talk about the joy of riding and the sport of motorcycle racing but cycle world includes other article too article that only the well rounded motorcycle fan will be likely to read and appreciate some article focus on new technology others dispense advice on motorcycle repair there are also travel article and personality profile a well making for a nicely rounded publicationbr br im not a motorcycle enthusiast or even a casual fan but i still like certain section of cycle world and i try to read a few of them every month my favorite section of cycle world are those that feature new product cycle world is among the first publication to report on new motorcycle and other related product and the magazine includes plenty of great photo test data and various statistic in a matter of minute one can quickly learn the pro and con of a specific motorcycle and more easily make a buying decision even though i am not a fan i still like these article because like article on new car they often include some very cool new product offering that can easily impress anyone even a nonfan like mebr br motorcycle are loved by their many enthusiastic fan and cycle world is a magazine intended for those who want a well rounded publication about motorcycle their upkeep and their use for entertainment most of the page in each issue are dedicated to the different motorcycle produced by different manufacturer but there is plenty other information to be found in this magazine about motorcycle and cycle world make a good choice for those who want to know how to ride repair and enjoy their hobby a much a possible',\n",
              " 'writer digest is a magazine designed for writer and it attempt to cover many different aspect of writing in it column and featured article most every issue offer at least one interview with a famous or semi famous author this spotlighted author could be the author of a book a screen writer or some other type of author these interview offer some good insight into writing success and the necessary skill and sacrifice to succeed at your chosen craftbr br aside from the interview writer digest is basically a magazine of tip and advice one issue might talk about way to break into the business of movie reviewing for newspaper another might talk about way to make your writing more concise and le wordy still another article might discus way to overcome writer block the main goal of writer digest is to help the reader become a better writer and hopefully gain an offer for a publication at some point in the futurebr br one thing that is a little different with writer digest is that it doesnt contain the long list of standard monthly department like you find in other magazine with writer digest the department are deemphasized and there are only a few of them in each issue the rest of writer digest is dedicated to column and featured article this format is unique and it make writer digest a good choice for those who like change and prefer to read something different in each issuebr br writer digest doe contain a pretty good number of advertisement but the ad are usually for writing conference writing software writing contest or ad that encourage a visit to the magazine own web site because the ad stay so focused on the subject of writing they dont seem all that bad and they are not distracting i know some writer digest reader who actually look forward to the ad so that they can find information on the latest contest and speaking of the magazine web site it seems to be an important component of the magazine because it is referenced on many page throughout each issuebr br writer digest is a pretty good magazine for writer and i like it for it advice and classified ad more than anything the success story can sometimes get a bit carried away and they make it look a little too easy to land a huge writing contract it would also be nice if writer digest wa published monthly rather than semi monthly but writer digest is still a good magazine for writer everywhere with plenty of good advice and tip to help you become the writer you always knew you could be',\n",
              " 'country home is a magazine that doe all it can to bring the country home to you regardless of what type of setting in which you presently live i am a city slicker all the way and i certainly have no interest in selling my home and purchasing a farm but i still like country home magazine for several reason most important of all i like that country home doesnt completely push the country look andor country lifestyle this wa a pleasant surprise when i started to read country home because based on the name i wa expecting a magazine that wa all about the country lifestyle complete with recipe for grit outhouse remodeling tip and idea for purchasing the best wicker furniture but country home isnt like that at all this magazine is certainly country oriented but it emphasizes a more modern country look for the home that can be applied to most any household regardless of locationbr br country home offer several different section and different monthly feature but the theme that the magazine continues to return to is that of home decorating turn to different section of country home and you are most likely to see article on antique collectible flower and other like item and how their inclusion can make your home look better there are also some recipe offered in different part of country home and they offer some interesting recipe made southern stylebr br country home certainly attempt to keep it country root at a modern level but that doesnt mean you wont find anything that is truly down home in the page of country home there are some very rustic suggestion for home decor in the page of country home and some of them will likely turn off the majority of city dwelling reader when i read country home i tend to flip past these article because they are a little too down on the farm for my taste the other article about home decorating are at least modern looking enough to consider even though it is doubtful i would ever adopt one of the style mentioned in this magazinebr br country home is overall a very good magazine and coming from someone like me that say a lot considering i have little or no interest in country life or the country theme for home decor the reason i like the magazine regardless is because of the writing the antique article the occasional travel article and the collectible idea not to mention the recipe combined together country home offer a total greater than the sum of it part and it make for a very appealing magazine',\n",
              " 'the atlantic is an intellectual magazine and one that i have been reading on and off for many year this magazine is best known for it politicalcurrent eventssocial article that tackle some tough issue of the day and it delivers most effectively when it offering some commentary on world event and social issue and these are the article i turn to first when i read the atlantic i like the political article best but there are plenty of other non political yet very thoughtful article in each issuebr most every article in the atlantic is thoughtful and well written look closely at the author of some of the story in this magazine and you will notice some high profile name on more than one occasion christopher hitchens mark bowden eric schlosser and others are known to contribute an article or two in each issue of the atlantic these writer and others like them are ready to offer their take on some of the critical issue of the daybr br the atlantic certainly offer some interesting thoughtful intellectual article and one fact that set them apart from those found in most other magazine is that the featured article are often very long sometimes exceeding ten page in length most magazine shy away from article this long because they know that most reader have an attention span that is far too short to finish the entire piece of reading in one sitting but the atlantic is different if the subject matter is such that an article need to be ten plus page in order to thoroughly cover everything then the atlantic is quick to oblige i appreciate the excellent coverage but i must admit that some article are almost too long even when i have an interest in the subject matter i often end up stopping halfway through because i can not hold my attention any longerbr br another section i like in the atlantic is the book review section to present a fair and balanced perspective the atlantic review new book from many different genre and i like that there are different review of varying length one section of the atlantic called cover to cover includes short summary of many different book these are nice when you dont have time to read a lengthy review of a book and just want the basic but there are also some very long book review in the atlantic along with some advertisement for new book that include a short to word summary of the book i like reading the review but i like this section best for it exposure to new book release it is like looking at a quick rundown of intellectual book and i have in fact discovered some very good title from this part of the magazinebr br overall the atlantic rank among my favorite magazine and i look forward to some serious intellectual reading in each issue i admit that some article are a tad too lengthy but i still like the atlantic for it intellectual stimulation and for it focus on current event it a very good magazine for cerebral type who like to read about politics and social issue',\n",
              " 'barrons is a popular magazinenewspaper that help investor keep abreast of financial market industry news economic trend profit forecast and other related topic this publication bill itself a the magazine of the dow jones and it offer investor and other financial guru some solid and timely financial readingbr br many people who read barrons head directly to the market week section in order to catch up on the latest investment price each weekly issue of barrons offer plenty of stock table commodity pricing option market pricing etc so it make sense that a concerned investor would turn to this section first in order to check investment price but barrons is much more than a collection of statistical table each issue contains a large number of featured article and regular column and there are very few department the bulk of each issue is dedicated to short article about specific company economic concern innovative technology wall street trend and other noteworthy topicsbr br barrons is a very expensive publication but among it many good point is the fact that it is published weekly and therefore is very up to date and timely if youre an investor you are fully aware of the importance of timely information and barrons provides exactly that whether the subject is the high price of oil corporate takeover or volatile interest rate barrons is right there offering a timely article about the important issue of the daybr one other noticeable fact about barrons is that devotes only a minimal amount of space to advertisement there are some ad and they are usually clustered in the first part of each issue most all of the ad are relevant to the subject matter of the magazine and it is common to see ad for insurance company mutual fund brokerage service and the like because the ad are almost all about finance they tend to blend into the article and you do not notice them like you notice the ad in other magazinesbr br investor financial professional and concerned citizen like to keep up to date on financial and economic affair and for these individual barrons rank a one of the best financial publication available today the article are quite thorough for such a short magazine and while some article can get a little too advanced for the novice investor there is still much to be learned in every issue of barrons timely financial data great writing and relevant article make barrons a magazine worth reading for those with an interest in the subject of finance and investment',\n",
              " 'maximum pc is a magazine for electronics freak offering many different article about electronics how to buy them how to repair them how to get the most out of them and how best to replace them this magazine is aimed in one primary direction making the most out of the electronic device available this is accomplished through the many instructional article how to guide and question and answer sessionsbr br when maximum pc isnt offering word of wisdom on way to improve your life with electronics the magazine is usually offering review of new product the review section is one of the largest part of each issue and while it doe a nice job bringing new product to the forefront the review are often le than stellar rather than analyze a few product in depth maximum pc instead prefers to offer shorter review of many product this part of the magazine seems more concerned with quantity than quality in contrast to most of the remainder of the magazinebr br one thing about maximum pc that isnt to my liking is the technical nature of many article maximum pc like to get to the root of thing and it is common to find article talking about circuit memory and other boring subject this is fine for those who take their technology to the extreme but i have no interest in learning about the interworkings of the wiring inside my personal computer or the electronic pulse that cause my printer to respond on queue this is a little too much technology for me but i know there are some reader who will relish the depth that maximum pc go to when it strip down electronic device into their component partsbr br overall maximum pc is a pretty good electronics magazine for young and middle aged adult it loses me from time to time when it get overly technical but it still rank a a good magazine about electronics the numerous question and answer session the educational article and the product review make this a magazine worth reading',\n",
              " 'this old house is a magazine dedicated to home improvement based on the popular pb television program this magazine aim to help it reader find new and better way to improve the home and perform routine maintenancebr br magazine and the internet are my primary source when home repair reach the critical point this old house is one of several magazine i like to read and it is the one i turn to most frequently when i need to find out about home maintenance the majority of other home related publication deal strictly with enhancement remodeling and general improvement this old house offer these type of article along with article on general home repair landscaping technique utility cost saving and morebr br my favorite department in this old house are around the house toolbox and salvage the last department salvage sound boring at first but it often get very creative this department selects a common household item usually one that is probably slated to get tossed in the trash and point out a creative way to re use the item some of the idea they come up with are surprising making this one of the first section i turn to when i get a new issue in the mailbr br some part of this old house are not appealing at all either because the suggestion are far too costly for someone like me because they involve skill that i do not posse or a combination of the two the luxury department is one such area another is the design section these area are intended for the more advanced home improver who ha advanced skill at home design there are some very expensive suggestion too and these part of the magazine provide more fantasy reading than anything however there are still enough le expensive idea to keep the magazine useful and practicalbr br overall this old house is a good magazine that offer some home improvement idea some repair suggestion and some way to enhance your home value the general repair advice is pretty handy and while i dont have much use for other part of the magazine i can agree that these are helpful to the right type of person it make this old house a good publication for those who seek advice for home repair and home enhancement',\n",
              " 'smart money is a solid magazine about business and finance and i have been reading it on and off again for the past five year this magazine is a little bit big business and a little bit personal finance combining together the feature of a business magazine with that of an investment publicationbr br one of the main thing i like about smart money is the fact that it includes so many different article each month there are only a few regular department in this magazine the majority of the page include featured article and short article that change from month to month these article can cover a wide range of topic from way to cut your electric bill to the latest regulation in the insurance industrybr br smart money is an intelligent magazine and it article are often a little more advanced than those of other financial publication they dont reach a level that is too advanced to make them incapable of understanding and that is good but they are certainly intended for the savvier investor who already know the rope and want some more specific intermediate to advanced advice on personal finance and corporate happeningsbr br overall i rank smart money a a very good personal finance magazine and it is one i will continue to read when i get the chance it is like a combination of fortune and money magazine and it timely article are often very interesting and helpful whether it an article on reducing your cell phone bill or an article about the profit picture in the oil business smart money is certain to inform and enlighten',\n",
              " 'opera news is a magazine dedicated to opera and the individual talent that contribute to the full opera production this magazine offer a way to find out date for upcoming opera background on some of the more popular opera star review of opera and opera related medium interview etcbr br i am not a man of the art by any stretch and it a rare day that find me sitting in a theater seat watching a bunch of stage performer sing and dance but i still like opera news nonetheless and i can understand fully why fan of opera enjoy it so much it cover the big opera the big star and much morebr br article about specific performer are common in this magazine but opera news isnt just a magazine about opera performer and the long hour they labor for their chosen profession no this magazine offer more than that and there is something for any lover of entertainment to enjoy there are plenty of review of opera dvd cd and book interview with star and plenty of news and official information the fact that the name of the magazine includes the word news is no accident for opera news is exactly that a news source for all thing opera and opera relatedbr br since i have limited interest in watching opera i tend to gloss over the interview and bios my favorite section are those that cover news story and the review at the end of the magazine the news article are usually good and i like the featured article that talk about opera history and other like topic and a an avid reader i like reading the book review even though i am unlikely to ever purchase one of these booksbr br overall opera news is a magazine that every opera lover should read i am not a fan of opera and theater but even i have found some reading value with this magazine it subject is one with limited appeal but it value is obvious even to someone like me who ha little interest in this topic',\n",
              " 'bassmaster is a magazine about fishing and it like to boast that it is the worldwide authority on bass fishing this magazine divide it focus among different area like findingfishing for bass buying the best equipment and keeping pace with the different sporting tournament that focus on bass fishingbr br i spend very little time participating in outdoor sport but i have been known to cast a reel over an expanse of water on an infrequent occasion with bassmaster consumer like me can quickly get the information needed to find place to fish for bass there is also plenty of tip and advice from bassmaster magazine and from fishing professional they clue you in on the right environment and weather condition for bass fishing the best equipment to use and the most effective lure to improve your chance for landing that prized catchbr br bassmaster is like other sporting magazine in many way but it differs a little from other fishing magazine mainly in it coverage of the sport of bass fishing part of the reason for the emphasis on sport is bassmasters affiliation with sport authority espn espn is the main reason the sporting aspect get the amount of coverage in bassmaster that it doe and it help make the magazine that much better to readbr br bassmaster is loaded with different department and among all the magazine i read each month bassmaster probably ha more department than any other publication of similar length the department are short usually covering only one page each but they offer some of the magazine best and easiest to read material department like ask the expert bass basic and others are good for finding some quick information on fishing and how to make it more enjoyable and more successful i like the destination section too because it offer some information on lake and river that would make good choice for vacationing a well a fishingbr br i dont fish very often and im not someone that would be classified a an outdoorsman but i still like bassmaster magazine it offer some good writing and compelling article about bass fishing both a a casual hobby and a a competitive sport if someone like me a person who doesnt even fish very much can find reason to enjoy reading a magazine like bassmaster just think of how much a true fan of this activity will like this publication it one of the better fishing magazine and it make a good choice of gift for a dedicated fisherman offering plenty of good reading each month all for a low subscription cost',\n",
              " 'gq magazine ha been around for a long time and like other men magazine it ha changed over the year in an effort to attract more reader gq ha spiced up some of it article with more sex and it is common to find a scantily clad female on the cover a place that used to be reserved exclusively for men this isnt to say that the article have suffered greatly from the changeover there are still several good article in each issue of gq combined with a few too many article about relationshipsbr br when gq is at it best is when the magazine is talking politics entertainment andor culture i have read many interesting political article in gq ranging from topic like homeland security to men right when it come to abortion the entertainment article are also quite good and the gq team can be counted on to deliver some good frank discussion about movie book movie hollywood celebrity etcbr br gq used to seem a little more fashion oriented than it is today there are still several fashion related article in each issue but the difference is that the gq of today contains article in a wider range of topic than in the past this is fine by me because the fashion article rank low on my list of reading priority i would much rather read say an article that debate the effort to ban smoking than an article about buying the right shoe to wear in a business casual workplacebr br many magazine skimp when it come to reading material but not gq you get your money worth with this magazine each issue is the length of a book with anywhere from to or more page per issue and from to different featured article department and monthly column to read this make for a lot of reading even of you take the advertisement space into account there is still plenty to read in each issue it also mean that whatever your fancy you should find something interesting to read every monthbr br overall gq is a good magazine for men and it contains some decent entertainment news political analysis and fashion tip it is aimed at men in their early thirty and while i dont like it a much a similar publication i still think gq is a decent magazine it long length make it easily worth the low cost and with so much reading material there is something for everyone in each issue what others have said is true it isnt the magazine it once wa but there is still enough of the good stuff to recommend this publication',\n",
              " 'antique magazine is a publication made for antique lover and history buff and it page are loaded with photo of artistic painting handmade good rare picture and other item of similar nature it is a magazine for those who love antique and also those who consider themselves historian since many article deal with historical collection of art and antiquesbr br this magazine is overflowing with antique good and information the article contained in this magazine are intended to be visually stimulating in some case educational in others they offer history lesson on the art that wa popular during a specific era a glimpse into an art collection at a museum and more the article are meant to stimulate the interest of those who already like this subject and they often provide a mean to learn more to discover place to see or purchase some of the featured work and to develop an appreciation for the craftsmanship that went into making these itemsbr br antique magazine is a publication dedicated to creative art and history but one thing that isnt very creative is the title of the article this might surprise some reader at first but the editor at antique decided to get straight to the point in the naming of the featured article rather than try to be creative the feature thus have title like the eating utensil collection spanish culture in art etc each title point out exactly what the article cover leaving nothing to the imaginationbr br the writing in antique is certainly good and well edited but im afraid that many reader will find the article a little boring they describe thing well and they usually offer a good history lesson but they lack spark and readability i have tried to read some article in this magazine and found my eyelid getting heavy and my thought drifting to other subject this is why i generally stick with the picture when i glance at antique magazine i dont bother reading because most of the material doesnt keep my interestbr br overall antique magazine is an okay publication and unless you have a deep interest in antique and their history you will likely become bored quickly if you try to read the article but the picture in antique are often very interesting even if you have little interest in reading a magazine like this one the photo alone make it worth an occasional look',\n",
              " 'if you are the type of golfer who want to improve your putting your swing your choice of equipment or anything else golf related then golf tip is the magazine for you this magazine unlike other golf publication dedicates almost all of it page to improvement most every golfer want to get better over time and golf tip is one of the few publication available that focus all of it content on self improvementbr br a far a the advice go golf tip is a good magazine and it try to cover several different aspect of the game in the same issue so reader can find a relevant article that relates to their own problem maybe your problem area is putting if it is there is likely a putting article someone in the current issue another person might be having trouble perfecting hisher swing and if so there are plenty of helpful article that include diagram so reader will know exactly what to dobr br other magazine include diagram to illustrate proper maneuvering of the hand and body when swinging a golf club but golf tip take this a step further it includes not only picture depicting the right way to do it there are also picture showing what not to do with some of these golf tip will make sure the casual reader know which photo depicts the wrong way to swing by showing a red circle with a line through it superimposed over the picture with an illustration like this there will be no doubt in the golfer mind what heshe is not supposed to dobr br overall golf tip is a good magazine for someone whose primary interest is improving hisher game there are other magazine that include some instruction on the game but golf tip concentrate most all of it page in this area i prefer a more balanced golf magazine like golf digest but i can see how golf tip could come in handy the advice is written like a pro and it cover something about many different problem in each and every issue',\n",
              " 'wired is a semi interesting magazine that blend together article about technology with those on politics culture and more this magazine is aimed at a diverse audience but it generally caters to those who are technology savvy and like to keep up with the latest world eventsbr br wired dedicates most of it page to the discussion of electronics and other technology and computer nerd form a large percentage of the magazine core subscriber article about digital camera high definition television internet marketing and other like topic can be found in every issue these article often present unique angle on common problem and concern in the world of high techbr br what make wired interesting is the fact that it includes other article on other subject topic that one normally would not associate with a technology magazine it is common to find article about popular culture politics and other topic and they sometimes seem out of place one minute youre reading an article about pda and the next minute youre reading an article about the war against iraq it a little weird but it also make for a nice change of pace a you readbr br another interesting fact with wired is that it change it author more frequently than other magazine the magazine ha a few regular but it like to shuffle the writer around each month this can be good and it can result in article that present new and different perspective each month but it also mean that the magazine is a little uneven and can sometimes include article that do not communicate the way they should i can recall reading several article that left me scratching my head wondering why the editor didnt make additional change so that the article were clearerbr br the department in wired cover a large percentage of the space in every issue and they exceed the total length of many other magazine department section the department occupy the first two third of each issue the monthly featured article are found near the end of each issue this layout is different from other magazine that mix the department and monthly feature together with wired the department and featured article are kept separatebr br overall i like wired a a whole and the political article rank a my favorite part of each issue the magazine jump around from topic to topic and the author change more frequently than other magazine two fact that could make wired a little too scattered for certain reader some of the article are not the best written i have ever seen but wired is still a good enough magazine to recommend it keep reader current on technology politics business and entertainment with a reputation for being modern and hip',\n",
              " 'boating life is a publication about boating adventure and recreation and it dedicates most of it page to boating enjoyment product review equipment review and general advice in many way this magazine is like a buying guide for boat not only doe it contain many page of product review it also includes many featured article that focus on the specific of different boat making it a good choice for reading material for those who are in the market for a new boatbr br besides acting a a selling agent boating life is also a magazine about adventure and it is common to find article about specific body of water and how best to enjoy them tale of long adventure on large lake and popular event around the nation where the best view are often those from a small water going vessel these rank among my favorite article in each issue because they are more personal in nature and they get your imagination runningbr br one thing i like and respect about boating life is that unlike many other boating magazine it keep thing on a realistic level that is it doesnt devote the majority of it page to boat that only the rich can afford to buy it offer review and advice on a wide range of boat from an inexpensive fishing boat designed for two to a large expensive yacht that can hold ten or more guest i dont mind reading about these more expensive boat from time to time but they are more fantasy than anything with boating life there are many page of ordinary boat that anyone can affordbr br boating life is a nice magazine overall and it make a good choice for people who are in the market for a new boat or for those who already own a boat and want some advice on how best to maintain them and how best to enjoy them boating life offer good review and fact about specific boat and along with the adventure article it make a good choice of magazine for the boating enthusiast',\n",
              " 'latina is a cultural magazine designed to appeal to the modern trendy hispanic woman who resides in the usa this magazine feature a mixture of entertainment fashion and practical advice on topic ranging from personal finance to family life and it primary audience is young woman both married and singlebr br this magazine is designed with the female consumer in mind but there are several department and monthly feature that offer more widespread appeal latina life for example is a collection of article in each issue that contains many relevant article offering good reading that will appeal to a broad range of people here the reader can find article about money health fitness travel and other subject that most anyone can relate in addition to this it is common to find article that focus on specific latina woman who have overcome adversity these are often the best article in each magazine because they often present inspirational story where a challenge or difficult circumstance wa overcome these article offer good reading that can apply to anyone regardless of age or genderbr br most of the remaining featured article in latina are geared in the direction of strictly feminine topic and i tend to skip over these when i read these article talk about thing such a manicure hair styling clothing selection and other thing that are intended for the female market but in spite of the limited appeal there is one thing that men will like the photo these article about woman and their fashion option are usually accompanied by plenty of picture of hot latin babe making them worthy of a look or twobr br advertisement are common in this magazine and one interesting fact is that part of the ad are written in spanish this is only true however of the ad the article themselves are all composed in english this surprised me when i first read latina because i always thought the magazine contained english and spanish in equal or nearly equal quantity and that spanish wa used in some of the featured article this isnt true and while latina doe try to bridge the gap between hispanic and american difference it is obvious that latina assumes it reader already know a good deal of englishbr br latina contains a large amount of reading material that ha little or no relevance to men but it redeems itself by including a good deal of article that can appeal to anyone there is an emphasis on story relating to latin woman who have achieved success and overcome barrier and these are usually latinas best article the personal touch is nice and the reading is inspiring but most of the magazine is geared toward woman and for this reason most men will not rate latina very highly im going to rate this publication with a small recommendation nonetheless because i can see it value and i can understand how the female market would enjoy this magazine',\n",
              " 'coastal living is a professionally made magazine with lot of enticing photograph personal story and general advice on making the most out of life on the coast the emphasis in coastal living is on waterfront property and the event and entertainment that often take place in city with a large coastal areabr br much of what you read in coastal living pertains to better known waterfront area in the united state such popular destination a boston miami new york long island california cape cod south padre island and other tourist oriented place comprise a large portion of the featured article in this magazine many of these place have very expensive waterfront property than can often be next to impossible to buy but these area also include lot of tourist activity which is why they are so frequently highlighted in this magazinebr br besides the well known destination coastal living also includes a good number of featured article on lesser known place many of these lack the fast pace and the extensive nightlife of the more popular destination but they also offer better deal on property and an opportunity to get away from the chaos of the larger city such place a the delaware coast michigan ohio lake erie coast and others are often very quaint and interesting also they offer property that is far more reasonable in price and is often within the affordability range for many buyersbr br much of the property you see and read about in coastal living are quite expensive but remember the majority of the home are on major coastline so you cant expect to find them for selling for a low cost these are high demand low supply property and they vary greatly in price but they are all expensive in a popular area these home can sell up to the ten of million of dollar but in le popular area you can sometimes find some bargain price on waterfront property for example coastal living ha highlighted many great lake property that are priced very close to the overall u average they are not a cheap a most area of the inner city no but they are priced within the reach of many familiesbr br the emphasis in coastal living seems to be on property both main residence and vacation property that are adjacent to a major coastline but there are other item promoted for sale besides property and much of this other merchandise is also quite costly in the current section for example it is common to find thing like lawn furniture cufflink fancy pitcher and other thing selling for many time the usual price most of it is intended for those who want a little bit more and are willing to pay the pricebr br coastal living is a personal magazine most of the story involve family and couple who enjoy the coast they share with the reader such thing a how they keep their home protected from the sea what they do for entertainment how they like to decorate and why living on the coast mean so much to them photo of family and couple often grace the page of these type of article giving them a friendly domestic feelbr br most of what you will find in coastal living relates to the united state coast there is only an occasional article about other coastal area like those of mexico the caribbean and other place true you will sometimes find an article about hawaii or alaska but for the most part coastal living try to keep it journalism concentrated on place that lie within close proximity to the majority of americansbr br overall coastal living is a very good magazine for people who enjoy vacationing on the coast finding entertainment on the coast and of course living on the coast the photography and presentation are excellent and it interesting to read about the big city life on the coast a well a some of the more unknown destination it provides great reading and a useful reference for people who already live on the coast or who are interested in purchasing waterfront property',\n",
              " 'interview is definitely a different type of magazine for me someone who usually read business and travel mag and it not quite what i expected with a title like interview i read my first copy of this magazine anticipating page and page of nothing but interview it turn out that interviewing is the main focus of the magazine but it not the only one there is substantial space given to fashion movie and other area too some of these column are worth an occasional look but they failed to grab my attention the writer seem to play it safe and that includes the interview section they dont ask many daring or controversial question they keep it simple asking question about an entertainer latest album or movie without delving much into their personal livesbr br interview ha many general annoyance my greatest complaint is the advertising and the arrangement of the content about half of the page in each issue are covered with ad with fashion liquor beer and hair care item providing the bulk of the advertising revenue the ad are everywhere with the majority in the front page of each issue the table of content is buried and i find this very frustrating the content start with the interview for that specific issue on one page then a few page later proceeds to the remainder of the content which is the regular monthly feature whats annoying is that you have to search for the table of content it varies from one issue to the next falling somewhere in the first halfbr br interview also varies greatly in length some issue are a short a page while others are more than page long the shorter issue use staple for binding while the longer issue are bound in a more professional way minus any metalbr br this magazine center on entertainer fashion music and the like you wont find any interview with politician businessmen etc interview stick strictly to entertainer and that includes the regular monthly column you wont find a column about the business side of the music industry or film industry you will find only article about the star themselvesbr br interview only saving grace is the photography it would make a nice gift for those who enjoy fashion and who like looking at page and page of men and woman modeling fancy clothing but in many way the photo are overemphasized and there isnt enough substance to the magazine the article are very shallow with more eye candy than reading materialbr br overall interview is sloppy and cluttered with too many ad to make it worthwhile reading material my subscription wa free and im thankful that it wa besides a few nice photo for clothing there isnt much to make this magazine worth the cost',\n",
              " 'cigar aficionado is a surprising magazine that i have been enjoying now for the past six month i rarely smoke cigar or any other form of tobacco so when i first heard about this magazine i wa naturally skeptical i wasnt expecting much because due to my limited experience with smoking and the fact that i have limited knowledge about cigar i figured this magazine would make it way into my magazine mound in the corner of my living room a place where i toss most of the dozen of periodical i receive each monthbr br but after paging through the first issue my opinion of this magazine changed drastically the reason cigar aficionado is not strictly a magazine about cigar like i assumed it would be it is actually an entertainment magazine that devotes the majority of it page to a wide range of topic like sport car travel fashion and other like subject in one issue you can read about all sort of varied topic with article title like best ski resort winning at poker the new face of sport management etc this caught me completely by surprise and im sure im not the only reader out there who felt this way when heshe read this magazine for the first time it title lead one to conclude that it is strictly about cigar but that isnt the case at allbr br my favorite part of this magazine are the travel and drink section i like to partake in an occasional beer and i love to travel so i naturally gravitate toward these two section but even in the area where i wouldnt normally have much interest i have found myself attracted to the article anyway thanks to the quality writing and photography one such feature that i find myself accidentally enjoying is profile a two or three page monthly feature that cast the spotlight on a celebrity who enjoys puffing on a good cigar the celebrity will talk about hisher career and the smoke heshe enjoys the mostbr br even though this is a multi faceted entertainment magazine cigar lover will enjoy the rating and buying guide information found in each issue the magazine own panel of expert blind test each of several dozen smoke in each issue and then assigns a rating from zero to one hundred point the cigar are then sorted by category in descending order based on score complete with tasting note on each the size and the price at the end of the rating you will find the same list organized by country of origin followed by another rating list called connoisseur corner that includes more rating of unique smoke the only thing that could make this section better is more buying information there is no web site phone number or other contact information provided all you have is the name of the cigar and the price it up to you to find the cigar if you want to make a purchasebr br this magazine subtitle is the good life magazine for men a such there are only a few article to be found that will interest the majority of woman even the interview are usually written about men and from a man point of view about the only thing missing from this magazine is sex thats right you will find all sort of thing that are of interest to men in this magazine except for the most important one of all i guess the editor of cigar aficionado decided that there are already enough magazine that cater to man natural animal instinct and they concluded that devoting the space in each issue to other indulgence wa sufficientbr br overall cigar aficionado is a very good magazine about entertainment it cost more than other magazine but it is also much longer than most with some issue approaching page it offer a wide range of article about living the good life with excellent photography and entertaining writing that will appeal to the majority of men in all age group',\n",
              " 'detail is a mildly interesting magazine that is geared toward men of various age and lifestyle the main group that detail aim to capture is the to year old male but there are article in each magazine that could be appealing to men of many different age mostly in the middle to upper income groupsbr br some thing about detail quickly set it apart from other magazine one difference is the department most magazine have department but instead of talking about the same thing each month these department vary in their content each one contains similar story from one month to the next but with different subtitle helping to make each issue a little fresher than it would otherwise bebr br a far a the writing go detail offer a great deal of diversity for a magazine yes it is generally focused on thing of interest to men but it cover a very broad range of interest you can find article in this magazine on such diverse topic a the death penalty raising kid buying a new coat setting up an internet business breaking up with a girlfriend or purchasing the best vodka there are article geared toward single men and married men a well a younger men and middle aged menbr br i like some of the article found here but there is one problem i have with the writing in detail it is common to find eye catching headline on the cover of detail that tempt you to find out more this is nothing new and most every magazine doe this but the problem is that many of these eye popping story fail to keep you amazed when you read them take for example an article in a recent issue on the front it read is your wife a bad mom it sound like an engaging intellectual read but once you find the article and take in it word you quickly discover that there is little or no substance basically it simply tell men that accusing your wife of being a bad mom is a risky undertaking that could hurt her feeling that is it there is no intellectual analysis or quote from study only the bottom line conclusion that mother generally dont like to be called incompetent by their husband other headlining article in this magazine lead to similar disappointmentbr br the writing in this magazine is on the edge and very blunt it is common to find several four letter word in many of the article and while this doesnt bother me at all i know that some reader will consider it too raw too edgy and too explicit detail writer have no problem telling it like it is and this can be both good and bad depending on one perspectivebr br besides the language some part of this magazine could offend certain reader namely the anthropology page at the end this closing article is meant to be humorous but some reader will not see it that way i dont know if it ha always been this way but what anthropology doe is show a person or multiple people and then asks the question gay or for example i have seen title like gay or best friend gay or cowboy gay or neo punk rocker and others with each of these there is a diagram of sort with arrow pointing to different clothing and bodily feature and short comment about each one basically it is asking you to think about these different attribute of the person or people in the picture and then decide if the way they dress look and act make them gay i find this silly and immature but i can see how some reader would find it insulting i dont know if detail ha always done this or if the anthropology page ha been different in the past but this is how it ha been in every issue i have read and it need to be changedbr br advertisement claim about sixty percent of the page in each issue of this magazine they cover product like liquor car electronics cigarette fragrance etc even though this magazine cover lot of different thing the item most often featured in the advertisement is clothing the magazine seems to have a penchant for high fashion and it devotes more page to expensive clothing than anything else and each issue often ha it own unique smell thanks to all of the cologne sample you can flip through the page and find several sample in each issue with many of the latest and trendiest scent from the biggest name in colognebr br overall i am torn between liking or not liking detail magazine i like some of the article on food drink politics and the like but i dont necessarily like the shallow fluff that is often substituted for an intellectual discussion and i can understand how some reader would find certain aspect of this magazine insulting this magazine is deserving of only about two and one half star which i will round up to three star and give a small recommendation some will like this magazine and some will not it all a matter of what you like to read about and whether or not you can handle a magazine that push the envelope',\n",
              " 'sunset is a magazine dedicated to the people culture and lifestyle of the american west this magazine divide it space among many different topic such a food and entertainment travel recreation gardening and morebr br i have been reading this magazine for about six month now and there are several thing about it that make it worthwhile the thing that stand out the most are the photograph and im not talking about just the stunning scenery one normally associate with the west even the ordinary picture are striking in the gardening section for example it is common to find picture of family home that have beautifully landscaped yard full of blossoming flower and colorful plant in the home design section one can find nice photograph of home interior showing different design and furniturebr br one of the most unique quality of sunset is the fact that it is published in five different edition there is a specially designed issue for the northwest northern california southern california the southwest and rocky mountain this is a nice idea and it one that other magazine should consider emulating based on where you live or where you have an active interest this will be the region that your issue spends it page covering my subscription is for the northern california region so i am treated each month to article about place like san francisco sacramento reno lake tahoe etcbr br one of the specialty of this magazine is food and it is common to find recipe throughout every issue there is a special section set aside for food but one can expect to find food article and recipe everywhere a they read even the cover page of each issue feature a food dish and a you might guess the featured recipe are generally those type of cuisine normally associated with each specific region of the west with plenty of generic recipe thrown in to make sure everyone ha something to cookbr br one of the specialty section of this magazine that i like is the value vacation a subsection of travel recreation this section highlight a specific place to travel and then offer a day by day breakdown of thing to do and place to see with the cost for each itemized so you know exactly what to expect the highlighted city or tourist area can be anyplace in the west and isnt limited to the region that your issue cover this section is nice because it let you see in black white what it will cost for a few day of budget entertainment it reminds me of some of the television program shown on the travel channelbr br advertisement cover about to percent of the page of each issue and they are often found in bunch in the front and back and on alternating page for much of the rest of each issue the ad can center on all sort of different thing because this is a combination travelculturefoodentertainmenthome gardenliving magazine the ad cover a wide range of product and service from laundry detergent to credit card to cat foodbr br overall sunset ha proven itself an enjoyable magazine i dont live in the western united state but this region is my favorite part of the country so it make sense that i would find something of value in this publication i like the photography the personal story the gardening and decorating idea and most other aspect of this magazine if youre dead set in your way and refuse to read about anything that deviate from your eastern southern or midwestern lifestyle then you may not like sunset but for the majority of people sunset ha much to offer with page and page of eye catching picture and friendly article about life in the american west',\n",
              " 'wine spectator is a good wine magazine that seek to keep the reader informed about new wine product wine fact and education and wine event this magazine is published time per year so it is available often enough that most wine lover will have more than their fill of reading materialbr br most of the material in wine spectator deal with buying wine and you can expect to find several rating list in every issue the editor of the magazine supply the majority of the wine rating so when you read that one wine earned point and another only you need to keep in mind that these rating are from the perspective of people who have sampled hundred or even thousand of different wine and with each rating or analysis there is often contact information such a the name of the winery or web page so that you can learn more andor inquire on making a purchasebr br to help shopper find the wine in each issue wine spectator includes a detachable card that includes the name of the different featured wine this is a handy addition because it eliminates the need to copy down name of wine on paper or attempt to memorize the title all you do is check off the wine you like on the card and take it with you to your favorite beverage store for easy referencebr br wine spectator seems to have an obsession with list and with outlandish proclamation it is common to find list like world greatest pinot or the finest california red consumer are attracted to listing and that is probably why the magazine gave in and made list a regular part of most issue and it is common to find extreme statement like this is the best cabernet sauvignon on the planet or greatest german white wine ever the publication doe this to attract attention and sell more issue but it could get annoying to some readersbr br in spite of these few annoyance wine spectator is still a good magazine the writer at wine spectator are very good very convincing and very persuasive they really know wine and it come through in their article and recommendation the editor articulate themselves very well and they know just the right way to describe the different brand and style it all add up to a very informative magazine publication on the world of wine',\n",
              " 'bridal guide is a lengthy magazine designed to appeal to bride in waiting and to those woman who see marriage on the horizon this magazine is devoted to bridal fashion and to other thing that are involved in making the day special and memorable besides the fashion one can read about wedding planning honeymoon idea photography and other wedding related thingsbr br when you read a copy of bridal guide what stand out more than anything are the photo this is the main reason people read this magazine in the first place to look at wedding attire and compare different style model wearing wedding gown are abundant in this publication and some of the bridal gown they adorn are quite stunning to help future bride make a possible purchase it is common to find a phone number andor a web site with the majority of the photo bridal attire is the main focus of this magazine but there are also some picture of groom and of other wedding party member with model displaying other fashion for sale once again complete with phone number and web pagebr br the part of this magazine that focus it attention on honeymoon and travel is probably my favorite part of the issue what i like is the fact that this is one part of the magazine that can appealapply to anyone regardless of marital status these honeymoon tip and destination information provide some good reading material for the bride to be or anyone else who happens to read the magazinebr br bridal guide is a very lengthy publication with each issue containing around page this is more than double the length of most other magazine and it can make the issue seem a little overwhelming at time also this magazine is saturated with ad since the majority of the gown clad model are in effect advertisement for a specific fashion brand one can expect to find ad covering the vast majority of this magazine page this could be annoying to some but one must bear in mind that the magazine focus is wedding planning so excessive advertising is expectedbr br for young bride to be or bridal wannabe this is a handy magazine to have around it very long but it contains lot of fashion and wedding planning idea to make the big day one to remember forever',\n",
              " 'entrepreneur magazine is one of my favorite business publication and it the type of magazine i can count on for up to date information on business startup and for possible resolution of common problem to the small business owner a monthly publication this magazine is designed to appeal to those who are presently owner of a small enterprise or who aspire to open their own business in the near futurebr br what i enjoy most about this magazine are it personal article story about ordinary people like you and me who have successfully started a new business venture these people share their success story with the reader offering insight on what strategy helped them reach their present level of success and what challenge they still face the people featured in the article are more down to earth type who own smaller company making the magazine more realistic and something i and others can better relate to many other business magazine spend too much time interviewing billionaire ceo and others who while they may have some interesting story to share live lifestyle and have problem that only someone of their stature can relatebr br on the practical side entrepreneur contains many timely article about common issuesproblemschallenges that arise when you own your own company money marketing management and other key topic are covered in each issue with a regular department for these critical aspect of business ownership in these section you can learn about tax law change legal issue with benefit and other related topicsbr br entrepreneur organizes each issue quite nicely with colored tab on the page that indicate which section they pertain to this make it that much easier to sift through to find the information you need and there is a section titled source that help to index the different service and company mentioned in each issuebr br overall this is a useful practical magazine that can come in very handy for present business owner and for those who have an interest in proprietorship it keep business owner up to date with the latest change in law and it offer some creative solution to the everyday problem that small business encounter each day',\n",
              " 'hawaii magazine is a very good publication for those who have an interest in america fiftieth state this magazine brings the world of the hawaiian island to your home every month with fact figure and photo taken from this island chain paradisebr br one thing about hawaii magazine that is different from what you might expect is that it cover more than just travel when i read this publication for the first time i wa surprised at the content within i always assumed this wa a magazine solely about travel and tourism while travel resort and related topic are an important part of this magazine they are not the only part the rest of hawaii magazine deal with cultural and native topic it let you discover the people who inhabit these island you get to learn about hawaiian custom holiday art dress and culturebr br with the emphasis on culture hawaii magazine is a learning experience the people responsible for the publication of this magazine want reader to come away with a better understanding of what it mean to be hawaiian and to live in this island chain they want you to think of hawaii a more than just a nice warm sunny place to visit they want you to learn about the people that inhabit hawaii how they dress how they celebrate event how they interact with others etcbr br if i had to name a few con to this magazine they would have to be the publication short length and it infrequent publication other than these negative aspect most everything else about this magazine make it worthwhile to read it an educational lesson on the people and the lifestyle of those we call hawaiian',\n",
              " 'log home living is a good magazine for those who have an active interest in buying and living in a home made from log this publication cover everything you need to know about this type of living from the planning of a home all the way through the financing the furnishing and the maintenancebr br what i enjoy most about this magazine is the fine photograph found on most every page i dont really have much interest in living in this type of home but the photo are very appealing and enticing some of them are taken inside of log home letting you see firsthand the dividend that some attention to design can bring some of them are taken on the exterior allowing reader to see the country landscape and marvel in the natural beautybr br another nice feature of this magazine is the abundance of phone number and web site for good and service if you find something you like you will know exactly where to turn for more information if you find a product or service you like that doesnt list a source dont worry there are some special index section in the back with list of product from the current issue referenced by page number showing the company name phone and web site so you can find what you like and make a purchasebr br on the negative side a magazine like this one contains lot of advertisement the majority of them are found at the end of the magazine but there are plenty of them throughout and you can not turn more than a few page before finding one i would estimate that more than two third of the page have some sort of advertisementbr br since a good deal of this magazine is dedicated to furnishing interior design landscaping and maintenance there is something here to suit every home owner need even if you dont have an interest in log home you can still find plenty to enjoy in log home living the picture alone make it worth a look',\n",
              " 'this magazine is a product of condenet publishing and it is aimed at the younger female market roughly from age to this publication is a shopper paradise with more advertising than most any other magazine on the marketbr br i got a complimentary subscription to this magazine one day and i accepted not only because it wa free but also because i really didnt know it wa a woman fashion magazine with a title like lucky there were all sort of possibility it could have been about gambling sweepstakes or about getting lucky i didnt know it wa a woman magazine so i accepted it and from what i can see this magazine is one of average worth to the average person and it will appeal mostly to younger womenbr br fashion cover a good amount of the magazine plus page beauty tip are another important area of coverage it is also common to see sample of different product inside the page of each issue thing like perfume sample shampoo and other thing can be found buried somewhere within each copy the coverage includes casual a well a high class clothing and beauty product with most of it falling at the upper end of the cost scalebr br if you can tolerate the clogging of advertisement this magazine might be a good choice for the younger female crowd that like to keep in tune with the latest style and trend outside of that targeted market however i dont see much use for lucky magazine the photography is very good and the presentation is professional but the magazine will likely be rated average by a large cross section of the population',\n",
              " 'food and wine is a pretty good magazine for those who enjoy the finer thing in life when it come to unusual cuisine and expensive fermented beverage this publication is usually very long over page and it packed full of recipe travel excursion to wine growing region and general fact about different variety of wine and where to find thembr br one thing about this magazine that surprised me at first is the emphasis on the food i know the magazine is titled food and wine but my initial impression wa that this would be a magazine devoted entirely to wine with occasional mention of the food that go with wine it isnt like that at all the food section and the recipe are just a important a the featured wine recipe are so frequent in fact that the magazine even ha an index located near the front with all the recipe listed by food type showing the page number to turn to for the recipebr br besides the frequent talk about food and wine this magazine is also dedicated to entertaining i have heard it suggested that this magazine should change it name to food wine and entertainment it would make sense because conviviality and high class partying are certainly an important component of this magazinebr br there is one thing about food and wine that i wish wa different i appreciate the factual information and i like the personal touch that you find in some of the story about winery owner chef and the like but i think food and wine get a little too sidetracked from time to time in it reporting for example it is common to find story that talk about subject like home decorating this would be fine in a magazine about home design but i dont think it belongs in a magazine like thisbr br overall this is still a good publication lover of great eats and fine drink will enjoy it the most it worth taking a look if nothing else just for the recipe even if youre not a frequent imbiber of the fruit of the vine there is still something of interest to be found in the page of this magazine',\n",
              " 'technology magazine are often a little bit on the boring side due to their limited appeal that make them readable only to those who work in or have an avid interest in this field ieee spectrum however is a little bit different it ha plenty of information on the latest advancement in technology like other tech publication but from a different spectrum if you willbr br what set this magazine apart from the rest is the personal and political topic that make their way into each issue you can read about topic like global warming tariff technology regulation and general business ethic these different topic are blended together with the magazine core subject of technology and the result is a publication that is more readable than most in the tech fieldbr br another nice thing about spectrum is the minimal amount of advertising what few ad you will see are entirely related in some way to technology you wont see an ad for a car boat home financing or other product or service like you do in most every other magazine in america this magazine stick with technology for it ad and because of this the few ad that exist seem even le common than they already arebr br this magazine is a little shorter than other monthly publication with each issue containing about to page this is the length i expect in a weekly magazine not a monthly one the publisher need to improve and expand the number of page a magazine this short doesnt provide enough reading material for an entire monthbr br still ieee spectrum is a good technology magazine the combination of political economic and social topic keep this publication from getting too dry and too technical it make it much easier to read than other magazine of the same genre',\n",
              " 'golfer share many thing in common and one of these is an often fanatical love for the game for these type nothing can take the place of heading to the nearest golf course but golf digest come very close this magazine contains over page each month dedicated exclusively to the sport of golfbr br the thing that set golf digest apart from the competition are the numerous article about learning and improving your game and the personal story and interview other golfing publication attempt to help you learn but they often get too mechanical golf digest show you how to improve your game with tip from professional including some of the star studded member of the golfing elite like tiger woodsbr br besides all the tip and trick golf digest also show the personal side of the sport with interview and more intimate story about the many colorful personality in the game this personal dimension add greatly to the magazine overall appeal providing great reading material to complement the more instructional side of the magazinebr br golfing digest may not be a great a a day spent on your favorite golf course but it come close i consider it the best publication of it kind and i recommend it to anyone with an interest in the game',\n",
              " 'are you the type who enjoys a nice excursion in a sailboat if so then you will probably enjoy sail magazine this publication is one of dozen available on the newsstand that cover the sport and hobby of sailing but i feel it one of the best aroundbr br what make me feel so strongly about this magazine is the fact that the article and advice are written by actual sailor this magazine doesnt waste the reader time with article composed by so called professional writer instead it stick with the people who know sailing better than anyone the sailor themselves this make the magazine more believable and more respectablebr br sail divide it time between factual article and one that are more personable in nature the factual article cover thing like how to maneuver a boat in different direction what to look for when you shop for a new navigation device the advantage and disadvantage of catamaran etc these factual story are intended more for those who own boat and want to keep them in tip top condition the other article deal with personal story and they rank among my favorite in each issue these article feature individual and family who share their sea going experience with youbr br sail also ha lot of review of boat related product and plenty of ad in the back of each issue for shopper who are looking for a boat ad in the rest of the magazine are scattered around but they tend to stick mostly to boating and related product the review are nice but i would prefer to see more opinion from more people to make comparisonsbr br sail magazine ha many great quality and they add up to a well rounded publication a magazine that i feel is the best in it field whether you sail for sport or for leisure sail magazine is probably the best of it kind great photography informative article and personal story place this magazine in a league of it own',\n",
              " 'national geographic is one of the best magazine of it kind with plenty of great photography thoughtful article and diverse coverage of several different topic relating to the planet earth story about wildlife different culture and even environmentalism and the politics it breed can be found on the page within each issuebr br what make this magazine so enjoyable is the fact that it go so in depth in it coverage and includes story with a personal element when most people think about national geographic they usually think about the great photograph of natural wonder exotic plant and animal wildlife these thing are all great but they form only part of the magazine overall appeal story about different culture and people from around the world are just a good and are usually presented in a personal way you feel like you know the people on an intimate level when you read this magazinebr br this publication contains between and page in most issue with about a dozen or so monthly department a well a some varied article that change each month but are always concentrated on nature science politics culture etcbr br national geographic is often very educational and intellectual making it a learning device a well a a magazine for entertainment it one of the better more thorough magazine on the market go ahead and give it a try you just might learn something in the process',\n",
              " 'men journal is a decent magazine full of varied topic of interest to men this magazine cover area like sport adventure travel fashion and style car and truck career issue etc this publication directs all of it article toward men with an emphasis on what is most appealing to male throughout a typical week in their livesbr br one thing about men journal that is a little different from other men magazine is that it doesnt flaunt woman to sell it issue in fact there are practically no picture of woman at all in this publication something that will be considered an asset to some and a liability to others this magazine refuse to play the female card and instead focus it article on topic that men like to read aboutbr br men journal is often obsessed with list and i think this is especially true in the last few year take a look at the cover of most issue and you will see a large boldface advertisement for some sort of list in one issue it might be a ranking of the best city for entry level job in another issue it might be a listing of the best place for young entrepreneur whatever it might be men journal seems to have an infatuation with list probably because men like list and it help increase salesbr br this magazine can be counted on to produce some fairly good reading but i must warn that many of the article are a little too simplistic with little emphasis on intellectualism even the article about politics and business are often riddled with obvious statement that most anyone would know but overall i still think men journal is a good magazine it is varied enough that most anyone will find something interesting to read and the price is very low',\n",
              " 'family circle is a fairly good magazine that feature article on family life raising kid travel personal finance home improvement and more it is primarily directed at the female population with article that emphasize the role that mother play in household managementbr the article that feature recipe and family life form the bulk of the story in family circle le common are the article involving personal finance and other topic these financial article are a nice addition and i wa surprised when i first saw them in this magazine but potential reader should be forewarned that these article are not very in depth they only skim the surface of finance talking about such simple matter a balancing a checkbook refinancing a home and paying off credit card debt you arent going to find a story about purchasing stock option or selecting tech stock family circle keep it simple and cover only those financial topic that are relevant to taking care of the home and daily livingbr family circle is published time per year with a low subscription cost it may not cover topic a thoroughly a other more specific magazine and it can sometimes get a little repetitive from month to month but it a pretty good magazine overall with tip on cooking cleaning fashion raising kid and taking care of one home',\n",
              " 'scientific american is a good magazine for those who enjoy reading about modern science advancement in technology and medicine economic improvement and anything else of a scientific nature each issue is about page in length and can be counted on to stimulate your intellectual curiositybr one thing that make scientific american more appealing than other science magazine is the fact that it includes article on more than just the physical science like physic chemistry geology etc it also contains timely and informative article on social science like economics and politics this add a lot to the magazine appeal and it one of the main reason why i choose to read it each monthbr one thing that might bother some potential reader of this magazine is that scientific american doe tend to present a mostly pro government angle on the social and human interest story that it present in almost every instance the writer of scientific american draw the immediate conclusion that only the government can possibly solve the pressing issue of the day they dont even give much consideration to anything else they immediately concede most any problem to the authority of the statebr in spite of the liberal leaning however i feel that scientific american is still a very good publication to read it includes puzzle that test your knowledge of science book review on recent scientific book release and some good well written article about science and how it relates to our day to day life it a good magazine for those who like to stay informed',\n",
              " 'stuff is a sister publication to maxim magazine it is similar to maxim in several way both feature a significant share of silly article and questionable writing ability by the journalist who contribute to each issue and of course both focus on woman and sex to help them sellbr with stuff the reader is treated to approximately page of mindless drivel with goofy monthly department like a guy and his stuff which feature a male celebrity who describes some of his favorite possession and the back page activity sheet which feature a puzzle of some sort like a word search or maze a you can see from these two example stuff is not exactly an intellectually stimulating magazine it is aimed at a young male crowd even younger than the target market of maximbr most guy who purchase stuff do so for the photo of near naked woman these photo can be found throughout the magazine from the cover and on through to the end the interview with some of these celebrity are about a useless a they could possibly be with most of the conversation in the interview geared toward personal relationship and feeling about any number of shallow topicsbr if you like to reminisce about your day in junior high school the stuff might be a good choice of magazine for you but if you prefer at least an inkling of intelligence then i recommend passing on stuff there isnt much substance here at all and most of what you read will leave you shaking your head and rolling your eye the magazine primary audience is the to age group and even many in the target group will find it idiotic for everyone else stuff is a total waste of time almost no brainpower is dedicated to the writing of this magazine',\n",
              " 'maxim is a monthly publication aimed at the younger male population aged to this magazine offer a few amusing tidbit each month like joke and unusual way to make thing there is an occasional fashion article and some monthly article on electronic gadget and music but the primary reason why people buy maxim and the main reason it sell a well a it doe is the womenbr maxim is not really an adult magazine like playboy or penthouse it photograph do not expose so much that they should garner an x rating but many of them come very close from the picture on the cover to the photo in the middle maxim us sex to sell it isnt strictly a photo op magazine for young woman there are interview to accompany the visual effect but the small talk is almost always geared toward sex how to get it how to keep getting it for a long time how to improve your chance to get it how to help friend get it how to turn woman on etcbr the photo in maxim are enticing and i dont think any red blooded american male would deny this fact but what hurt maxim a little bit and what keep it from gaining a much respect a it could have is the monthly dose of stupidity that come with each issue much of what you find in the how to section for example is idiotic and i can not imagine anyone taking it seriously the bar exam feature is also bordering on stupidity with a set of trivia question each month about some type of useless informationbr overall i think maxim is at least an average magazine in spite of it flaw yes many of the article are brainless and the humor is the type that would amuse a year old but the main reason people buy and read at maxim is the photograph of the woman with so much flesh exposed without going to far maxim is a publication with a purely visual bend you wont find much intelligence here but you will find plenty of photo of scantily clad woman tempting your hormone with their youthful good look and uninhibited personality',\n",
              " 'backpacker is an outstanding magazine for those who love to hike and also for those who enjoy paging through a magazine containing lot of enticing photograph of nature scene this magazine is first and foremost a publication for lover of the outdoors and the sport of backpacking but the picture of mountain lake stream wildlife etc are enticing to anyone they can quickly convert the non outdoorsman type into a nature loverbr besides the great picture backpacker is also excellent for it product testing and for it advice and educational material backpack mountain bike tent and so forth might seem like simple product but you would be surprised at how many different variety and option are available for this type of merchandise backpacker describes different item available for sale complete with web site address and phone so you can make a purchase and it often conduct test to see how the different product stack up it also offer educational material on the sport of backpacking and general advice on such topic a food exercise proper nutrition first aid etcbr backpacker average between and page in total length and it published time per year it one of the few special interest magazine i have read that ha something to offer most anyone even if you dont like hiking there is still a good chance you will enjoy thumbing through the page of backpacker if nothing else just to enjoy the great photographybr overall this is an outstanding outdoor publication the article the personal story the advice the photo and the educational material all add up to a perfect magazine for anyone who love to partake in outdoor activity or who just enjoys looking at the stunning photo star to backpacker',\n",
              " 'island magazine is a must for the travel lover each issue feature stunning photography article from people who have visited various world island and advertisement on popular travel destination around the globebr the article covered in this magazine usually focus on popular island for traveler like the caribbean south pacific island hawaii etc but on occassion the magazine feature other island too including those that are not a popular a tourist destination like the balearic island ceylon madagascar and othersbr there are lot of advertisement in this magazine and that might not sit well with some reader who prefer more article and le selling but the ad are helpful to the reader because they often include bargain price there are also classified ad from other reader who have island vacation property to rentbr if you like to travel and you love water then island magazine is a great publication to read the photography alone make it worth while it will tempt you to head to the nearest travel agency and book your tropical beach vacation asap',\n",
              " 'easy read on product accessible to the mainstream homeowner some highend also includes best of rating that are meaningful will renew',\n",
              " 'the magazine is a hard read even for the serious audiophile extremely technical reviewing very very high end esoteric product i will not likely continue my subscription even though i have a k home theater',\n",
              " 'my great nephew love this magazinemakes for a great gift',\n",
              " 'my great niece love this magazine and look forward to getting it every month it make a great gift',\n",
              " 'informative being from the south i really enjoy seeing some of the recipe in the craft',\n",
              " 'i really like wired magazine some of the article are a little too geeky even for me mostly because they get so technical that i am somewhat lost but of the magazine is great and i love the short story and the new gadget',\n",
              " 'the information wa exactly what i wanted to see and the extra story are quite informative ill definitely renew when the time come',\n",
              " 'great read excellent value',\n",
              " 'i love food magazine and have subscribed to so many if i were forced to choose only one it would be food network magazine',\n",
              " 'i love this gossipy tabloid magazine it make a nice break from serious reading the subscription price is much much better than single issue price at the grocery storesbr br downside delivered by usps and have missed or issue impossible to get any resolution on mail wo a tracking number',\n",
              " 'one of the best military mag around always good interesting article and story',\n",
              " 'wonderful',\n",
              " 'only evening listing not much info on the show there must be something better',\n",
              " 'even though it is a little bit more on the expensive side the magazin is great information and even my wife pick it up and read it our family really love it a lot',\n",
              " 'i actually canceled this purchase before getting the st issue but they sent it to me anyway i wa very impressedgreat writing and a nice variety of subject matter covered in the issue i receivedbr br ill probably reorder at some point but i have to get through a few more book',\n",
              " 'fancythanks',\n",
              " 'ordered magazine for my son but i am receiving a copy also i dont golf',\n",
              " 'i ordered this for my son however both he and i are receiving the magazine i dont golf waste of magazine',\n",
              " 'this wa a gift',\n",
              " 'this work perfectly on my fire hdx tablet i love being able to click on the link and see various product or more information from an article instantly the all access ha had no problem and i am getting the hard copy of the magazine each month a well i just pull the address label off and donate them to the local nursing home both the nursing staff and the resident are happy to have new current magazine',\n",
              " 'i found myself reading a couple of back issue of glamour at the hospital this past week and realized i really like this magazine when i saw the discounted price for the all access pas and a free tote bag tossed in on amazon i jumped on it the kindle hdx version is really nice page swipe along swiftly and the extra content is fun and easy to access i love that the ad have link available if you want more info right then my shoe addiction is in serious trouble i just bought my subscription last night and devoured the online edition the physical magazine will arrive in a few week and thatll be nice to flip through and share with my neighbor',\n",
              " 'for all archaeology enthusiast beautiful large magazine with lot of photo and new discovery',\n",
              " 'great mag for the scifi fan really nicely printed and formatted lot of info on upcoming movie and television show a must for the science fiction lover',\n",
              " 'reader digest is a legend in the magazine world it ha interestingfunnyand informative story in each issue great valuehighly recommend for young and old alike',\n",
              " 'i particularly like the rating system it clear and the number keep thing simple to understand home theater give i feel good advice on what to buy ha interesting column and so forth theyll occasionally cover rather esoteric highend equipment but they also cover thing that are midpriced and a these thing go they seem more honest in their coverage than most stereophile a competitor might be a tad more technical but the review there are harder to figure out and some of the equipment so esoteric that only a millionaire would buy it and they get too lost sometimes on the golden ear aspect sound vision is probably the closer competitor to home theater theyre relatively close but id give the slight nod to home theater theyre just executing better review easier to read and follow numeric system make it simple',\n",
              " 'first issue so thin i wa shocked they would even send it out subscribed due to price onlyover the year i have flipped thru them at store check out line and never wanted to spend on one dont have kidsdont want to read about kid issue to that extent',\n",
              " 'glad that now i can get it though my amazon being a fan of this magazine for long time',\n",
              " 'found this magazine via their instagram page decided to subscribe after receiving the first issue a a gift great idea and recipe and tip for vegan from beginner to those who have had this lifestyle for a long time',\n",
              " 'this mag ha lot of puzzle and thats the main reason i get it i enjoy all the different challenge',\n",
              " 'son like he is year old and sat still for a while to enjoy beautiful picture',\n",
              " 'hotep family i recommend the time magazine because it seems like theyre always on the scene and im sure if youve ever seen one you know what i mean i recommend my friend you got to know the trend thank you for looking at my review i hope it wa helpful for you if it is please let me know by simply checking that helpful box below god bless you and may the rest of your life be the best of your life baba oran z',\n",
              " 'love the article and idea both in the actual magazine and the online article also this is my new favorite magazine definitely the most useful one',\n",
              " 'my kid fight over these they love them so much i love hearing the random fact theyve learned',\n",
              " 'so far so good will keep you posted',\n",
              " 'this is one of my fitness magazine love the material and article usually pick up some new tip',\n",
              " 'this magazine is always up to date on the best article and book to buy article always get to the point and always so interesting to read would recommend this to anyone thats interested in poem or short story or article on these subject',\n",
              " 'always enjoy reading on what oprah ha got to say a smart woman indeed magazine usually ha great story with such great pic always looking forward to see oprah in my mailbox',\n",
              " 'fav magazine',\n",
              " 'husband love it',\n",
              " 'low on the geographic high on the people magazine interview with paul mccartneyreally',\n",
              " 'i decided to get a subscription to this magazine and discovered that it nothing but ad with a few blah recipe with obscure ingredient what actually tick me off the most are the stupid renewal notice i got before i even received my first magazine sorry wont be renewing it it all fluff and ad',\n",
              " 'i love every issue since the page get fewer and the picture get bigger im beginning to wonder if everything is okay though and my magazine will continue to arrive',\n",
              " 'this magazine is invaluable for the presentday producerbr br i produce hip hop track and find that this particular magazine is tailored perfectly to the producer who work much with virtual instrument plugins and the likebr br each month issue also come with a bonus cd that includes plugin demo tutorial video sound sample etc this for me put future music in a different league than other magazinesbr br mag like mix and eq are great covering a wider scope of music and musicforfilm production but for the producer working with a digital audio workstation future music is probably the best get right down to business audio magazine availablebr br highly recommended',\n",
              " 'really like this magazine',\n",
              " 'nice magazine i enjoy itbr update i really do enjoy this magazine i only wish it came more often and wa twice a big i get several magazine but when this one arrives i sit down and read it all',\n",
              " 'love the cooking recipe',\n",
              " 'love this magazine for my sweet hubby',\n",
              " 'we first got this magazine when our son wa year old he could not read so we would read it together and it delighted him with lot to do from the object search to the question quiz to the howtodraw lesson featured in each issue there wa plenty to attract all age of reader from k to well my son is now and still read itbr it all started with our youngest daughter becoming this past winter our year old son found her pawing around in his hidden stash of nature friend magazine which we had stopped getting over a decade ago he kept carrying on about how he wished we could get it again for her sakebr i looked all over the internet through every directory and in old edition of the magazine but nature friend seemed to have disappearedbr then we found it here on amazoncom a couple of month ago we got our first issue a few week ago and there is always someone reading it somewhere in the house me includedbr the quality of the magazine is greatly improved there is plenty to do for all age recipe study of interesting thing and interactive project for all agesbr one of our favorite feature is the how to draw series that they still have very nice lesson on drawing some kind of animal or natural thing are given reader send in their best shot at it and many photo of their contribution are featured in future issue there is a lot packed in to this page magazine and no adsbr i can not rate this magazine highly enough we stopped getting big backyard because this magazine offer so much more and we could only get one magazine for this year we are so glad to have found it again and it ha even improved',\n",
              " 'my son love these magazine the subscription on amazon take month to receive however',\n",
              " 'i bought them for my daughter and son when they were young now buying for my grandson he love them',\n",
              " 'my grand daughter love these she take them to school to share with friend',\n",
              " 'my grandkids have gotten copy over a month period and what they have received are very poor quality i wont spend another penny on this worthless twaddle and i wish there were a moneyback option',\n",
              " 'the article and picture are incredible i bought an issue in a bookstore when i wa in japan for a while and paid nearly a much for one copy a for the whole year this is a fantastic buy the only problem is what to do with them once ive read them cant discard them',\n",
              " 'good one',\n",
              " 'love this magazine have been buying it on newstands even though it is vegan i can substitute normal ingredient or add meat it great when i cook for eggallergy friend the photography is stunning but this amazon subscription wa cancelled and my money refunded with no explanation back to buying it at health food checkstands',\n",
              " 'who doesnt love dr oz this magazine is full of great information',\n",
              " 'i wanted to enjoy literary essay story and article but it seems like every issue i received this last year is packed full of a religious agenda of one variety or another to be sure the theme seem to be an eclectic variety of spiritual and cultural mysticism but the magazine never just leaf it out it always a tome espousing some collection of belief cultural system and world view that relate humanity to an order of existence using religious narrative symbol and sacred history or allusion from one or another everytime i read it i feel like im being proselytized',\n",
              " 'the magazine ha good intention and worthy goal the photography is awful the layout design and printing is so bad a to be distracting the writing is good for the target audience which would have to be rather good beginning reader because there scarce little that is attractive to the nonreader with that said the writing is neither personal nor authoritative you get the sense the author are simplifying or dumbing down a more authoritative source on their subject than themselves',\n",
              " 'i found the offer confusing and didnt realize i wouldnt be able to access the magazine on my macbook i like getting a paper copy though i read it and pas it on',\n",
              " 'i dont believe that people actually eat all of these recipe some of them were downright weird',\n",
              " 'really enjoy the whole magazine appreciate the update for my old new orleans recipe from my grandmother and mother ive given subscription a gift and have received very positive response glad that i found the magazine and that amazon offered such a good price',\n",
              " 'i like reading this magazine in addition with other fitnesshealth magazine for woman it full of helpful article that motivate me to work out and eat healthier i like that they include a lot of good information instead of just full of ad i hate paying for a magazine that just includes ad ive been a longtime subscriber to this magazine and would highly recommend it',\n",
              " 'i love how this magazine give me great inspiring fitness information healthy recipe a well a information on new beauty product that are available to try i always feel inspired after i have finished reading this magazine',\n",
              " 'best luxury magazine',\n",
              " 'this digital magazine wont download to the new fire it load on my older fire the customer service from the company wa irrelevant and amazon didnt respond at all',\n",
              " 'this is literally the best car magazine on the market from novice to professional it is a fantastic and informative read each and every issue been readingsubscribing for year do yourself a favor and get this magazine',\n",
              " 'i am quite pleased with the format on my kindle it mean i can easily carry the recipe to our vacation cottage or when visiting family however i did not get a tote bag or any of the digital cookbook they claimed i could download so that wa disappointing',\n",
              " 'dont purchase should have listened to other review nothing but ad',\n",
              " 'this is a great flagwaving rah rah british quarterly the problem i have with it is they also get religious at time in some feature going on about christianity and the church etc a a nonchristian i find that objectionable and would rather they stick to the topic of the country the people and all that and just an occasional mention of the church a a small part of it remember recent survey show le than of british folk attend church weekly compared with over of american if theyd stay out of the religious stuff id give them star a the rest of the content is firstrate i also take this same firm other quarterly called evergreen it ha the same problem but it is still worth the money a well if you are an anglophile',\n",
              " 'love reading about upcoming jewelry trend artist andbr technique information about new gem mine and interestingbr gemstone great idea which stimulate creativity',\n",
              " 'i enjoy this magazine because of the article about family and their tradition some recent offering were an article about a family who canned tomato for friend and family and a heartwarming history of thanksgiving for a family in california who combined food of india with traditional american food what other magazine would have such article i study the sociology of food how what we eat affect and is affected by our environment religion income etc the article in saveur invite you in and then delight exceeding your expectation',\n",
              " 'i found a cooking light magazine from and tried their banana bar with browned butter pecan frosting can i say delicious but i think personally id about half the sugar when they say light in this magazine they seem to mean reducing fat so the recipe had g of fat but g of carbs i think if they are going to say a recipe is healthier they should also reduce the sugar so next time ill remember how sweet the cake wa and lower the amount of sugar to say cup instead of cup light to me at least seems to mean le fat and sugar i didnt play around with the recipe because i only had three banana and couldnt afford to get it wrong on the first try ill try other recipe in this magazine if i find any in the future but ill remember to pay attention to the sugarbr br the rebecca review',\n",
              " 'i wa in the grocery store standing in line when i looked down and saw dr oz smiling at me i wa really surprised id never seen this magazine before and had no idea of it existence it turn out it is a very positive magazine with lot of tip on how to be healthier and more beautiful it is definitely aimed at the age group of br br if you like cooking you will also enjoy some of the recipe and article on how to prepare food the advertising in the magazine is also not very annoying it seems like the product advertised suit the magazine i especially liked the section on question dr oz answer that wa informative im glad i dont drink raw milk after reading his comment there is also information on the latest health scare and what to do about thembr br the issue i got also had recipe for spa product you can make at home so i felt that this magazine wa a brightly colored appealing magazine that taught me some new thing about lifebr br the rebecca review',\n",
              " 'i am just done reading the mayjune issue and i must say all the story were wonderful i have been reading this magazine for year now since my motherinlaw ha a subscription and she give me her magazine when she is done with them i look forward to reading this each time it arrives i think it is perhaps my favorite magazine of all time the story are just so good comforting and inspirational you never know when an angel is going to appear in the story but something magical always happens a someone who wa once saved by an angel when i wa almost drowning i can say angel are real and they do sometimes take human formbr br the rebecca review',\n",
              " 'my motherinlaw ha a subscription to this magazine and give me her copy when she is done with them the last one i read wa from julyaugust this magazine ha story about hanging clothes on clothesline and canning vegetable since i grew up overseas in africa this magazine appeal to me since it talk about thing from my childhood im only but it is like i lived year ago the advertisement in this magazine do seem geared for people in their s and beyond what i love reading is the wanted ad a lot of people are looking for old friend or for item to make their life more fun so overall this is a pleasant magazine to read when you get a chancebr br the rebecca review',\n",
              " 'when i picked up this reader digest that we get in the mail i wa instantly intrigued by the article about who american trust the most apparently we trust tom hank the most and sandra bullock is next if i have to admit it ive seem many of their movie and they are usually quite good which prof to me that when actor and actress have good character it show through in a movie and make you respect them even more meryl streep and julia robert also made the list oprah came in at number which i thought wa a bit shocking id imagined her being way at the top of the list jeff bezos came in at number i trust him a lot more than most of the people on the list so to me this wa one of the most enjoyable reader digest ive ever readbr br the rebecca review',\n",
              " 'should you try out the hotel hot tub while on vacation or try the pool instead this magazine ha excellent advice for everything from travel concern to fitness and beauty advicebr br recipe for natural salt scrub with buttermilk mingle with the hottest advice on commercial beauty product do the new stickon manicure work what is the newest information on cancer preventionbr br dr andrew weil ha a minute section with holistichealth advice where he explains why wild alaskan salmon and blueberry will keep skin youthful is the air in your home a clean a it could bebr br fun product page offer seasonal comfort for summer you may find yourself looking up beach blanket and fan special section show you how to lose weight even when on vacation interesting advice on how to beat stress and why you should find way to increase the release of oxytocinbr br the only thing in the magazine of concern seems to be the advice section which i read but take some of her advice with a big pinch of salt if someone think they are suffering from an addiction they probably are im at time rather surprised by her answer that seem to lean towards a casual approach to serious lifechanging situation although she seems to give woman great advice about health issue when it come to making them feel better about breast cancer or work situationsbr br the rebecca review',\n",
              " 'spa party and tshirts that say delish are very much a part of rachaels magazine complete with pullout recipe card and travel feature the recipe card all have shopping list on the back so you can grab the card and head to the grocery store there is also a handy recipe index organized by category at the end of the magazinebr br the kid recipe section encourages young cook to participate in family meal this issue had a recipe for a delicious tuna salad with roasted red pepper and grape tomato just for kid tip give idea for how to juice a lemon and there are cute kid comment about the recipesbr br everyday with rachael ray embrace life and doe it with a realistic flair in the junejuly issue idea for picnic include shopping list and recipe for melon skewer with orangelime marinade roy yamaguchi cook at home with his family and offer recipe like miso cod with buttered mushroomsbr br what i like most about this magazine is the realistic recipe complete with everyone cooking and enjoying life the picture are spontaneous and the series of picture for the ice cream cake are stepbystep heaven just when you think this magazine ha everything you could wish for an everyday menu planner appears to give recipe and shopping list grilled shrimp with cucumber salad and smoked turkey panini are musthave recipe for the summer peach resting on a marshmallow meringue are perfect for dessert after the baby back rib with jammy glazebr br this is a magazine about cook chef and rachaels recipe the ask rachael section give you a chance to send in email to ask rachael about her life or to have your foodie question answered in the magazine she also ha decorating advice so now you know what to do with the shell you collected at the beach br br what is the best feature in this magazine besides the recipe what is in the refrigerator of your favorite celeb im always intriguedbr br if you collect cookbook there are many featured in this inspired magazine the advertising doesnt seem to overtake the page and is subtly blended in so it feel very natural and interestingbr br the rebecca review',\n",
              " 'saveur is a celebration of authentic cuisine with everything from food festival to very easytomake recipe like blueberry pudding while there are a few book review for foodie to enjoy the writing introduces cook to international flavor and seasonal fare restaurant are also a feature a are gourmet cooking essentialsbr br while reading you may discover a pastry shop or start to dream of making a recipe like chicken fried steak yes this very gourmet book ha comfort food recipe a well a more complex recipe like the one for olive bread which actually only requires a minimum of bread making skillsbr br after reading this magazine im normally in the mood to drizzle olive oil over just about anything im putting in the oven the recipe for stuffed tomato and summer squash had me wishing it wa october again and the recipe for fig jam reminded me of my childhood in africa where we had a fig tree in the backyardbr br saveur is filled with nostalgia entertaining food adventure and delicious recipe with amazon gourmet food section we can now find the ingredient to make many of the recipe in this magazinebr br the rebecca review',\n",
              " 'creativity is like life insurance if you are creative you are never afraid because you can design yourself out of any situation li edelkoortbr br if you are interested in item like the nissan actic concept car or you want to discover new modern option for your bathroom kitchen or garden this magazine deliversbr br dwell ha a variety of article to interest the casual decorator or the seriously focused chef for example the aprilmay issue had article onbr br home cooking a contractor and his three son design a home with the kitchen at the heart of the homebr br cutting it up a downtown los angeles loft get a makeoverbr br stainless chef designer john picard find a sanctuary with a hightech steam oven and a handcarved tubbr br victorian revival a san franscico couple is the inspiration for a dramatic culinary renovationsbr br trend diva jane szita talk about nesting and nihilismbr br other interesting article include information on house that become art short review for book on subject such a living in a small spacebr br i wa intrigued by the house designed with mostly window on page and high tech enthusiast will also love feature for speaker or cd changer which are most modernbr br well until i can afford a buck oven ill keep reading and dreaming the library in the aprilmay issue is to die for big window and shelf galorebr br dwell is a magazine designed to inspire and inspire it did even some of the text is in color the marketplace section give you a wealth of source to encourage you to start on your own dream design house or otherwise the sourcing section also provides page by page information on sourcesbr br the rebecca review',\n",
              " 'imagine making a beehive cake or a honeycitrus iced tea when looking through this magazine you need a good cup of tea and a pair of scissors you will be cutting out a lot of recipe in fact im sitting here cutting out recipe in between typing there are page of recipe in a card formatbr br the favorite meal section and cooking for one or two is always of interest it show you how to put an entire meal together and all the recipe are includedbr br there is also a section where you can view enviable country kitchen then you can learn how to make ordinary food extraordinary add curry powder to chicken salad or add brewed coffee to cookie doughbr br the men who run the range section is a series featuring men who love to cook and then you can also find out what people are eating in various state across the country these are idea and recipe from real cook across americabr br one time i looked in the doe anyone have section and found a note about a woman who wa looking for specific item after sending her a small box she then reciprocated and sent me the most beautiful framed pressed flower it is a fun section where you can read about recipe people are looking for and if you have the recipe there is an address where you can mail the item i recently learned how to make rosemary cracker and someone is looking for a recipe for various crackersbr br this magazine also ha info on cooking school all over the country you could also be a field editor and share your recipe cooking tip and other idea with the homeoffice staff you could literally end up in this magazinebr br some of the delicious recipe ive been clipping from this magazine includebr br grilled sirloin steakbr crispy fried chickenbr herbed seafood skewersbr chicken with rosemarybr vegetable cheese tortellinibr grilled turkey burgersbr beehive cakebr honey citrus iced teabr br tonight i made a chicken dish with homemade stuffing and a mushroom gravy that my husband really loved i think this magazine inspires me to cook more and i have never read this magazine without tearing out page galore now im dreaming about the pear crisp with lemon sauce and the raspberry cheesecake piebr br the rebecca review',\n",
              " 'well in the november issue last year this magazine had a spa getaway section now i know why so many people were in la conner the last time i wa there there is a topsecret spa hiding there who knew i love la conner and had no idea there wa a day spa therebr br they also featured the salish lodge and spa at which you might find me drinking tea with my parent on a lazy afternoon or having dinner when im feeling like splurging on a gourmet dinner they have redecorated however they still have a wonderful fireplace upstairs i spent the first night of my honeymoon at the salish lodge and i cant wait to stay there again they have deep bath and the entire experience of staying there is just luxurious anyway this magazine tell you where to go and give you idea for luxurious getaway now and then oh and dont forget rosario when my aunt took u away for the weekend we had our toe painted while sitting out in the sunbr br if you are thinking of visiting seattle this is a good magazine to keep handy so you can find out about treasure like the elliot bay book company or pike place market the dining guide will lad you to place you only thought appeared in dream if you are in seattle go to palisade there is an amazing view gourmet food to die for and even a fish pond with a cute bridge you can walk over we love this place for family party ray boathouse ha an upstairs caf we love and then there is the metropolitan grill where you will taste steak that have been grilled over mesquite coal if you want to go all out and enjoy a ninecourse feast try the herbfarm that is now located in woodinville chef jerry traunfeld also make amazing lavender cooky and the recipe is in his herbfarm cookbookbr br this magazine inspires thought of staying at the edgewater hotel and watching ferry sail by on lazy rainy day you will always find intriguing feature talk about the town and a section on enjoying the good life of food and entertainmentbr br the rebecca review',\n",
              " 'while i would hardly call myself a wine connoisseur i do enjoy this magazine for the article and recipesbr br the column in the september issue includebr br from the editor an always inspirational look at what is happening in the food world by dana cowinbr br fashion in food do come and go and thats okay food should involve a sense of discovery there excitement in trying a new ingredient or visiting a new culinary destination dana cowinbr br contributorsbr lettersbr web chat with joyce juebr br how do i cure my new wokbr what are some important wok rulesbr should i stirfry all of my ingredient at once or cook meat separatelybr what kind of soy sauce should i usebr br pairing of the monthbr news notesbr homebr travel an article about mexicobr restaurant the best new place to eat in parisbr master cookbr entertainingbr wellbeingbr kitchen the newest gadget and kitchenwarebr wine mattersbr wine guidebr fast basil chicken curry with coconut ricebr directorybr br last bite plum tartbr br the recipe are ranked according to fast healthy and make ahead they include soup and starter salad and vegetable pasta and rice fish and shellfish meat poultry and dessertsbr br the rebecca review',\n",
              " 'a real favorite in this magazine is the page of quote it is sure to bring a smile or teach you something about life they also always have cleaning tip health topic diet and exercise solution true story beauty hint inspirational article soul nourishing tip recipe recipe and more recipe familychildren flower end of the magazine article to make you think about life and gardening hintsbr br if you want to find a cover story fast they have an on our cover section in the index in every issue there is a shopper guide and a recipe indexbr br the article are helpful and in the march issue they had an article on how to be le stressed they also had an article on pcos which is apparently more common than we woman thinkbr br the beauty section show you the newest fashion and you can decide if you want to adapt your style to the trend always seems rather chicbr br some of the recipe in the march issue includedbr br a luscious lemon coconut pound cakebr coconut macaroonsbr peanut butter oat barsbr baby cheesecake really cutebr banana salsabr french oven beef stewbr pasta with shrimpbr br the recipe are not difficult and seem practicalbr br even the advertising in this magazine is colorful and funbr br a very american gal type magazinebr nothing fancy just real lifebr br the rebecca review',\n",
              " 'i buy this for my husband because he never think to buy it for himself since he hate shopping but anyway it ha article to help him at the gym health information from a guy perspective and workout routine he can adapt for his own usebr br i find it entertaining and there is alwaysbr something you can learn about the way menbr think and react to situationsbr br a magazine with a real personalitybr br the rebecca review',\n",
              " 'of all the magazine this one ha the best layoutbr br whether you are looking for the latest news on your favorite star or are looking for a new recipethis magazine ha it allbr br you know how many magazine say oh we are going to tell you about and five minute later you are still looking for that article well in this magazine they have a great content page with a special on the cover section so if you want to read about nicole kidman she is on page ok that wa in the november issue and it is quite a sad article what ever happened to the fairy tale i just dont knowbr br now if you love reading about other people who are making the news the people section always ha something fun to read about fashion and beauty give idea on the latest nail color or makeup tip the article on relationship are interestingbr br this magazine also ha section for health well being consumer sense the better way food home fiction department and column the tech section is always of interest there is a definite focus on woman a in the best cell phone for woman plus this is where you can find heloise giving out the newest household tipsbr br my favorite page is the look trend and news page where they always give you idea for holiday or feature beauty product like pumpkin pie body wash in november the recipe are often multicultural and you can find anything from lebkuchen to pavlova with passion fruit sorbetbr br in my top of favorite magazinesbr br the rebecca review',\n",
              " 'if you are looking for idea for that next decorating project more than likely you can find at least one article each month to inspire you with a focus on friend and family gardening interior design building family matter flood good health and shopping you cant go wrongbr br i like the yours for the asking section where you can send away a postcard for more information instead of contacting each companybr br for mom the kid project section will be amusing and your kid will love the ideasbr br the cartoon are also cute and i had to laugh at the one that said of course i love you didnt you get my faxbr br something about the picture in this magazine always remind me of a bright sunny day the open kitchen and lush garden are just a treat to seebr br the recipe section really ha a personality all of it own the petite caramel apple recipe they had in the september issue wa so adorablebr br i look forward to every issuebr br the rebecca review',\n",
              " 'my grandmother used to give me all her sunset magazine when she wa done looking through them now my aunt is carrying on the family tradition of keeping a subscription goingbr br a unique feature in this magazine is the recipe index you can also find idea for travel and recreation garden and outdoor living home and design and of course food and entertaining the monthly column are quite unique like in the december issue peter fish wrote an article about the voice of christmas which is about bing crosbybr br in the middle of the magazine you can find a postcard that say information worth sending for they do all the work for youyou just have to circle the information number to receive information on everything from international travel to product you see advertised they never leave you wondering where to find a unique product a they have a source where to find it sectionbr br the holiday section always ha me dreaming who would not want to walk on the multnomah fall trail in oregon or stand on a log bridge over a river and just dream a day away sometimes i would just like to dissolve into some of the picture especially the last issue where they showed a cabin in the wood with christmas light in stehekin washingtonbr br if you live in washington this is a must havebr br the january issue ha an article on kayak and a recipe for french cream with blueberry puddingbr br reading this magazine is really almost a family traditonbr br the rebecca review',\n",
              " 'my alltime favorite idea wa when martha took baby pumpkin and made them into floral arrangement that idea ha been a wonderful addition to our thanksgiving table and is one of the easiest floral project everbr br the recipe are very unique and the craft ideasoriginal plus you can get some supply from marthas website which is an added bonusbr br the article on gardening always teachbr me something i needed to learnbr br of all the magazine i look forward tobr this one is my favoritebr br the rebecca review',\n",
              " 'subscription are on the laphams quarterly web site',\n",
              " 'great publication and if you read the write up about the magazine it is what it claim to be high quality print collectible',\n",
              " 'i read this magazine to remind me of the wondrous universe created by almighty god',\n",
              " 'this is a great magazine buy it anywhere but from the source if you do go ahead and get a subscription be prepared to receive book and special you havent ordered a preview of course they offer a preview period which is usually over by the time you actually get whatever it is they sent you also be wary of ordering book or dvd from them i ordered a dvd and kept getting unsolicited book from ci for a year the material is pretty good although not particularly healthy usually high in fat and calorie it the company and it sale approach that is aggravating',\n",
              " 'really enjoy the content',\n",
              " 'really enjoying this magazine',\n",
              " 'whats not to like about this magazine br easy reading and beautiful picture',\n",
              " 'dont like want to cancel',\n",
              " 'paper quality is so poor on the print that image blend with opposite page wish it wa a little more quality because i love old good housekeeping',\n",
              " 'great subscription for someone who love car informative with some fun read',\n",
              " 'love this magazine great color and article',\n",
              " 'great magazine love the article and tip',\n",
              " 'one of the best magazine available variety of wellwritten interesting article in every issue i appreciate the ability of the publication to provide wellcrafted feature that balance a subtle tone of not taking themselves too seriously or being overly pretentious while still being interesting and informative',\n",
              " 'my year old ha been really into this magazine for two year he read and performs at a college level and find all of the article very interesting we were very happy to get him a new subscription and the first one arrived after only week',\n",
              " 'love the magazine my yr old too but shop around people the publisher ha their price discount press ha theirs amazonso use the internet',\n",
              " 'good info on health issue and breed difference vet on call section also is a great gift formerly cat fancy magazine this carry on a great tradtion and is useful and fun for cat lover and their human',\n",
              " 'great deal',\n",
              " 'i have a long term subscription and got one for my elderly mother who also love it we read article and talk about them over the phone br br i love the concise but fairly indepth and always interesting articlesbr br check out table of content of a few and see if something youd like',\n",
              " 'fun to read lot of interesting idea',\n",
              " 'great magazine but expensive',\n",
              " 'i get ton of woman magazine most of them i dont need or just flip through them i find this one i actually read cover to cover i find so many thing in this magazine that is interesting and fun some great quick healthy recipe too if you have to cut down and get fewer magazine in you home this one is the one to stay with informative good article good pic and the recipe are great',\n",
              " 'first off this is for a physical print subscription delivered to your address monthly second amazon sell some variation of this subscription this one is for a month sub hence you are getting a half a year instead of a yearbr br a for the magazine itself i never get bored reading a national geographic the photo are simply amazing and the article are extremely informative i love being able to see the world we live in from the comfort of my own home it a different experience reading a hard copy versus looking at picture online you get a deeper feel towards science and nature in a hard copybr br i hope this review wa helpful to you',\n",
              " 'i never get bored reading a national geographic magazine the photo are simply amazing and the article are extremely informative i love being able to see the world we live in from the comfort of my own home other than the price this magazine is one of a kind',\n",
              " 'everyone in our family like this magazine adult like the article and the kid love the photo and cat catster is full of tip and advice for your loved one a must have for any cat loving home',\n",
              " 'i can not recommend o enough it ha everything anyone would want in a magazinestories advice fashion foodbr i look forward to it and linger over it savoring each page',\n",
              " 'full of informationpicturesstories not a over amount of adsbut helpful ad really glad i subscribed to catster',\n",
              " 'like these',\n",
              " 'good magazine for gun owner',\n",
              " 'i had to skip imp rxs to pay for the autorenewal i wa not aware ofbr br amazon need to be very clear about any magazine purchase if you are getting a few issue and that mean that you are forced to buy another year for a very large price it not worth buying a magazine',\n",
              " 'besides good housekeeping this is my favorite magazine',\n",
              " 'good and interesting magazine',\n",
              " 'i like reading about the tv show and celebrity that i like full of good gossip',\n",
              " 'nice magazine for many us around the house',\n",
              " 'informative',\n",
              " 'my nephew love this magazine it ha great article and picture great educational tool highly recommend',\n",
              " 'purchased for teenage niece she loved the informative article and hint on makeup boy style etc she plan on renewing the subscription',\n",
              " 'gift for my dad he love the article and ha truly enjoyed this magazine he ha also recommended it to his friend',\n",
              " 'enjoyed a good deal',\n",
              " 'like the magazine the delivery system not quite a much perhaps now that it ha officially arrived thing can improve even though my first issue wa last month but i did not mind too much for the article are entertaining and of interest for a couple in our family very nice photo star',\n",
              " 'very enjoyable on the large print format this wa a gift for a lovely lady that enjoys browsing through magazine and every time it is delivered it is enjoyed by just about every member in the house is not cutting edge is not dark reading it reader digest large print a magazine that seems to have been around for a very long time there is a lot of entertainment value that is derived from reading this magazine mostly by the female in the household and the price wa pretty nice star',\n",
              " 'some of the car reviewed are truly awesome but most truly unattainable that said i find the whole magazine partially attractive it is not one of those publication that i enjoy from start to finish i like the review on everyday vehicle those that are affordable to most and look forward to see how the new release are rated besides that a person would have to be a serious car buff to enjoy it thoroughly for those review that pertain i give it star',\n",
              " 'love love love this magazin',\n",
              " 'great idea in this book just my style',\n",
              " 'good travel idea and recipe',\n",
              " 'favorite guilty pleasure magazine a designer dream book',\n",
              " 'great price and will reorder again or next time use auto renew',\n",
              " 'great my grand daughter love this magazine',\n",
              " 'great magazine if you love fast car',\n",
              " 'if your into fast car and all the latist news great magazine',\n",
              " 'great magazine with clear concise instruction would subscribe again happy customer',\n",
              " 'keep you up to date on thing of all nature',\n",
              " 'cant beat the story and photograph in this national geographic publication if you love national geo youll like this magazine at a great price',\n",
              " 'i live in upstate ny and love the adirondacks not being a real native of the area i purchased the magazine for obvious reason wanting to read about the area i live and the photo the magazine is a bit pricey for the material received seems like the majority of the magazine month to month is advertising and little story content one doesnt like to pay for a magazine that is all advertising when you think about it the vendor listing the advertising are paying for the magazine in a way and the price should be more attractive to bring in the people to buy their product wont be renewing suggest reading the few article at the newstand instead which wont take long unless you are in the market to buy item vended in the magazine',\n",
              " 'good photo of easy idea to diy some i liked other style are for different home overall happy with',\n",
              " 'i look forward to this magazine every time i know it is about to arrive colorful photo idea are easy to achieve',\n",
              " 'i have been a long time subscriber to living magazine especially after i saw how much le expensive it is to purchase a subscription over purchasing the individual issue at the grocery store the only con i can think of is that the halloween and other specialty issue are not included with the subscription but considering they are usually an issue i guess that is to be expected br br i love the craft the recipe and the gardening advice highly recommended magazine',\n",
              " 'i used to love getting gq back in college back when i had some currency with the lady but that wa so long ago and magazine are just no longer a format i gravitate towards so they just pile up unopened',\n",
              " 'this subscription wa automatically renewed at a higher price which led me to inspect other subscription doing the sameguess i should be thankful',\n",
              " 'so far arriving in great time and my husband favorite magazine',\n",
              " 'this magazine is a showplace for ad it disappointing they dont have more content it a short read with what they do offer not really worth it',\n",
              " 'good magazine for guy often only publishes expensive item that are not affordable to average gun owner',\n",
              " 'my mom love this issue great gift',\n",
              " 'my son love his issue',\n",
              " 'awesome selection',\n",
              " 'real story great photo love this magazine',\n",
              " 'my mom love this magazinebr renew it for her every year',\n",
              " 'i get this magazine for my mombr br she love itbr shes very crafty',\n",
              " 'vogue is an excellent magazine very interesting article i love the fashion',\n",
              " 'i love this magazine the article on the most influential people were very interesting i like when time doe these type of article',\n",
              " 'ladybug is full of useful resource for early childhood teacher and the material is useful even if the magazine are out of date the idea in the magazine can be modified for use in the classroom i teach child from kindergarten to year three so i need a wide range of suitable material since i am also a parent i really enjoyed borrowing the magazine for my daughter when she wa small she loved the magazine and when she grew out of them she graduated to cricket which is the magazine that follows on from ladybugsince ladybug contains lot of activity story and song it doesnt take long to build up a useful library of resource whats more the activity are age appropriate and they all work',\n",
              " 'good',\n",
              " 'break out the magnifying glass so you can read the overly worded article',\n",
              " 'i find that about of the content actually relates to the common person girly men fashion model are strange looking and in need of a big mac this is supposed to make their clothes more appealing yikes it wa the easiest way to use a magazine gift card guess next time ill be more selective',\n",
              " 'it si what more do you need to know might want to hide the swim suit edition when it roll in during the cold month of february',\n",
              " 'not just a sport magazine but a publication with great article any man can appreciate',\n",
              " 'love this magazine and a far a i can tell no advantage to getting from amazon v national geo just happend to see it',\n",
              " 'i get a ton of magazine most of which are free i try them and if i dont like them i let them expire this one is the best of the lot it let me know which brand to look at and which are crap before i buy it worth the money a it save me money every time i need a new appliance or such',\n",
              " 'my favorite magazine of all time it a great stroll down memory lane',\n",
              " 'great recipe and article many useful hint and tip the picture are gorgeous',\n",
              " 'great recipe ton of useful tip',\n",
              " 'i wa not notified of auto renewal i wa charged a month or so before the paid up portion wa overbr br love the magazine but hate the way they sell itbr br i cancelled my subscription and i dont think i will ever renew it',\n",
              " 'love this magazine ha helped me a lot of time',\n",
              " 'first issue came early pleasantly surprised print medium rule',\n",
              " 'i loved esquire hate where it gone hopefully it come back i see glimmer of what i loved',\n",
              " 'this come complete with word and print can you believe it printed word what will they come up with next moving picture this is popular science it ha it all',\n",
              " 'subscription came fast and we love the content it a great magazine',\n",
              " 'i used to buy this now and then but decided to get a subscription ive received two issue now and didnt find much to my interest each issue ha a different theme so i am looking forward to see what the next issue have to offer',\n",
              " 'great to take for place you have to wait no device needed',\n",
              " 'never have to recharge itbr fit in my pursebr perfect for doctor office where magazine are no longer availablebr great article and story',\n",
              " 'love love love this periodical',\n",
              " 'spend hour reading this magazine',\n",
              " 'great information',\n",
              " 'love joanna and love this magazine it give the reader an additional way to understand why she chooses certain item on their show',\n",
              " 'i love the multiple story and article',\n",
              " 'i have always enjoyed popular science i hadnt considered amazon for magazine subscription before but it so much easier and reliable than the traditional mean you can update renew and cancel all from your account in amazon definitely easy and the way to go',\n",
              " 'ive always enjoyed reading the article and ad in popular mechanic the auto renewal and subscription method make this really easy to keep coming if you enjoy modern science and mechanical input this is a great magazine for you',\n",
              " 'love this magazine',\n",
              " 'good read',\n",
              " 'didnt like',\n",
              " 'my family ha subscribed since these were',\n",
              " 'my family subscribed to this for year',\n",
              " 'this is such a well written magazine',\n",
              " 'very practical great idea',\n",
              " 'i love this magazine',\n",
              " 'have subscribed for year',\n",
              " 'great recipe',\n",
              " 'my year old love this magazine',\n",
              " 'good recipe good workout',\n",
              " 'i have subscribed to writer digest for decade it is a consistently valuable resource for writer of both fiction and nonfiction rather than resting on it laurel a a leader in the field of writer education wd is constantly updating it offering it content is useful not just for beginning writer but provides insight that veteran writer can profit from a wellbr br a big benefit of subscription is access to substantial resource on the wd website they offer free article for every genre imaginable editor blog writing competition forum opportunity to join online critique group and receive peer review and much morebr br one thing wd doe not offer subscriber however is access to current and past issue on their website unlike most other magazine do these day this is quite unfortunate a it can be very useful to have a pdf of a magazine article one want to clip and save without having to go to the trouble of scanning it oneself',\n",
              " 'i am constantly amazed at the caliber of the scientific and technological article in wired they are consistently well written accessible to the layperson and filled with fascinating insight but best of all wireds take on life is always upbeat and hopefulbr br if youre looking for good newsinstead of the incessant drone of bad news in all the other journalistic outletsthis magazine is for you',\n",
              " 'i have subscribed to tv guide for decade i wa initially leery when the large format came along some time ago but it just get better all the time i have come to depend on tv guide review of existing and new tv showsmost especially it detailed information about the fall spring and summer lineup of new showsto help me choose what i will record on my dvr i also enjoy the many interview with tv star that tv guide offer each weekbr br always in the past when subscribing directly with tv guide i paid with a paper check and used snail mailsomething i almost never do for anyone any more now i dont have to do it for tv guide either it is so wonderfully convenient to now subscribe through amazon after you order your subscription amazon communicates with tv guide to let them know if you have an existing subscription which i do your new subscription is tacked onto the end of your existing subscription through tv guidebr br when ordering my subscription here on amazon i wa careful to supply a shipping address with my name and street address exactly a they appear on my tv guide mailing label for good measure i included my tv guide existing subscription number a part of that address to make it easier for the subscription department of tv guide to combine my new subscription through amazon with my existing one',\n",
              " 'great mag just started arriving a week agogot nd issue this weeklove it will recommend to jam buddiesenjoy',\n",
              " 'gift for my daughter she love it',\n",
              " 'gift for my daughter she love it',\n",
              " 'disappointed',\n",
              " 'this magazine is a staple like fresh fruit clean towel',\n",
              " 'i enjoy this traveler magazine best of all of the national geographic magazine',\n",
              " 'nothing i liked not a thing is like it used to be wa in the past an awesome magazine so sorry i ordered it just a worthless magazine with nothing to reminisce about anyone can write crap up about the s and s common stuff that nearly all know used to so love this magazine had such greay stuff yr ago now not even paper for a fireplace fire starter',\n",
              " 'the beautiful picture and beautiful room just soothe my old soul hb is just the best shelter magazine in the world there is nothing cozier for me to do with a cup of hot tea in my favorite chair i keep issue for year and year just to go through again and again giving other magazine away i could never give up hb ever',\n",
              " 'the recipe are delicious the article are inspiring i love this one',\n",
              " 'cobblestone magazine is advertised for grade four through nine it all about american history because there are so many controversial and delicate topic covered i would encourage parent to think carefully about whether a younger child is prepared to read and discus cobblestone article gifted reader under eight who may be fine with the vocabulary and serious tone of the article may be too sensitive to be exposed to the often dark content recent sample issue covered dday and the allied invasion of normandy ken burn and his documentary on world war ii and john f kennedybr br the dday issue includes a photo of a fallen soldier and the remark omaha beach wa littered with smashed vehicle and dead and dying men this issue also ha a great map of the invasion plan military statistic and profile of key player in the war churchill fdr stalin eisenhower and hitler are among those covered there are also story on code breaking engineering marvel spy and clever deception an interview with buck compton real life hero portrayed in spielberg and hank band of brother film is another highlightbr br the issue on ken burn mention the bataan death march and civilian family held for year in a manila prison camp ken burn ha done a fabulous job of documenting so much important american history i am excited to see an entire issue devoted to his work his passion for history really help to bring it alive and allows kid to understand that it much more than a bunch of date to memorizebr br the issue devoted to john f kennedy is balanced and fair there is a story about his childhood another about his experience with pt and then a look at his campaign and the first televised presidential debate a presidential time line detail his time in office and there are article on the cold war cuban missile crisis and his assassination an interview with caroline kennedy informs reader about the jfk library and the profile in courage awardbr br these issue are jammed with factual account interview and terrific photo a well a theme related crossword puzzle cartoon and brain tickler which are actually short quiz based on the content of the current issue contest encourage reader to submit their own version of world war ii postersbr or to nominate a local good citizen real kid offer review of theme related web site and book there are also suggestion on place to visit such a the national world war ii museum in new orleans and in washington dcbr br i heartily recommend cobblestone both to school and individual family wishing to encourage child to appreciate and respect american history if we dont pay attention to the past how can we learn from it',\n",
              " 'odyssey magazineadventures in science is a great magazine for kid who are interested in science a well a those who might be with just a little nudge target audience range is for grade a usual with carus publication there is no advertising other than information on how to purchase subscription to other carus magsbr br odyssey boast of an impressive list of scholar on it advisory panel professor from case western harvard williams and other well known institution serve on the boardbr br a recent issue all about milk wa well balanced and presented very divergent viewpoint regular feature science scoop detailed a study that showed breast fed infant may not have an automatic advantage in iq over their bottle fed counterpart the latest study point out that better educated and more intelligent mother tend to nurse their baby and that this may account for slightly higher than average test score the perfect food cite many benefit of milk and dairy in the human diet but also mention milk allergy and lactose intolerance petas point of view is discussed a well the activist in people for the ethical treatment of animal regard confinement of dairy cow to be cruel a year old girl contributes a nice piece on robotic milking machine and we also have the opportunity to learn about the chemical compositionof milk mammal milk substitute and cheese making a highly allergic th grader also share his story on living with a milk allergybr br another sample issue deal with edward o wilson a brilliant entomologist known a the ant man wilson a harvard professor and prolific writer is a believer in the importance of biodiversity his passion for his work come through clearly in the page of odyssey article in this issue include eo wilson boy naturalist edward o wilson friend and ant man ant rule see the world in a tree trunk and morebr br regular department appearing in each odyssey are activity to discover science scoop ask a scientist brain strain kid can ask dr cy borg star chart star gazing with jack horkheimer youve got mail kid pick and animal anglesbr br my kid enjoy odyssey and i am pleased to recommend yet another top notch magazine from carus',\n",
              " 'ask magazine is another wonderful publication from the originator of cricket ask is all about art and science with each issue having one unifying theme the recommended age range is from seven to ten but younger fluent reader can also enjoy askbr br ask contains regular feature a well a a variety of article related to the central theme scoop is a two page spread of science news and discovery one story might be on a robotic arm another on the acquisition of language in sacwinged bat nestor dock is a double page cartoon with enjoyable recurring character each issue also ha a contest which tie in with the theme the water issue asks reader to design a fountain the learning issue request that reader design a school and an art issue invite reader to copy their favorite work of art winner have their entry printed in a future issue jimmy and the bug is another regular feature here reader question are answered in cartoon format question might appear simple why do lion have mane or more complex what are the ring around planet made of answer are both thoughtful and informative every issue end with the silly but sweet cartoon marvin and friend on the back coverbr br the making art issue of ask includes a lovely piece on quilting tradition in rural alabama many beautiful photo of quilt are displayed alongside comment from their creator in the same edition playing with mud showcase delicate korean celadon potterybr br the liquid of life issue of ask ha a fascinating story on water it cover the water cycle water form a water molecule diagram and gorgeous photograph of a water droplet snowflake and child and animal in various pose with rain and snow information offered can be quite complex but it is just the thing for feeding hungry young intellect this issue also ha water trivia card with intriguing question such a what can go longer without water a camel or a giraffe an article on water powered generator is very well done and the issue is rounded out with a nice tour of bog fen swamp and marshesbr br im very pleased to recommend ask it funny but not obnoxious informative but not controversial with article a bit shorter and lighter than those found in big brother muse magazine',\n",
              " 'spider magazine is a dream come true for the young gifted reader the magazine is pitched for child age six to nine strong independent reader may be ready for it earlier sample issue run to page plus each ha an additional pullout paper craft there is a lot of writing packed into this little mag and the very youngest subscriber might prefer to have mom dad or big sister share the joybr br issue of spider have a fairly predictable pattern this is a positive for most of the target audience who are young enough to find comfort in predictability the publishing information is tucked into a tiny box on the inside front cover a lovely drawing of spider mailbox take up the rest of the page a well a all of the first page this is the backdrop against which spider and her little buggy friend cavort in unique pose each month my daughter could tell you exactly who the bug are and all about their personality but im not quite a spider savy a she suffice it to say that she follows the antic of these little character with glee a they appear on page bottom throughout each issue the bug are well loved by reader and they all receive fanmailbr br the danderfield twin is a recurring feature and the first story in each spider magazine the twin and their friend are a lively and intelligent bunch who often must work together to solve a problem these story are short and sweet running about six page long with large type and plenty of illustration other story puzzle and poem may follow a particular theme one issue appeared to have two theme both train and dog a recipe for peanutbutter dog biscuit wa a pleasant surprise herebr br illustration in the magazine are bright and appealing i heartily appreciate the fact that there is no advertising whatsoever included in spider this is very refreshing and a significant demonstration of carus publishing commitment to fair marketingbr br near the back of each issue is a department known a spider corner reader artwork and poetry is shared here with an invitation to submit a drawing or poem on a given idea one request is for farm animal picture another for poem about pet',\n",
              " 'muse is an exceptional magazine though it is aimed at tweens gifted reader from about age up can appreciate it parent may wish to preread or discus controversial piece with their child there are plenty of interesting article on a variety of topic recent issue have covered stone disk in the yap island gamers making real money from selling virtual good racial prejudice genetics and snowflakesbr br muse magazine doe not contain any advertising other than subscription offer from the publisher it quite refreshing some of my family other magazine are filled with ad for junk food and toysbr br a full page in muse is always devoted to larry gonicks kokopelli company a cartoon featuring the magazine quirky cartoon mascot these tiny creature also cavort on page throughout the magazine bos page is another regular feature here reader may learn about a scientific experiment to discover how ant find their way home or why gorilla eat wood and vote a to whether human will survive to the year the q a section ha answer to query submitted by reader example question are would time travel actually be possible and what happens when you blow a bubble in winter robert coontz and rosanne spector provide clear and often humorous answer ivars peterson is the muse math guru his math page offer suduko challenge and other math puzzle a well a article such a the simpson and math every issue of muse offer a contest of some sort tucked into the corner of a two page spread honoring winner of the previous issue contest kid are invited to become living art in a tableau vivant or to design imaginary moneybr br i highly recommend muse for both boy and girl',\n",
              " 'i knew when i subscribed that i wa getting the kindle version and that there would be an expensive auto renewal im okay with it but i wouldnt be if i hadnt known what to expectbr br i am willing to pay what i consider to be an exorbitant price for a magazine because the writing and the reporting are stellar im not a grammar or spelling fascist which should be obvious from this review however when writer are being paid for their work and copy editor are being paid to correct it i expect to see very few error and no really terrible one this magazine doe pretty well which mean that i will pay what it take to keep excellent writer and editor employedbr br a for the content the review fiction and poetry are the main draw for me the news article are wellresearched and wellwritten but they come from clear point of view i guess thats okay since they do not pretend otherwise either way i recommend the magazine for it form and most of it content',\n",
              " 'i have always been a fan of popular sciencebr br i find that it always come on time and is filled with interesting thingsbr br however i would prefer to see at least a many ad a now currently plague it page',\n",
              " 'a',\n",
              " 'great magazine',\n",
              " 'great magazine',\n",
              " 'great magazine',\n",
              " 'one of most popular magazine in waiting room',\n",
              " 'i have subscribed to this magazine two different time in the past few year i miss it every time my subscription end i am now going to subscribe to it a third time since i miss it so muchbr a a french teacher who organizes student and adult trip to discover this beautiful country i find this magazine to be a fantastic tool it highlight different area in detail and provides lot of variety and incredible photography i am very familiar with some of the location they write about and their information is correct their cultural piece are authentic and uptodate the only part that is annoying is that it is expensivebr my husband and i have saved every single issue we have received and regularly refer back to them to look over new area we are planning to introduce to new group of student and adult highly recommended make a unique gift to any francophile and could maybe convert francophobe to the better side',\n",
              " 'i have enjoyed wired for many year and each issue cover tech that is cutitng edge the cap is a nice touch',\n",
              " 'i wanted more television review and le what i thought wa promoting movie that i am not interested in',\n",
              " 'this is a truly gorgeous source for photo for copying or for cutting out and you wont find a better price',\n",
              " 'very informative',\n",
              " 'harper is easily my second favorite fashion magazine second only to instyle it is great and packed with great fashion it actually doe have some good article too that i thoroughly enjoy reading if you can only get one sub get instyle if you can get two get instyle and harper bazaar it is wellworth the money',\n",
              " 'if you love fashion you need to get vogue vogue will familiarize you with designer classic style and the fancyschmancy side of fashion that most other magazine will not get a deep into however most of what is in vogue is way out of the average person reach i for one could very likely not afford one thing that ha ever been in a single copy of vogue however for whatever reason the vogue empire continues to publish this fashion tome and sell the sub for a very low price now that i can afford it is an unbeatable deal will you glean anything from it yes you will see how the other side life and you will see some really wonderful photography and fashion at it best is it practical not really but it is fun and well worth the very low price',\n",
              " 'we ordered babybug for our now year old when she wa a toddler and loved it the kim carrot feature is great while the illustration and the other poem and short piece were hitormiss overall she loved it we recently ordered it again for our month old and are disappointed with some of the addition the publisher ha added lot of helpful content for caregiver or note directing reader to website these helpful note are distracting overall still a worthwhile purchase for a toddler',\n",
              " 'great price for a good magazine',\n",
              " 'magazine is well worth the money it pay for itself in couponswould reccomend to anyone wanting to save money and good money saving advice',\n",
              " 'just received my first issue i like the layout colorful and easy to read there are recipe for the conservative cook and also adventure for the cook who like to try new thing i am already looking forward to the next issue',\n",
              " 'this is one magazine that i read cover to cover the article are great and the recipe are actually one that ordinary folk can use no fancy ingredient just good healthy food and easy to prepare the photo are a major plus if you love to cook and want to eat healthy this is the magazine for you',\n",
              " 'this is one magazine i have wondered about for some time my first issue wa a very pleasant surprise while the preponderance of ad put me off when i flipped through it the article erased my idea that this wa just another sale vehicle i thoroughly enjoyed the article on george bush which wa well written and very informative this is one subscription i will keep and the ad are pretty if nothing else',\n",
              " 'i absolutely love the lace project and the other project are gorgeous the article and history are wonderful my only reason for star is that i wish there were more resource for further instruction and material and tool other than that this magazine is stunning and very educational',\n",
              " 'a few month ago this magazine wa transformed into one of those huge glossy coffee table type shishi magazine of the magazine consists of advertisement for hipriced good now it not worth subscribing to',\n",
              " 'just right if you like challenging puzzle that are not so way out a to be unsolvable',\n",
              " 'love this rag',\n",
              " 'have not received any issue yet',\n",
              " 'there is no tv listing time during the day only for the evening and it end at pm the whole first half of the mag is mostly ad i hate it and wont waste my money it is definately not user friendly',\n",
              " 'i read highlight high five bilingue with my almost sixyearold and threeyearold there are very few spanishlanguage magazine available for kid so even though this is flawed i appreciate itbr br this is a great magazine for the preschool and kindergarten crowd the art is always bright and easy to look at i wish there wa a companion magazine for early elementary kid because i can see the story getting redundant or too simple i would prefer that the story had sidebyside translation rather than translation on different page',\n",
              " 'i didnt find this to live up to it name nothing really new or inspiring didnt find a single project that i wanted to jump up and do and found the issue repetitive havind said all that i will note that if your cash flow is better than mine you may find it more to your liking but im definitely a design on a dime type who love repurposing salvage and the like to each their own just not my bag',\n",
              " 'good magazine but i didnt renew for another year due to so many ad',\n",
              " 'not exactly the same a it wa when it first came out i wasnt impressed enough to renew for another year',\n",
              " 'it is one of the few magazine that is actually worth the subscription price it is oversized and ha beautiful photography on nice thick page that magazine used to have i look forward to the monthly issue each time it arrives and didnt hesitate to renew for another year',\n",
              " 'one of my absolute favorite magazine and one that i actually renewed for another year filled with beautiful image and interesting information love it',\n",
              " 'it a good magazine',\n",
              " 'this wa such a let down this wa one of my favorite magazine and i wa excited to purchase a one year subscription the page that used to be thick and high quality glossy are now poor quality thin throw away print page and the content that once wa is also no longer there just full of ad needle to say i did not renew',\n",
              " 'what happened to the old reader digest this new version is half of the old one and packed full of ad needle to say i didnt renew for another year',\n",
              " 'if you live in the south like i do you will probably like this magazine enough to overlook the annoying drug ad to find some really great read',\n",
              " 'not a bad magazine but not great enough to renew for another year',\n",
              " 'not even close to the original it not taste of home it more like taste of a restaurant dish at home did not renew so sad i miss the old one',\n",
              " 'i got this because it wa highly touted by supercouponing friend a well a website amazon had a better price than anyone else so i subscribed i find it to be le valuable than i thought not a jam packed with coupon a folk said past issue have been oh well it still ha nice recipe and tip',\n",
              " 'best popular mag in publication it a diabolically entertaining techieconsumer delight from the paper gauge to the leading edge of print and type that are engineered to deliver the article there is simply no other mag that delivers a higher level of eyepopping wow month after monthbr br march update it died they killed it it wa going so good then the mag took political side and conspiracy',\n",
              " 'popmech is the necessary bookend to popsci popmech explores the hand on tech a it emerges it the tool and tech geek must have to consider the application of innovation to problem the latest gizmo are dastardly creative ive lost count of the stuff ive bought and tried over the year after seeing them here first',\n",
              " 'i love this mag i have a collection of s issue i built science fair project from it page a a kid a st century kid ha the same opportunity to experiment with stuff on the cheap with popsci a the mind fertilizer a national treasure still',\n",
              " 'discover pack a lot of understandable and rather advanced topic into an interesting flyover mag it overall quality a source is improving with time',\n",
              " 'this is what sciam used to be sigma xi is the publisher here the society remains loyal to the scientific reader the first copy i received turned into a cover to cover readbr br four specific thing i learned in my first copy includedbr br only in have arctic glacier receded to the ad pre little ice age extant based on carbon dating newly exposed flora the lia may be finally over later than previously believed the cause of the lia is hypothesized on nearly simultaneous volcanic eruptionsbr br the human eye white sclera and small iris are unique in nature allowing the ability to discern and communicate gaze it is hypothesized that this ability to discern visual direction permitted the domestication of dog hnea did not domestic dog in the same period dog domestication may have been a critical factor in hsaps successbr br civilization development of city ha been pushed back year based on jordanian excavation to year agobr br the soapbubble analog computer reveals a previously unknown form of crystal symmetry new to both mathematics and sciencebr br if i can glean new specific to think about between mag edition im happybr br thank you previous amazon reviewer it wa your review that prompted me to exit sciam',\n",
              " 'ive read the mag cover to cover for some year and been aligned and better informed for the effort this season the editor collectively lost there mind and alignment wa lost by the week the principal have a roll a talking head and they just come off a kook descending the path into deeper kookery theyve consciously decided to diverge into an intellectual twilight zone of irrelevance i wish them luck',\n",
              " 'wired is without doubt the best wider audience magazine in publication it consistent quirkiness and unpredictability is on display everywhere and there is hardly a white space in it margin it compressed high quality info it target audience is technology market early adopter it an eclectic mix of current technology trivia art technosociety and speculation it consistently prescient in it speculation the management keep a tidy score there are success story and smokingblackhole failure story that push the reader critical thinking skillsbr br i dont know how they make money selling subscription this cheap it an excellent example of an extraordinarily high cost high quality printing',\n",
              " 'how can environmental science have worthy breakthroughsmonth deserving of the classic sciam recognition sciam used to be leading edge stuff it wa like winning the nobel to have a paper chosen for publicationbr br my subscription expires in june after some year sciam and i will go our separate way ive already subscribed to american scientist',\n",
              " 'the top biz mag in rank order from my perspective are the new bloomberg bw forbes economist and fortunebr br forbes is fringier in it offering forbes delivers a variety of unique perspective not found elsewhere and is kind of like a monthly wsj in editorial and opinion of the top four i referenced fortune v forbes is perhaps the most commonly considered in competition the winner is a nobrainer ill reach for forbes over fortune every timebr br amazon ha come far in it mag offering from a pricing standpoint the subscription manager service that amazon offer resolve expiration and earlier renewal phishing expedition by publisher',\n",
              " 'im not an archaeologist if i wa born redundantly wealthy i think that i might have been onebr br archaeology is my stop everything and read it on the day it arrives magazine ive been a subscriber for year i read every article a a reader of archaeology and paleontology tome this magazine is the adjunct to my selection of book to read my wife and i have planned vacation around archaeology article ive detoured business trip to take in a visit to several article sitesbr br during a cross country moving event year ago i let the subscription expire for lack of new address someone from archaeology not a telemarketer for sure called me and said that i had been such a long term customer that they really wanted to know why i didnt renew wa it something about the magazine quality the voice on the other end wa just so dang disappointed a she pleaded for feedback that it wa stunning enough for me to remember year later the magazine must be read by a small but dedicated subscriber base and i think the magazine staff themselves make the callsbr br my only complaint is that it only print every month if archaeology is among your interest you would entertain your fancy with a subscription',\n",
              " 'i wa excited to get a subscription because i wanted to read this on my phone unfortunately it doesnt work on my android phone which i only found out after subscribing very disappointing',\n",
              " 'i do landscape design and landscape maintenance professionally and this is the only magazine id recommend to client a another reviewer noted the american gardener is also a fine publication if you are very serious about plant but for most reader fine gardening best walk the line between accessability and having great informationbr br i have been a subscriber for eight year and have kept every issue the information on the spine is clear and so you can easily find that elusive article you remembered and wanted to refer to without pulling out every issue and having to look at the coverbr br a a professional i find the indepth article on different kind of plant really helpful it is neat to focus on say all the different kind of forsythia around so you can really compare the variety available and know all of your option if you would like to plant one they usually have six or more photo of the different variety with each photo highlighting an important aspect of the plant habit foliage or bloom plus a few photo of the plant used in a garden so you can see what kind of texture and color the plant work withbr br the article on landscape design are by wellrespected professional and offer a wonderful balance of intellectually interesting discussion and gorgeous photo they dont always tell u exactly which plant is which in each photo so that would be a drawback to the new gardener who isnt familiar with a number of plant but they usually only neglect to name the plant when the photo is trying to illustrate a design concept i think they find a good balance between urban gardening gardening in small space and gardening in a more country or spacious settingbr br they also have article on seasonal care article on broader topic like groundovers for shade or grass in the garden and profile on the latest tool book and other gardening needsbr br i have read a lot of gardening magazine over the year and fine gardening is by far the best the language is simple yet the idea are not dumbed down most other magazine have huge amount of distracting advertisement and fine gardening are related to gardening useful and not too prolificbr br recommended',\n",
              " 'i wa so excited to see mourning dove on the cover of my first issue this wa a nice magazine and i love having it on my coffee table',\n",
              " 'good',\n",
              " 'good',\n",
              " 'enjoy all the recipe',\n",
              " 'i enjoy looking at it each month it always a page turner before leaving the post office only problem is which should i read first cat or dog',\n",
              " 'a short magazine with overly simply article number of ad seems more than normalbr love the web site and very disappointed in this magazine',\n",
              " 'so full of ad and poor quality article and blurb few page',\n",
              " 'they always have great tip and wonderful recipe',\n",
              " 'too many ad not engaging',\n",
              " 'i just received my first copy of my subscription for this magazine and i know the information in it will help me with my art interest i will be subscribing to this magazine for quite a while it that good',\n",
              " 'originally purchased for my husband but i have found interesting thing in it too',\n",
              " 'magazine is okay wa sent old issue',\n",
              " 'we love time magazine and what a great deal',\n",
              " 'this magazine is not a good a it used to be',\n",
              " 'this magazine work very well on my samsung tablet the picture are amazingly clear and crisp better than the actual magazine in fact the functionality of the magazine on the tablet is excellent zoom page turning printing all work just fine very impressive and a subscription that i will certainly renew a i find it very handy love the recipe a well while i might not make them all they are inspiring',\n",
              " 'finally a subscription to keep my husband challenged he ha yet to be finished with one before the next one arrives',\n",
              " 'i wa familiar with this magazine but rarely wa able to purchase a copy it great to subscribe and have it delivered to my home',\n",
              " 'hail mary full of grace the lord bless u all and protect u',\n",
              " 'all my husband desireswell almost all',\n",
              " 'nothing more to say it been around for decade and one of the best educational and interesting magazine in the world',\n",
              " 'love it',\n",
              " 'about two year ago i became a subscriber to shape mainly because i had received it for free a part of a package deal with another magazine i had always liked browsing through issue of shape in the supermarket and i thought that being a subscriber would help support my fitness goal overall i have enjoyed shape and found it to be useful but there definitely are some negative and the magazine might not be for everyonebr br but first the good like many others have mentioned what i most enjoy about shape is their reallife weight story featuring a nice variety of woman some of whom actually needed to gain weight in order to be healthy i also love their relatively new feature in which they follow one of their own staffer on a yearlong weight loss journey many of their other regular feature are also excellent particularly the body partfocused strength exercise and other howto exercise guide and i especially like that shape us reader model with so many of their articlesreal life woman of various age with normal healthy strong body finally their featured exercise plan each month often offer some unique variation on traditional exercise and the recipe are often quite good a wellbr br the main negative ha already been brought up by many others here the use of tooskinny not overtly fit or strong model to illustrate much of the magazine i find this extremely disappointing i understand that to sell magazine the model probably have to conform to some traditional standard of attractiveness but those of u buying the magazine want to see woman who are not only fit but also strongshow u some muscle now and then a i said above the reader model are great the woman are usually quite fit but they have muscle and curve too which is wonderful to see shape may be trying to make some improvement in this area a the last few cover have featured famous woman who do exercise but they still have a long way to go and while theyre at it i hope they will return to having their cover model dress in fitness wear not bathing suit they can still show off their model physique and showcase cute fitness wear at the same time similarly i would like to see the magazine get rid of the fashion segment at the end unless they start focusing it on exercise clothing not haute couturebr br if you are overweight andor new to exercising you may find the magazine discouraging but if you can get past some of the negative it can also be inspiring i think it up to each individual to determine whether a magazine like this is likely to hurt or help her fitness effort for me it is helpful but this definitely might not be the case with everyone',\n",
              " 'ive been a subscriber to body soul magazine for about a year now and i look forward to each new issue the magazine focus on many area of interest to me including healthy eating holistic health fitness and personal growth the article frequently feature practical thing like recipe buying guide yoga or other fitness instruction and emotional exercise my only complaint about this magazine is that there is a bit too much of a focus on spiritualmeditation type issue which are le relevant to me and that the magazine is on the short side with a high number of advertisement otherwise i definitely enjoy body soul and do plan to renew my subscription',\n",
              " 'yoga journal is an excellent resource particularly for those who practice yoga mainly at home and who are looking to further their practice yes the magazine is somewhat commercializedthere are a ton of ad in addition to article on various new yoga product and trendsbut to me thats also an indication of the publication openmindedness to all style and type of yogabr br this is a magazine which help make yoga accessible to everyone whether you prefer an easternized or westernized version of practice each issue includes a beginner look at a particular asana plus an indepth depth focus on a more advanced asana featured article include more posture work a well a more general health and wellness topic whenever i pick up this magazine i never fail to find several article of interest to me and i always wind up saving the issue for future referencebr br yoga journal is definitely a worthwhile subscription or occasional indulgence for your wellbeing highly recommended for yogi of all level',\n",
              " 'ive been disappointed in many of the change to the magazine since that time more specifically when longtime editor ruth whitney wa replaced with the editor of cosmopolitan the magazine seemed to transform into cosmo light it wa suddenly filled with article on celebrity and sex and some of my favorite feature disappeared i missed the more intelligent magazine of my earlier year and considered cancelling my subscription but because i wa still deriving some enjoyment from the entertainment feature i continued reading a few year ago a new editor cynthia leive took over and since then there ha been anotheralthough le dramatictransformation the celebrity and sex feature are still there but now theyre balanced by more intelligent article this is still not the glamour of old but there is definitely hope for continued recovery of this oncegreat magazine',\n",
              " 'the quality of the magazine varies the first person article are almost always excellent a few are memorable i find plastic surgerybeauty treatment costing thousand per year offensive the fashion shoot range from stunning to meh with rather more good than bad i used to like vogue more than bazaar but the reverse ha been true ever since anna wintour became le directly involved im a long term subscriber though for the textile fashion design and focus on general creativity',\n",
              " 'lately it seems like vogue ha lost it premium quality the paper is thinner and so are most of the issue the editorial are le inviting and overwhelmed by the ad which can be printed on paper so thick it make it hard to leaf through the magazine and dont get me started on the vile mix of too many competing perfume sample i dont like many scent and a number of them make me nauseous so i pull the thing out immediately and put them in the farthestawayfromme recycling bin even so the scent still linger in the paper especially on the facing page so i have to wash my hand after touching the magazinesomething that cut deeply into my enjoyment of vogue and other mag with perfume sample ad whats still great are the personal experience essay vogue ha always had the best writer and the most interesting take some of the fashion page are still gorgeous though many seem like recycled version with pose weve already seen other model do better or photo where the clothes cant be seen in the landscape or lighting used with the pose i dont know if the fault is the model because she ha a limited range of pose expression or emotion or if the fault is the editor for choosing clothes or photo that look alike but there a lot too much sameness to the magazine recently i look back longingly at grace coddingtons amazing s shoot or the versailles spread with those incredible clothes and stunning model with her gift for inventive pose that still let u see what shes wearing or the alice in wonderland shootall example of the best fashion photography availableand i hope vogue get a renewed jolt of the creativity craftsmanship and professional pride that ha made it an exemplar',\n",
              " 'ugly illfitting poorly made clothes i subscribed to this magazine because of the many positive review but after issue in which i found only one pattern i would choose to sew i am not renewing these are not atttactive pattern many are unfitted so they emphasize the model weight and many of the sample are poorly sewn with puckered seam all too evident in addition too many of the pattern look essentially the same the first issue had peasant dress for instance very disappointing',\n",
              " 'purchased this magazine for my seven year old grandaughter so she would have some reading over the summer first issue didnt arrive until late september but she did like it she showed me the magazine when i visited and personally i think she would have liked hilights mag better i think the story and article were a little too much science oriented for her taste not sorry i purchased but probably will switch to hilights next time around',\n",
              " 'newscientist is a lot of fun to read and keep you up to date with some of the newest science being done it a nice layperson coverage it doesnt approach scientific american in it depth complexity or sciency language but it popularized rather than dumbed down the writing is always clear and concise id say it probably is not a simplified or newsy a discover putting it in a nice middle category of science for laypeople magazine it come weekly which i really appreciatebr br it ha a this week section which cover a few topic in short fashion then an in brief section which cover more topic um in brief there are a few page of brief technology article a sciencebased editorial an interview or two and then several longer indepth article including the cover article these are usually or page with the cover article page recent cover topic have been the higgs memory neutrino the magazine close with some book review a feedback section and a questiontothe editor section i write and i find myself often clipping out article of interest or of use even better a subscription give you their entire online archive a well a regular email update it expensive no doubt mostly obviously because it a weekly i admit i hem and haw each time i renew but i always do',\n",
              " 'i love bird bloom magazine it wonderful if your a bird lover i made this magazine purchase not making note of the arrival period for the st issue i placed my order the st issue would arrive once i realized the delivery time i attempted to cancel the order but amazon wouldnt allow the order wa placed after chatting with customer service satisfaction wa provided a my order wa cancelled i wa refunded what i paid please pay attention to the arrival of the st issue maybe for some you may not mind but for others a month window may be a bit too long',\n",
              " 'this is the best cooking magazine out there',\n",
              " 'excellent survey original article the level is amazing for issue price recommend from all my heart',\n",
              " 'i wa expecting a lot from journal that ha mit in it namebut in fact the journal is a little bit higher level than popular science and way more expensive nice but doesnt meet my expectation',\n",
              " 'so im listening to the npr story on amazon practice and i thank mother jones and this reporter for bringing this news im now taking my business elsewhere to local independent merchant wherever possible what an awful company ive been buying product from',\n",
              " 'i only bought this for the recipe and the price wa right we do find the article interesting and well written but cmon it all about the recipe',\n",
              " 'always a few good article tip and tool recommendation for homeowner',\n",
              " 'husband received a a gift and came ontime and he get excited to read it a soon a we get it',\n",
              " 'got this to give a gift it is full of great article wish it came out month a year',\n",
              " 'i purchased this magazine for my grandson on and i wont be receiving it until im not sure why it is going to take so long to get here but am really hoping it worth it i will update once received he like learning about animal nature etc so im hoping it good based on their namebr if you needwant a subscription quicker choose something else',\n",
              " 'just tell stats',\n",
              " 'i had a subscription to this magazine a few year ago i let my sub run out because the magazine wa not that goodbr i decided to give it another try and see if this magazine had improved nope still the same old magazinebr the gear review always seem to review the high end gear that only a small percentage of people can affordbr br the article are usually about hiking trail that are the top tier trail pct at cdt etc how about some trail that are in different state that do not take month to finish some nice weekend trail would be awesome seems like this magazine ha always been biased towards the west coast you know there are many many other trail in the u across all state not just cabr br so look like this sub will be just like the first time i subbed going to let it expire i can find better content on youtube anyways',\n",
              " 'we just got the first one it took a long time in coming my son is so happy to have it',\n",
              " 'i enjoy reading and remembering item and recipe mentioned from my childhood ive tried some recipe and gardening advice wish it came out monthly i will probably renew subscription',\n",
              " 'we ordered we payed they have it a pending and have not given u the magazine i am furious at where i went i wanted digital a we travel wish amazon had it i would have it for my tablet now do not order from that company itself i have been going in circle with them with no phone number to call a live personbr ginny',\n",
              " 'one of the most worthless magazine i have ever subscribed to it the same ol same ol issue after issue it content is heavy on paint color sample and little else dont waste your money',\n",
              " 'great magazine',\n",
              " 'if i only subscribed to one magazine it would be this one have gotten it for year and will continue',\n",
              " 'wa a gift',\n",
              " 'great price point compared to other avenue i like this magazine to see what is coming and to see thing i need to program to my dvr refuse to watch anything in real time a this way i record and watch when i can and skip commercial on program my hopper doesnt offer that feature',\n",
              " 'waiting waiting waiting i hope this subscription is worth it if and when it ever arrives in this day and age i do not understand why it take month for a magazine subscription to begin arriving it frustrating to order something a a gift for someone and then month later they still havent seen it',\n",
              " 'a total rip off',\n",
              " 'love the lack of ad and the essay style of writing rather than interview ive read two issue through and through also get the nyer dumped nation love the sun wonderful intelligent and informative writing in the time of tweet',\n",
              " 'the best',\n",
              " 'we have been subscribing to national geographic for many year and have never been disappointed and you certainly cant beat the price',\n",
              " 'over the year we have narrowed down what magazine we order and smithsonian ha stayed on the list lot of info and picture weve not found in other magazine we learn a lot every month',\n",
              " 'not much better than simply finding a blog on the internet beautiful picture but the article are much too brief it sort of the reader digest of archaeology i think',\n",
              " 'occasional typo aside this is one of the better military history read out there unlike certain publication this one is really aimed at the mass and not so much at those in academia frequent bright graphic enhance story and help the reader visualize battle and important historical figure most of the story are focused on the last thousand year or so with heavy emphasis on gunpowder battle ancient battle and medieval time are given occasional coverage but there are sister publication that focus on them leaving this magazine to focus on more recent warfare dont expect coverage of modern war or pretty much anything in the last thirty year occasional story on the cold war pop up here or there but for the most part wwiikorea is the end point on their coverage timeline the magazine feature book and game review but focus on the book review a their game review are not on par with say pc gamer or ign still a great read and easy for anyone to digest a long a you are not expecting a professional miitary history journal you will not come away dissapointed',\n",
              " 'it one of two magazine subscription i have delivered through snail mail i have always respected the advice and review of good housekeeping and theyve never failed me especially for appliance a small and large and also cosmetic and skin care etc good housekeeping ha been around for a long time and it a reputable company with honest to goodness advice and article',\n",
              " 'this magazine ha article covering a variety of topic from weather to airplane and car there is something in each magazine that will appeal to both the adult and the teen in your family the price is right so it a great item for yourself or a gift',\n",
              " 'i also received this a a free gift i love magazine and this wa promoted a a family magazine but it doesnt apply to any of the family i know so i cant even pas it on to someone elsebr br a section on purse includes great bag for their kid fashion idea include a leather jacket for a preschooler and a designer outfit accented with diamond locket for your tween to go horsebackriding in an article on wife overspending and lying to their husband started out saying this wa dishonest and bad for a marriage but then ended by saying it wa okay for one woman that had reformed to buy a designer coat because she put it aside a a christmas present to herselfbr br obviously i wont be renewing this magazine',\n",
              " 'kid are enjoying this',\n",
              " 'monthly product good proce',\n",
              " 'love this magazinegreat price too',\n",
              " 'love this magazinegreat price too',\n",
              " 'love this magazinegreat price too',\n",
              " 'love this magazine great price too',\n",
              " 'the magazine is colorful and interesting',\n",
              " 'still fun and informative',\n",
              " 'love ti magazine full of information and project',\n",
              " 'dont be put off by the reviewer who complained about correction i havent read the magazine yet but it wa recommended yesterday by a woman farmer i wa visiting her small flock of guinea hen demonstrated their watch bird skill by flocking together and trying to intimidate my leashed bichon and talk about a racket they were loud she commented approvingly wow watch them work him a flock of would be really intimidating so perhaps both the original article and the correction were true',\n",
              " 'my husband is an avid golfer and this magazine is the first thing he grab from the mail boxlove it',\n",
              " 'love this magazine ha great tip and informative article good recipe and food article too great amazon price',\n",
              " 'interesting idea for meal im a little boring when it come to my food dont live close to market but it open up idea',\n",
              " 'i like this magazine because i like to make and create different kind of project and this magazine ha lot of idea and they are doable',\n",
              " 'well done thanks',\n",
              " 'i nice way to relax with a great magazine you can not beat the price through amazon',\n",
              " 'not very thick but the article are intelligent and thoughtful it a refreshing change from by decadeslong subscription to time which ha evolved into a propaganda outlet rather than a news resource i especially like the book review in the national review it come across a a throughly decent and balanced news magazine i expect my subscription to be long',\n",
              " 'very little actual content',\n",
              " 'our year old granddaughter ha thoroughly enjoyed these magazine for a couple of year now and ha asked to have it renewed again',\n",
              " 'all the child i have ever ordered this for have been very happy with itbr alsom it a great way to introduce them to theme of conservation archeology nature other culture etc',\n",
              " 'my son love this magazine he almost i do think it pretty short wish it had more page',\n",
              " 'the mag ha more perfume ad insert than content and the content is now more skewed towards politics than tech used to an excellent magazine but in the past few month the degradation ha been pretty dramatic',\n",
              " 'this magazine ha the occasional useful health or fitness article but i found most of it to be fluff how to recover from a hangover what he said and what he really mean and childish junk like that this is maybe more for teen girl or those in their early s than more mature woman',\n",
              " 'this wa my first time ordering a subscription from amazon',\n",
              " 'it give you a nice bite of france in more way than you imagine a treat for the eye and food for thought both culturally and economically thorough guidance on travel for many budget great idea intellectually stimulating it fun to go back and review recipe tip language tip movie music and book review i love it',\n",
              " 'love this magazine',\n",
              " 'awesome read',\n",
              " 'awesome magazine',\n",
              " 'whats taking so long to get this i bought a a gift for my best friend a handyman for christmas month before i thought he might pick up some tip who know finally received it in march',\n",
              " 'love this magazine and got a great deal with amazon',\n",
              " 'my son started getting this when he wa he is now eleven and still really enjoys the article he is absorbed in the magazine from cover to cover his love of geography people and place is fed by the content',\n",
              " 'my son is he love his boy life subscription through cub scout and read each issue thoroughly he rereads older issue a well and love to tell u the joke and information he find i think it is well worth the we pay through cub scout',\n",
              " 'great magazinecovers all type of gun',\n",
              " 'very satisfied',\n",
              " 'love the brightness varied dietary option and detailed recipe of food network magazine i read it first and earmark the healthy recipe then my dad usually take the quick recipe insert and my mom borrows it last to read on her day off a great value',\n",
              " 'i cant cancel this magazine i dont even like it dull',\n",
              " 'stop auto billing i dont want the stupid magazine anymore',\n",
              " 'you change the magazine pull a bait and switch then create another just like this for craft i want to cancel the renewing and cant this is insane',\n",
              " 'impossible to cancel do not waste your sanity trying to stop it from autorenewing',\n",
              " 'they want to bill anyway do at your own risk',\n",
              " 'trying to cancel and still getting charged stay away from this one',\n",
              " 'i wa so disappointed in this i paid for tiny little page newsletter that maybe or article is worth reading i thought i wa ordering a magazine it look like a piece of junk mail that pretty much describes it a well dont waste your money',\n",
              " 'have yet to receive my first copy of this thought it wa a monthly publication but im guessing it not',\n",
              " 'a joyful experience reading about garden and seeing the many beautiful photo a real county feeling',\n",
              " 'this is not good writing not good at all the amateurish story in this magazine are poorly written and poorly structured it is worse than the worst romance novel dont get me wrong i love a good romance novel but a bad one can really bring you down these story are like that but worse inexcusable thats just my opinion sorry i subscribed certainly wont renew',\n",
              " 'i hate to go against the grain but i find the writing in this magazine to be utter drivel the story are poorly and amateurishly written with no real depth and an unappealing dependence on some invisible spiritual whatever that somehow validates everything what it doesnt the story in this magazine are so consistently bad i have a hard time understanding all the good review there is good romance writing out there i wouldnt waste my time on this stuff even if it true true doesnt make it quality i just cant emphasize what garbage this is i regret subscribing i certainly wont renew of course this is just my opinion',\n",
              " 'i first saw this magazine at the library and borrowed a few of the past issue from surprisingly i found i really liked many of the pattern i liked the style of several pattern and appreciated the range of skill level i am already a subscriber to two other publication so did not want to add another but i really liked this magazine and decided i wanted to keep these pattern rather than borrowing it from the library so i started a new subscription i just received my first issue and love it and since i like this subscription so much more i am discontinuing the other two ive had',\n",
              " 'i bought this a a christmas gift for my year old granddaughter i subscribed it last year for her i asked her if she wanted me to renew her subscription this year and she said yes',\n",
              " 'i love this magazine i am not much of a magazine reader but the aritlces and tip are fantastic will buy again definately',\n",
              " 'is and always ha been a wonderful magazine',\n",
              " 'subscribed for year before i bought a beach house on the cape and ever since nice magazine with relevant information',\n",
              " 'wonderful magazine at a bargain price recipe alone are worth the cost',\n",
              " 'ive been reading this magazine for year would pick it up while visiting the cape knowing that someday i would buybuild at the cape fabulous idea many many year later my dream wa realized the decorating tip and idea from this magazine were wellworth the cost of this magazine im a big into recycling so i pas this magazine to familyfavorite magazine for many year',\n",
              " 'just do the online membershipmuch cheaper and more relevant this magazine is a true waste of money',\n",
              " 'ive loved reader digest since i wa young good reading',\n",
              " 'this magazine wa very informative we have learned a lot from it now we are both diamond member with royal caribbean and appreciate all the info we received',\n",
              " 'recipe could be better even br even though this is a cooking light magazine the ad that they run from their sponsor are for crap food br there wa even a lunch a lunchables ad by oscar mayer',\n",
              " 'great publication',\n",
              " 'i love this magazine i have received it for some year now',\n",
              " 'give a a gift every year to daughterinlaw',\n",
              " 'give a a gift every year to son',\n",
              " 'nice change',\n",
              " 'this is a great magazine with lot of training lesson tip and idea on new thing to try amazon offer the subscription at a great price my only gripe is the autorenewal requirement id appreciate a head up before being charged rather than after the factbr br no worry we look forward to yet another year of western horseman',\n",
              " 'the magazine is very educational a well a great menu that are very easy to follow would highly recommend to anyone that enjoys food with prep that is easy and ending result is delicious',\n",
              " 'great magazine with healthy recipe that are easy and great tasting well written article well worth the money',\n",
              " 'not sure i will enjoy this magazine my first issue wa useless for me',\n",
              " 'love opening the mailbox and finding the latest issue i then plan some time to sit down with a glass of wine or cup of coffee so i can enjoy the next hour browsing the page this is one of a few magazine that i do not pas on or throw out i save every issue',\n",
              " 'for the experienced woodworker this might be great but for a newbie a female newbie not so much',\n",
              " 'love paint advertisement for paint then this is the magazine for you love diy tip varying from how to build your own raised garden to refurbishing old furniture well this is not that see aforementioned paint advertisement luckily the person i gifted this subscription to doe enjoy some fun paint colour suggestion otherwise it would be one star but even she think all the focus on paint is a bit much',\n",
              " 'not like the southern living of the past i always loved southern living but it not the same',\n",
              " 'recipe too far out for the average cook',\n",
              " 'all ad',\n",
              " 'received first issue soaking wet prolly not mag problem but disappointed',\n",
              " 'ive always loved reader digest',\n",
              " 'i wa interested in checking out after watching the tv show project runwaybr imagine my suprise when i found a two year subscription on sale for only what a dealbr the magazine is chock full of fashion both affordable and haute couturebr i really like the fact that so many price are listed for the various item shown in the magazinebr two thumb up',\n",
              " 'rolling stone magazine is the same a it always wa full of music got one heck of a deal on it through amazon of course i recommend it to anyone who like popular music',\n",
              " 'at one point i wa paying for seven gift subscription a year but every year they would start telling me it wa time to renew month in advance and they would screw up the billing and payment accessing your account online ha gotten better but they are nowhere near a clear a amazon is about keeping up with subscription and you dont have the option to cancel online i tried just letting the order expire but they would send me letter thanking me for new subscription i hadnt made and saying they were extending the subscription on credit they also charge a steep price for online access with no discount for people who also have print subscriptionsbr br if you subscribe through amazon you might not have all of those problem but ive decided to just go with online access',\n",
              " 'yes advertisement constitute about of the magazine but the content will effect purchase decision you make those ad are what keep the price of the magazine so low',\n",
              " 'i cant afford a darn thing in this magazine but i still enjoy reading it they have finish and furnishing that i never knew existed and id definitely buy if i had million to spend the paper is heavy and glossy and the photo are beautiful try an issue and see what i mean',\n",
              " 'october issue ha page of cover directory crossword puzzle readable content the remaining page were full page adsbr br the content is moderately interesting just know what you are getting not a magazine ill renew',\n",
              " 'one giant work at home advertisement my first issue lauded the glory of using clickbait advertising',\n",
              " 'ive been getting this magazine for about five year now and it still my favorite magazine for truly relaxing the calming color and scene make problem fade away the house and room are one you can see yourself living in i tend to bookear and research at least one page out of every issue an number of page have made it to my save folderbr br also very few advertisement or at least you like the ad because they go with the theme of the magazine',\n",
              " 'i renew a dozen subscription a year for the whole family their advice is backed by science not anecdotal evidence they provide information in an easy to understand format that is otherwise hard to find or understandbr br the negative review have nothing to do with the quality of the publication',\n",
              " 'ive been a subscriber off and on for year now through four grandchild soon the fifth will be ready for his subscription some kid magazine subscription trigger a deluge of junk mail not this company',\n",
              " 'i ordered this magazine because it wa on sale and i thought it would do well in our medical waiting room i didnt expect to find dozen idea in each issue that i could use in my own home very well donebr br addendum been receiving this for month now and am always impressed with how interesting and innovative it is i love their advice this month to choose a contractor who listens to bluegrass',\n",
              " 'i wanted to like this magazine a we are a creative family with a big shop and open to new idea their featured project however are rarely of interest to me and the finished product are item you couldnt give to me',\n",
              " 'unfortunately it usually go home with a patient the first day i put it out but it perfect because it cover a variety of subject with quick read writing and great illustration i think all waiting room should offer multiple copy',\n",
              " 'im glad my subscription is expiring i found nothing of use in issue of this magazine even the article seemed suspect like the author were given a list of product to promote',\n",
              " 'i live in nyc and recognize the difference between east and west coast cooking i find that this magazine is more practical for west coast cook though different both coast can rest on their own merit',\n",
              " 'a a standard cooking magazine it contains some interesting and some not too interesting recipe and article the recipe are not on the higher level of bon appetite or the late gourmet magazine lately this magazine is resembling a medical periodical with all the very clinical medical advertisement that go on and on page after page making following recipe sort of like a scavenger hunt yes advertising is important to a magazine but the ad featured herein are becoming major obstacle rather than information for the general public it not good when a magazine make itself too challenging to the average reader who is mainly interested in reading the featured content yet still willing to accept advertisement that do not dominate the article therein',\n",
              " 'interesting recipe that dont that dont have unusual ingredient',\n",
              " 'lovely to read and lot of great information',\n",
              " 'very happy with this book',\n",
              " 'did not get my subscription so i honestly can not tell you how the magazine is',\n",
              " 'my son and grandson love the issue good price also',\n",
              " 'this wa a gift for a retired navy person and they love getting it and being able to easily keep up with navy change',\n",
              " 'always a pleasure to read not too many ad and wonderful article quite inspirational for life in these difficult time',\n",
              " 'this magazine feature beautiful home with large photo on quality paper there is littlebr advertising far le than comparable magazinesbr the home range from traditional to contemporary and somewhere in between butbr always designed with good taste and interesting featuresbr i will renew this magazine',\n",
              " 'our grandson wa turning nine and love to read a childrens librarian suggested this magazine it is quite a hit in fact we have just renewed his subscription for another year',\n",
              " 'good thing this wa a promo deal of the day buy the magazine is about page in total good luck',\n",
              " 'i got this for my dad and he love it',\n",
              " 'amazon said it ha shipped but i have not yet received an issue yet country garden is sending me renewal offer on an magazine i have yet to see i hope it a great read when i do get it',\n",
              " 'great to deal with a great product',\n",
              " 'great to deal with a great product',\n",
              " 'great to deal with a great product',\n",
              " 'so enjoy reading these and of course the pic are great',\n",
              " 'i used to really love food network on tv and this magazine but the content of both ha really gone downhill and seems to only be about making more and more money and not on teaching people to cook like it use to be so disappointing',\n",
              " 'this magazine is pretty useless there are few article in it it mostly ad for drug or food i wont be renewing my subscription',\n",
              " 'im a little new to buddhism ive been trying to learn more over the past few year i find that buddhism is a lot like christianity for the fact that there are lot of different type there not one christian religion there are lot of different one baptist church of christ methodist etc etc etc this is the same way with buddhism and honestly one of the reason i find buddhism so difficultbr br having said that tricycle is a magazine that share all point of view the publisher try to give each type of buddhism a voice with having article from a variety of people each issuebr br though to be honest im still very confused about buddhism i really like tricycle because though it not really a magazine for beginner like me to learn about buddhism per se it doe have great article and i have found it helpful and enjoyable to read',\n",
              " 'love the magazine love the fashion love the accessory love the makeup love the article about celebrity model fashionistas etc i really look forward to the next issue arriving',\n",
              " 'always reliable',\n",
              " 'it the gift that literally keep giving birthday im covered new year im covered christmas im covered so simple and next year ill just renew it again',\n",
              " 'after waiting about month my first magazine arrived i dont know what i expected but my expectation were obviously too high this is my grandma magazine nothing appealed to me about it really and i am year old the articels were all lackluster and different offer any kind of interesting or original angle it is a good thing i didnt love it because it took another month before i got the second magazine',\n",
              " 'great magazine',\n",
              " 'magazine is great lot of recipe and whats going on but the membership is worthless in washington state',\n",
              " 'i gave this a a gift to my baby boomer brother and he love it too',\n",
              " 'i find great idea here',\n",
              " 'this magazine pretty much wa just add on every to every other page nothing in this that you couldnt just look up online',\n",
              " 'a story a day wa once the tag line but i so much enjoy the content of the digest i that i often read it cover to cover in one sitting',\n",
              " 'ive been a subscriber for over year the best magazine ever love it',\n",
              " 'cant beat it for idea and information love this magazine',\n",
              " 'had this magazine for year but never paid such a price so sorry but will throw this offer in the trash',\n",
              " 'good article for the texas lover but loaded with advertisement more focused towards marketing did not renew because of this',\n",
              " 'like this magazine very informative',\n",
              " 'i did not want to renew but wa not given an option',\n",
              " 'i did not want to renew this magazine but did not have an option to cancel',\n",
              " 'love this magazine',\n",
              " 'the only thing i like more that looking at all the design in this magazine is my amazon subscription',\n",
              " 'love this magazine beautiful picture well written article',\n",
              " 'si subscription is a rip off through publisher they will offer many different price and try to overcharge long time sub',\n",
              " 'my niece loved it she said her teacher often refers to article from this magazine',\n",
              " 'great idea for meal',\n",
              " 'good magazine cant beat amazon subscription price',\n",
              " 'good home magazine cant beat amazon subscription price',\n",
              " 'it reader digets for buck a year need i say more',\n",
              " 'ive been buying this for a year old and very sport minded grandson for a couple of yearsbr he play football basketball and lacrosse',\n",
              " 'this magazine is very informative and offer many tip and dyi project',\n",
              " 'better than tv guide for sure',\n",
              " 'only received of the issue and paid for a year subscription very disappointed and would not order again this wa a gift for my son and unfortunately not a good one',\n",
              " 'good price when on sale it for my wife',\n",
              " 'this is the best price for this subscription however it is not set up for those who ha on going subscription of this magazine to start the new subscription when the old one expires i have to find the special number to call and they said they will try to arrange that but not guaranteed',\n",
              " 'this magazine ha good content but they also have an app that provides the same content for free i got my subscription for a very good price through amazon on a lightning deal so i dont mind',\n",
              " 'great way to keep up with world news and other story',\n",
              " 'even if i dont do of what the magazine explains the article are very interesting and make me want to know more i dont throw these mag away and that actually helped when i had a project that i could find in some old issue to give me the knowhow to complete',\n",
              " 'way more ad than contentbr br unfortunately this magazine doe not keep my attention long enough to justify the price',\n",
              " 'excellent product and price highly recommend',\n",
              " 'a friend recommended this magazinebr br not sure all of the recipe are light but they do use healthy ingredient for the most partbr br some recipe which looked interesting to trybr br california steak saladbr quick chicken fajitasbr burger patty saladbr spicy buttermilk chicken vegetable kebabsbr br if you like to cook and want monthly recipe this is a fun subscription',\n",
              " 'this is a review of the magazine not the pricebr br it a fun read like talking with a lot of friend about fashion trend makeup recipe etcbr br my favorite is the advice love martha beck havent seen dr phil in the last issue or so wonder if oprah dropped his columnbr br so it a fun skim like the upbeat positive article it a feelgood magazine',\n",
              " 'my son who both have degree in economics one is getting a phd in economics recommended that i read this magazine one son said he wished i would read it so we could discus it anytime your offspring want to talk to you thats an incentivebr br i am impressed with the organization of this magazine it open with the world this week and leader and briefing it is then organized by geography united state the america asia china middle east and africa europe britain and international with a special section on brazil in this issue then it cover topic business finance and economics school brief science and technology book and art and economic and financial indicatorsbr br i like the global perspective this magazine offer with the u just being one player article are deep and comprehensive with information that isnt easily available elsewhere in mainstream publication this week the cover article is on the extraordinary comeback of alqaeda and how it hold sway over more territory and is recruiting more fighter than any time in it year history in iraq since we left prematurely the magazine indicates over civilian a month are being murdered by alqaeda alqaeda want to bring iraq syria and lebanon together into a single caliphate those are just some of the interesting fact in this magazine while reading it i felt i wa immersed in a highlevel course in international politics and economicsbr br if you read this magazine every week in a short time you would be up to date and literate on global issue and economicsbr br i enjoyed the book review of the new book on salinger in this issuebr br if you read every article thoroughly it would take several hour my son like to read it on the train to new york city and get it in paper and online form ill be reading it weekly now so i can discus it with my son',\n",
              " 'if you are interested in being a published writer this magazine ha excellent content on diverse aspect of writing a recent issue accented topic such a mastering voice researching like a pro story mistake even good writer make and observation on writing by author who have received the pulitzer prizebr br there usually a more extensive interview with a successful authori enjoyed a recent interview with mary kay andrew describing how she first started writing for publication it made me want to read her book after reading how she structured thembr br if you like reading about the field of writing and are thinking of entering it or are writing already for publication this magazine offer insight about the writing world from real writer it a pleasure to read and will probably motivate you to start writing for publication or for the fun of it',\n",
              " 'if you are a lover of book this magazine is heaven on earth paradise on paper it colorful lively and accessible it cover trumpet the word for everyone who hasnt read everything i just received my first issue and found it so visually pleasing it is aesthetically a delight to enter and read around in it welcome the reader to enter and sit a spell with it attractive color print layout format and paper stockbr br there are fun feature such a the monthly selection coming in paperback award biography on author and my favorite section coming soon book my only recommendation for the magazine is that coming soon section be doubled a there plenty of information available on book already out but bibliophile love to know what they dont know about book and dont have easy access towhat book are going to be published in the next monthsbr br loved the best of chart in the most recent issue in which a chart of the best book of selected by the major publication are listedbr br it great to have book selection with choice excepts from a mix of review from leading newspaper and outlet combined with this magazine summary of the book a long a i keep reading i will keep subscribing to this magazine',\n",
              " 'if you love to write and love to read you may be fascinated by the magicthe science and artbehind the craft of writing and publication this magazine explores these topic if you want to immerse yourself in the world of writing for publication you should enjoy this magazine which examines writingpublication through multiple facetsbr br currently in it th year of publicationthis magazine wa created in by two boston globe reportersthe magazine mission is unchanged to inspire instruct and inform writer at all skill level sound goodbr br and the current magazine reflects this mission i enjoyed article on topic including ask the writer in which a contemporary writer is asked a question about hisher craft writing life tip social medium key to complex character a writer success story stepbystepget your story started an essay on the writing life review of book for writer and a substantive interview with acclaimed writer ken follettbr br this year the magazine will have article on list by author their favorite fictional character favorite beach read collection of writing prompt best opening line best movie made from book etc i especially enjoyed the writing promptsbr br the magazine appears to cover all kind of writing screenwriting historical novel memoir nonfiction etc there is information on mfa program for writing and upcoming writing conference at the end of the magazine there is a directory of agent contest conference and publishersbr br i really enjoy perusing this magazine which includes a wealth of information about the field of writing it would be especially helpful to aspiring and new writer or writer wanting to keep learning about their craft from other writer including the best in the field it would also be great for writing class it a fun read for anyone who enjoys book and writing',\n",
              " 'i love country living design now that country home and cottage living are no longer being published it is one of the few source for example of welldone rural and countrycottage design the design found inside is original and there are excellent tip i look forward to receiving this magazine every month',\n",
              " 'veranda reign along with the other three most beautiful and stylish u shelter magazine today architectural digest elle decor and house beautiful what i like about veranda is the photography and room dominate and the text take a supporting role the magazine feature many fullpage and doublepage spread of gorgeous room with not a lot of text interrupting design is one of the field in which you can learn by just studying a room in detail to get a sense of the scale proportion balance of texture and light and shadow etcbr br you are training your eye in what the best designer find beautiful a full and doublepage spread allows you to do that better than smaller choppier photo it great to have more visual le word in which the room triumph more to seeless to read there enough text in veranda to get into the designershomeowners mind veranda lush heavy paper stock is a joy too and increase the aesthetic experience the photo of the room look spectacular on itbr br veranda feature eclectic style and location this month for example the magazine showcase a townhouse in georgetown a park avenue apartment a parisian piedaterre a florida oceanfront home and a normandyinspired atlanta home along with a cotswold garden there a mix of style from provencal antique to art deco to a soft tailored modern it a monthly infusion of visual beauty and grace br br under new editor dara caponigros vision veranda magazine sings and soar',\n",
              " 'due to a lack of true journalism and biased one sided opinion best suited to line the bottom of a bird cage',\n",
              " 'we have been long subscriber to sunset but in the past few year the size topic especially gardening related photo paper quality even the ink typestyle have dropped dramatically by the time you skip the numerous ad yes they have to make money from those to offer the major bargain they do on a yearly subscription there not much left back in the say it wa a thick loaded monthly that we looked forward to receiving but now it flipped through in minute put into the recycle pile sad',\n",
              " 'in these difficult time when you have to make every dollar count i had to part with my cuisine at home subscription usually you do not renew at whatever rate they keep offering but then came delinquency payment notice and threatening your credit report to get you to resubscribe againbr br i found these tactic very unethicalbr br so buyer beware when you sign up for cuisine at home',\n",
              " 'great article and fabulous photojournalism unique magazine i can sit and look at the picture in these magazine for hour',\n",
              " 'i selected this mag for my husband through a freesubscriptionwithpurchase offer i actually snag it before he doe when it arrives it got a variety of article about lot of different stuff ive always been a bit of a trivia junkie enjoying reading a little bit about a lot of different thing and this mag fit that mold it ha a definite liberal bent politically which might turn some people off but that doesnt affect every article',\n",
              " 'the best price existing this magazine is to read watch and keep love this so glad amazon offered this for a year unbelievable deal ever',\n",
              " 'literally the worst publication ive ever read over of the magazine is filled with full page ad',\n",
              " 'very happy with this offering and it started arriving on the quick end of the promised window',\n",
              " 'very happy with this offering and it started arriving on the quick end of the promised window',\n",
              " 'circuit cellar occupies a unique place in the world of electronics literature it scope is a little too limited and the article a little too advanced and disciplinespecific to serve most of the dwindling hobby community on the other hand the magazine carry an enthusiasm and a sense of fun thats rarely seen in professional magazinesbr br this magazine wont do much good for a beginning electronics aficionado but it a godsend for advanced hobbyist and for professional engineer and technician who love their field',\n",
              " 'husband enjoying it',\n",
              " 'i love it sometime is repetitive',\n",
              " 'i bought this magazine with high hope that it would focus on issue pertaining to texas it doe in part but there is a blatant political bias in almost all the article that is not representative of texas a a whole the writing in this magazine smack of elitism under the guise of lone star pride if you like ad this is your magazine if you like an editor with a political axe to grind this is your magazine if you like to line the bottom of your birdcage with something other than newsprint sadly this is your magazine',\n",
              " 'i live this magazine i am a huge fan of whisky so i thought i would give this magazine a try is it going to change my life certainly not but it is entertaining for what it is a magazine a of yet i have not really been introduced to anything that i have not tried before so that is a bit disappointing they seem to focus on readily available product',\n",
              " 'once again of the better science magazine accessible to nonscientists scientific american is a great periodical for curious and thinking personbr br im unsure how a scientist might regard sa but for me whose field of study is nontechnical i appreciate the depth and breadth of articlesbr br be advised these arent pure pop article you wont find the easybreezy style of time magazine a it cover for example the gas between star how female choose their mate how cell communicate or voice recognition software sa get into the meat of it however consider this is ultimately not a peer reviewed journal for scientist where it lack in meat it compromise in accessibility thats the hard tradebr br enjoy a subscription to scientific americanbr br anthony trendlbr americanspeechwritercom',\n",
              " 'a a poet there are a few place id love to be published there the new yorker the atlantic and poetry magazine there are other place i want to see my work but these three are to me huge they vet the best poem and publish thembr br only poetry focus on poetry a review of their history would tell you they have tenure great poet are published here one we all know and one we all should know unlike the new yorker and the atlantic poetry is especially open to unknown if you are good enough you are in whether you are famous or notbr br like most literary magazine the design is clean almost simple here considering everything from paper color to typography poem are more than printed they are framed no no no fancy design rather they clear the way so that the poem are highlighted nothing butbr br an essay and a few review finish each issue followed by a couple page of ad all black and whitebr br if you are looking to buy a true literary magazine a much curated a it is edited pick this one dont do it to support the art but because each issue is worth the time and moneybr br i fully recommend poetrybr br anthony trendlbr americanspeechwritercom',\n",
              " 'for a saturday afternoon of light but encouraging reading buy a subscription to guidepost there are deeper magazine bt dont be fooled every article here connects richly with the soulbr br this is the kind of magazine both catholic and protestant can both love it is great gift for your friend who attends the church across the street from yoursbr br short vignette and more involved profile color this magazine in much the same way a reader digest might except with a clear spiritual flavorbr br it is ecumenical yet uncompromising i fully recommend guidepost you wont be disappointedbr br anthony trendlbr',\n",
              " 'time ha it moment of greatness however sucked in by the same disease which created the tabloid time is often too timelybr br time is not the it doesnt seem to have the same political leaning but time also miss their sharp wit and analysisbr br some of the religious article have been impressively wellresearched and edited to limit editorial biasbr br want to get a quick look at the world read time if you are looking to have more than a superficial view purchase another magazinebr br i recommend time magazine but not a a primary news sourcebr br anthony trendlbr',\n",
              " 'whether you are selling your otherwise secular product to a christian market or a christianized secular product or are selling christian product to the secular marketplace this magazine is for youbr br christian retailing is published by charisma medium which ha an inconsistent line of magazine this remains one of their most solid with predictable qualitybr br get a feel for the niche market idea how to meet your customer or meet your vendor at a convention learn point of purchase display strategiesbr br once dismissed a a nonmarketable market christian retailing is now a powerbr br it would be nice to see some moree in depth article about how to deal ethically and legally with the snake oil salesman with schisters hitting the street of christian tv selling item christ wouldve tossed from the temple retailer who are christian need help in knowing how to evaluate thisbr br christian retailing is not only the best of the field but for all purpose it is the only one competition would do them good but no other decent general product publication exists in this genrebr br i fully recommend christian retailing without it you simply are unprepared to meet the marketplacebr br anthony trendlbr',\n",
              " 'granted it is called catholic digest but it lack in the way too many catholic publication lack it doesnt get often enough into what it mean to live out a catholic faith in an everyday worldbr br it is very wellwritten and ha a sharp guidepost or reader digest feel about the look and tonebr br some article in catholic digest can be poignant but i want my faith challenged i dont expect the depth of but i want to know how i can serve christ mondayfriday explain to me the liturgy why are various aspect of it important what about what the bible say about alcohol or daily prayer how about defining mary official role dispelling the mistaken belief than she is equal to christ br br the protestant magazine are loaded with account about how god changed their life id like to see more of that the protestant have lot of bible study and that sort of thing in their magazine do i have to buy a protestant magazine to learn how to be a better christian theyre fine but it seems with the long history of great theologian someone could get a catholic variation on all of thatbr br i think catholic digest is the best publication offered for catholic but id like more meatbr br anthony trendlbr',\n",
              " 'christian live in an difficult age when disbelief is the norm mediocrity defines many faith and passivity is not a choice of strength but of fear sojourner discus the real life of a believerbr br sojourner challenge all of those point what doe it mean to be a relevant christian with a myriad of complex social issue that christian often respond to a a matter of politics and avoid examining the bibical principlesbr br hunger homosexuality homelessness third world unrest war gender leadership br br what do you thinkbr br sojourner address and facilitates thinking about these issue dont expect it to preach to the choir though it clearly ha a liberal political view it is in some way like the old moody magazine with an emphasis on world issuesbr br read sojourner carefully with your bible in hand disagree or agree with them youll like find yourself more passionate about one side or another of an issuebr br i fully recommend sojournersbr br anthony trendlbr anthonytrendlcom',\n",
              " 'i like the atlantic but i confess i do not like it enough so that i will continue to subscribe i read it while awaiting treatment at my dentist office while on the train or at a coffee shop in minute i have had my fill it is otherwise not compelling in it originality or capacitybr br the article are better than most popular magazine i enjoy mark steyn and mark bowden but get tired of christopher hitchens proselytory writing tonebr br occasional issue have been dumbed down are feel a if they are being geared for the entertainment tonight crowdbr br the atlantic is a good read in short spurt but inconsistent over the entire issue i now only buy a couple issue a year at mostbr br anthony trendlbr',\n",
              " 'edited much like chicago crains chicago business the budapest business journal localizes it content to serve the need of those doing business in hungary largest city it tone is not light though it is very readable an mba is not requiredbr br not a indepth a publication like the wall street journal it doe however highlight news necessary to serious eastern european investor major article on the current tax situation work force issue hedge fund and market trend all indicate that bbj is working hard the piece indicate research and investigation with a committed effort to examine all side of the questionsbr br bbj follows the personality mover and shaker and trend that impact hungary with increasing news about the european union commentary and editorial are prohungary recognizing the great difficulty the region ha but the potential hungary ha a a leading financial center a optimistic a the editorial staff is about the continued economic redemption of hungary article lean honestly about the struggle and hurdle aheadbr br feature include review of restaurant and entertainment and presumes many reader are not regular visitor to budapestbr br advertising is geared toward expat with higher income with nicer restaurant corporate service and luxury travel filling the ad spacebr br while a meatier newspaper would be helpful this is a good start a the economy expands so should this newspaperbr br anthony trendl',\n",
              " 'imagine our daily bread written in a more contemporary tone slanted for a male audience then add stiff subscription ad thats men of integritybr br men of integrity is an anecdotal vignettedriven daily devotional magazine like our daily bread it take the reader into a scripture with some challenge it is not a deep a my utmost for his highest or a spiritually pushing but it doe serve a good purposebr br topic in the issue in my hand include racism reconciliation marital infidelity corruption child and fatherhood profanity commitment to attending church and temptation a weekly roundup sum up each week with question to remind the readerbr br for the man on the go the one who is not ready or willing to read scripture at length this is perfect it is small slipping easily into a pocket for lunchtime or trainride reading it is bimonthly and supply two month worth of devotionalsbr br a thoughtful man could spend minute on each day chapter reading through the biblical passage and thinking through the question a casual reader will finish it in five minutesbr br cobranded by promise keeper christianity today hold true to it mission to engage encourage and equip the church worldwide sharing the depth and transforming power of the gospel a it permeates all sphere of lifebr br the only real negative is the ad card stitched in those can be ripped out and tossed awaybr br i fully recommend subscribing to men of integritybr br anthony trendlbr br editor hungarianbookstorecom',\n",
              " 'there are a few magazine about writing serious writer need to read poet writer is one of them it ha a literary bent but avoids the noseintheair attitude it is practical and educational and is pleasingly presentedbr br a favorite factor for me are the long feature article on the culture of writing in the issue out now there are two major article one is about author stuart dybek and his fiction that pull from his experience growing up on chicago colorful south side the other is about writing contest dealing with how ethical they are run the view of literary judge and when a writer should considering entering onebr br the secondary article are a informative and a useful whether you want to learn about promoting your book doing online workshop or understand the trend driving the industrybr br contest incidentally are a big part of pws value the magazine tell you who won and which contestsgrants are currently accepting submission pw is careful to screen which contest are listed ensuring only legitimate one make it through the editorsbr br the writing itself is interesting it is not always true that writing magazine are fun to read it should be and in the case of pw everything is engagingbr br pws design is clean it look like what a small press literary magazine should look like the typography and layout are not pretentious or overbearing but get the job done it is never work to read this magazinebr br i fully recommend poet writer you will be better informed about writing and writer just like the title impliesbr br anthony trendlbr treefortbookscom',\n",
              " 'discipleship journal doe what many other christian magazine do not do it provides instruction and challenge the reader to be directly and fully engaged in a christfocused faith while others may talk about christianity dj asks you to pursue christ through responding to scripturebr br this isnt an evangelistic magazine like decision or an encouraging magazine per se like moody it is for the christian looking to grow in his or her faith by examining themselves and what god word saysbr br it is not for the passive pew sitter this for the christian who want his or her faith to impact the day between sundaysbr br there is nothing watereddown here it is published by navpress who like their counterpart the college ministry navigator know the crucial necessity of biblical study by the everyday christian whether it is a discussion about satan favorite lie how to study a particular book of the bible or an explanation of what prayer is an is not dj is the sort of publication that will cause you to pause midpage and realize something new about our lord and his waysbr br this is a great tool for two or three people to use together even a small group to go through the article week by week and discus them and what this mean in real life ive even heard of ccd and sunday school class asking everyone to read selection from a certain issue a fodder for the next week classbr br i fully recommend discipleship journal expect your faith to growbr br anthony trendlbr editor hungarianbookstorecom',\n",
              " 'christianity today is much like time magazine founded in part by billy graham and carl henry it basis is evangelical however a the christian world is farther reaching than evangelicalism so reach christianity today ct remains steady and solid in it view and help educates the wellread christianbr br mixing popnews hardhitting issue and intriguing feature ct manages to cover and ass the present state of christianity with a core of intelligent thinker and seasoned journalist ct ha been the leader in christian journalism and set the pace for it peersbr br article are often passed around sunday school and ccd class to educate the layman what is going on in the modern christian life helping connect the year ad with adbr br though coming from a protestant slant catholic and orthodox christian would be wellserved to explore this magazine a the movement of world christianity are followed and reported for example they have done a great job reporting and analyzing the issue surrounding the irish catholicprotestant conflict separating the sociopolitical from the religious point of viewbr br a great buy i fully recommend christianity todaybr br anthony trendlbr',\n",
              " 'allaboardbr the train leaf the station at and pull up to my stop around i can get through most of quotpeoplequot by then so can youbr not difficult reading and dont expect to learn anything important quotpeoplequot is not meant to teach you anythingbr kick back pull out your monthly train pas set down your bag and flip through a few page learn about the latest going on of the rich and famous see the costume of hollywood and the car they all drivebr and when you are done leave on the seat for the next guy he had a long day toobr i fully recommend quotpeoplequot but only if you dont expect it to be quotthe new york timesquotbr anthony trendl',\n",
              " 'charisma magazine ha gone through positive and negative change in the last yearsbr br what once wa a lighthouse for charimastic christian ha evolved into a le discriminating publication charisma seems to have lost sight of the necessary theological assessment of varying belief in a new age everythingmightbetrue spiritual environment we live in they need to be more cognizant of the challenge on charimastic beliefbr br in tough issue like the browsnville revival and the toronto blessing charisma should be tougher analyze it charisma dont wait for the medium to tear it apartbr br likewise charisma isnt strong enough when imposter come to town chasing money in the name of a faulty health and wealth theology similarly the cult of personality in charimatic movement is terribly rampant and ignored by church leader no other charismatic publication is taking these issue to task but charisma is in the best position to do sobr br however there are some good thing charisma is the best of it lot there simply are not other wellwritten welldesigned magazine or charismatic christian they do report solidly on religious persecution issue they also cover the news of the christian church atlarge effectively almost a well a the more newsbased christianity todaybr br three star yep i wish i could give it more but until charisma start a deeper inspection and introspection of the charismatic event and people i must regrettably stay at threebr br i recommend charisma but with reservationsbr br anthony trendlbr',\n",
              " 'quotthe new yorkerquot doe set the standard i cant agree with every idea and not every standard they set is worth chasing however the sum of this magazine helped founded by the great wit dorothy parker is a solid thinking literary humorous magazinebr i wont belabor my review analyzing quotthe new yorkerquot to death but give it a shot read it and be a better rounded better thinking person a a resultbr i fully recommend quotthe new yorkerquotbr anthony trendl',\n",
              " 'hardcore runner will read runner world because they have to it popularizes the sport and brings newcomer up to speed about issue and technique important to them a well a clue them in on who is who out on the road a great magazine except i simply prefer the depth of training and racing issue running time provides a bit more really i wish i couldve given this magazine a br br running is a funky subculture and runner world defines and educates that culturebr br since the late george sheehan wrote his famous column that emphasized running a spiritual endeavor runner world ha taken on an oprah winfreydeepak chopra sort of generalist running philosophy thats not all bad a i think the magazine thoroughly encourages fitness through runningbr br it isnt all fluff there is plenty for the more avid runner to soak up the avid runner will find their marathon coverage especially boston and new york impressivebr br their running shoe review is what any runner will benefit from it detail every aspect of what make a great shoe almost to the point of parody however parody or not their analysis will help you buy the shoe you need for your foot for your distance in your environmentbr br buy a subscription to runner world lace up and get out on a runbr br i fully recommend runner worldbr br anthony trendlbr',\n",
              " 'quotrunning timesquot is for runner who compete either against others or who simply have a great desire to run wellbr well written and cleanly organized youll read about the training method of top runner and the top technique for meeting a specfic goalbr marathoner and kers will find that there is a lot to be learned from each others distance and theyll have the chance herebr for stats junky the people who love to read who won the juniper day k in upper nowhere city oh the feast you will have a a stats junkie myself i thumb through the time quickly before devouring every detailbr i fully recommend this magazinebr anthony trendl',\n",
              " 'granted it is called catholic digest but it lack in the way too many catholic publication lack it doesnt get often enough into what it mean to live out a catholic faith in an everyday worldbr it is very wellwritten and ha a sharp quotguidepostsquot or quotreaders digestquot feel about the look and tonebr some article in catholic digest can be poignant but i want my faith challenged i want to know how i can serve christ mondayfriday explain to me the liturgy why are various aspect of it important what about what the bible say about alcohol or daily prayer how about defining mary official role dispelling the mistaken belief than she is equal to christ br the protestant magazine are loaded with account about how god changed their life id like to see more of that the protestant have lot of bible study and that sort of thing in their magazine do i have to buy a protestant magazine like quotdiscipleship journalquot quotmoody monthlyquot to learn how to be a better christian theyre fine but it seems with the long history of great theologian someone could get a catholic variation on all of thatbr i think catholic digest is the best publication offered for catholic but id like more meatbr anthony trendl',\n",
              " 'my nine year old love this magazine it seems to be well written and he really look forward to receiving it every monthbr br the other cricket medium mag are generally pretty good too',\n",
              " 'unsubscribing from cook illustrated is almost impossible you can write you can phone but once they get your credit card number the magazine and the bill just keep coming',\n",
              " 'what can i say wired is a fantastic magazine entertaining informative article it is one of the few magazine that both my husband and i really enjoy it wa delivered sooner than i expected since actual magazine usually take a long while to get your subscription started and out to you in your mailbox my husband and i both look forward to receiving and reading every issue of this magazine i am a news junkie and a pop culture fanatic so i consider myself pretty current on most subject it i always learn at least one new thing in each issue',\n",
              " 'love it thanks',\n",
              " 'great',\n",
              " 'great',\n",
              " 'not my favorite business mag but when i get the offer in the mail sometimes i bite a someone else said it not very good at having insight but more a who who type of mag it more entertaining more than educational',\n",
              " 'really missed ng good to read it again',\n",
              " 'great for corvette fan i recently picked up a corvette so i have the fever amazing vettes beautiful photography and a interesting tech section that answer reader question on problem with their car just resubscribed',\n",
              " 'i thoroughly enjoy popular science magazine and look forward to every issue i find it both educating and entertaining and the price is more than fair for the information you receive',\n",
              " 'fortunately i have always loved car i like how they look how they handle how comfortable they are how they perform what kind of gas mileage they get and how they age autoweek provides uptodate information every two week rather than the other mag at once a month i still subscribe to four monthly car magazine but autoweek often beat them to the punch on new car with their more frequent issuancebr br my wife prefers car magazine over girlie mag after all she wouldnt be upset if i came home with a new car',\n",
              " 'great',\n",
              " 'gift',\n",
              " 'fun to read',\n",
              " 'fun to read',\n",
              " 'great magazine but so frustrated that subscription start with an old issue',\n",
              " 'i am a homeowner with a wife and three small kid i may be the target audience for the family handyman magazine im not a diehard diyer but im eager to learn if i have the time the job doesnt require specialized training or certification and the cost saving is there i absolutely love this magazine and read it cover to cover the information contained within is worthy of placing the backissues onto my evershrinking book shelf ive ditched many of my other howto book most of the time i just search the internet for the knowledge i need but sometimes i dont even know what i dont know the family handyman discus thing like preventative maintenance on your home how to select quality material for your project and how to make your diy project a little cleaner and safer they also describe the function of tool and explain the use of material the diversity of the article mean that i find something in every issue for example im able to build a wall and install a sink but im not a informed about concrete or roofing this magazine is wonderfully informative with well written and illustrated article i highly recommend for anyone with aspiration of being the family handyman',\n",
              " 'i have purchased individual copy of field and stream on and off for year but until today i never actually considered subscribing ive purchased the past three issue at the news stand and ive thoroughly enjoyed them im not a hunter but i do occasionally fish camp hike and visit the target range im also interested in sustainable living and emergency preparedness the past few issue of field and stream that ive purchased have offered excellent information on fishing emergency preparedness hiking camping and wildlife preservation ive also enjoyed their campfire recipe gardening tip and product review for thing like binoculars backpack firearm and fishing equipment their article seem to be written by very intelligent natureloving individual that have a passion for wildlife preservation and a lot of outdoor experience it might be wise to pick up single issue from the magazine rack over a few month before you subscribe to help you decide if it a subscription that youll enjoy i recommend field and stream for anyone that spends recreational time in the outdoors',\n",
              " 'look forward to the arrival of the magazine',\n",
              " 'enjoying the digest it is still the same',\n",
              " 'i love the variety of recipe and the article are interesting i love trying new food and cuisine from around the world and this is a great way to do it their website is great too it helped me learn how to care for and use my cast iron pan i definitely recommend bon appetit for adventurous cook',\n",
              " 'i love this magazine i look forward to receiving it each month',\n",
              " 'well i cant really review it since i havent received my first copy yeti do rate it high because ive subscribed to it before but not since the new publishing company took it over switched to amazon for the ordering processi dont even think that the staff at crochet today realize that yet',\n",
              " 'always look forward to getting each month been subscribing to it for year',\n",
              " 'some issue are full of great project and some are real stinker guess opinion vary',\n",
              " 'i cant give it five star because a few issue leave me uninspired',\n",
              " 'thoroughly cover new a well a tried and true place to see and restaurant are rated upcoming event are covered a are local celebrity great guide to a great city',\n",
              " 'secret is to never renew never get this price might miss out on a issue but work for me cheap',\n",
              " 'enjoy each issue very much',\n",
              " 'did not order this magazine',\n",
              " 'always liked the magazine',\n",
              " 'a little much on the advertising but love the magazine and martha stewart',\n",
              " 'love the recipe not every issue is a good a another but enough to keep reading',\n",
              " 'a',\n",
              " 'this is a quality magazine it is well written great layout and pertainent the best of this magazine is the combination of quality layout and intelligent approach',\n",
              " 'this is always a dependabel magazine the article are well written and on point i am very happy with the purchase and will definitely extend my subscrition great magazine from a great provider there is always somethign to learn',\n",
              " 'perfect to learn about what is going on in the city like many city magazine theis one is glossy and polished in it approach unlinke several city in which i have lived it doe not focus solely on the upper level of society in addition to local activity the variety of coverage reach every demographic',\n",
              " 'like',\n",
              " 'beautiful food need i say more',\n",
              " 'work a intended',\n",
              " 'perfect fit for the grandkids',\n",
              " 'my year old grandson love this magazine he all about animal ive subscribed for a second year',\n",
              " 'i like the magazine just fine i use them to cut out picture that i like to be used for collage',\n",
              " 'my year old grandson enjoys this one',\n",
              " 'becoming more advertisement and limited copybr last of my subscriptionbr btw amazon is great about adding and unsubscribing magazine',\n",
              " 'great writing topic and photo',\n",
              " 'amazon gave me a subscription to cookie free for a year imo that is the only way they could distribute it i gave it a couple of month of reading then decided it wa a waste of time for me to read i didnt identify with anything in the magazine it is a pretentious magazinebr now when i get it in the mail i toss it in the trash without reading it first it is time for me to renewthey couldnt pay me to read the magazine and renew it is that boring of a read',\n",
              " 'i dont necessarily get this for the show grid a much a i do for the article about the show on the different network i find out about a lot of different show i would not know about otherwise the show grid is nice to see a slew of channel at a glance instead of waiting on the slowness of the cable scrolling grid',\n",
              " 'i thought i would try this magazine for a year a it wa a good price it ha good article picture and recipe when everyone in the house is done with it i drop it off at the local senior center i do that with all my magazine a i dont want to throw them out when others can read them',\n",
              " 'just thought i would try this magazine a it wa a good price it ha interesting article picture and recipe when everyone in the house is done with it i drop it off at the local senior center i do that will all my magazine a i dont want to throw them out when others can read them',\n",
              " 'i buy this for my aunt that is in a care facility the large print make it easier for her to read and i enjoy reading it when i spend time there and she nap there are far more interesting article that i expected and i am glad that i order this for her',\n",
              " 'ive been reading this since i wa about year old it is still interesting good article interesting fact',\n",
              " 'well written interesting articlesrecipes i enjoy this a lot',\n",
              " 'interesting article and idea easy read for the novice to the expert',\n",
              " 'a quality magazine interesting story excellent recipe i am a fan of martha',\n",
              " 'i have been reading national geographic since i wa about and wa given a subscription a a gift i literally read every single issue from cover to cover always interesting informative and inspiring their photography is second to none',\n",
              " 'i have been reading this since my teen and really enjoy it i love getting magazine on amazon a they take care of the renewal every january and i can ignore the renewal that come every month',\n",
              " 'i have been reading this since my teen and really enjoy it it is a good mix of article i love using amazon to manage my magazine subscription and they get paid for once per year and i can ignore all the renewal notice',\n",
              " 'what can i say about any nat geo product all first class great reading interesting article about unusual place to go',\n",
              " 'i really enjoy this magazine i ti s filled with tip ship review etc a good resource for people learning about crusing or seasoned veteran',\n",
              " 'i like this a i can pick it up and read it whenever i have a few minute available nothing too deep it is also a good source of new movie tv show book etc',\n",
              " 'this is a great magazine very informative and helpful when looking to buy item while i dont always pick their choice it help to avoid lesser rated itemsbrands that i might have been tempted to buy',\n",
              " 'yes entertainment weekly ha been a monthly magazine for quite some time now since it wa bought by new publisher yet they dont change the name so if you think you are getting an issue on a week nope youre getting only the number of issue you think you are',\n",
              " 'the week is a good entertaining magazine very thin at an exorbitant price it wa becoming too expensive for me to continue i got a renewal email special offer year special that is more than amazon is charging here even is per issue the week also play trick with their renewal notice like most magazine these day do sending you a renewal notice month or more before your subscription actually expires im tired of the high price and the trick yes i like to read it when i can but it getting ridiculousbr update i called the week toll free number at got a year renewal for',\n",
              " 'reader digest is just good informative reading a it always ha been good article good humor spot still a good read',\n",
              " 'i discovered this magazine while attending the ahmet tribute concert featuring a reunited led zeppelin for a oneoff show yes it expensive and i cant always justify the expense but they all come with a cd and are packed with all those thing you missed in the old issue of cream circus or those other past mag only with top quality glossy photo and article that keep you riveted',\n",
              " 'wonderful and informativebeautiful picture and helpful info',\n",
              " 'it full of helpful hint and great idea',\n",
              " 'program my tv two week using my tv guide this way i dont miss any program i really want to watch',\n",
              " 'this review is on the gourmet magazine and not the amazon subscription or subscription processbr br if you live in new york city gourmet is a great magazine if you want to follow trend gourmet is a great magazine if you dont live in nyc gourmet ha mostly forgotten about you that my friend is why i give it only a a culinary professional who worked from miami up to the st lawrence river in upstate ny i had often read the magazine and wondered sometimes not even quietly why the writer and editor were so stuck on the city if you didnt life there you didnt matter that wa the basic philosophybr br on the plus side the article were usually well written the interview decent and the recipe interesting the following of trend wa usually spot on yes nyc doe have a lot of restaurant and a lot of chef it isnt however the only place in the universe much le the united state',\n",
              " 'this review is on the magazine forbes and not the amazon subscription or subscription processbr br forbes is a to the point magazine i appreciate that the article a short concise and not lacking in information while i also read a few other financial magazine forbes is the one i will go back to and grab to reread a particular point about a particular issuebr br this magazine while full of ad like the others offer a great deal of insight between the cover honestly if i were to be asked to specify just one financial magazine to read forbes would be my answer',\n",
              " 'this review is on the magazine fortune and not the amazon subscription or subscription processbr br i neither have a lot of saving nor a lot of debt i have a variety of small investment in the form of mutual fund and gold fund fortune doe not directly steer the way i do thing i doe however guide my intention occasionally i have learned a great deal by reading this magazine thing arent necessarily crystal clear but i get a good grasp on what i must do in order to stay afloatbr br fortune magazine is well written why it certainly deal with business business is what keep this country moving and thats where the money is and go it watching these deal merger sale and bankruptcy that guide where i put my money and how much of it go therebr br i do like this magazine for anyone who ha concern for their future and eventual retirement and that should be everyone this magazine is a treasure trove',\n",
              " 'this review is on the smithsonian air space magazine and not the amazon subscription or subscription processbr br i have to admit im a bit of an aircraft buff well im more than that actually i love aircraft i worked my way in the navy into a flight status position where there were only of u navywide doing the job yeah im an aircraft lover and air space magazine definitely itch that scratchbr br sadly now living in washington state the smithsonian museum is not a close to me a it wa when i lived in southeastern va or northeastern nc there i could make a dash up to dc in a few hour and mill about the museum all day if i chose thats why this magazine is now more important to me than it ever wa when i did live out therebr br thank you air space for year of a fantastic magazinebr nck super constellation buno br and a variety of epes',\n",
              " 'this review is on the reader digest magazine and not the amazon subscription or subscription processbr br reader digest is probably known to every american who is old enough to think for themselves it ha gone from a fairly decent magazine which would actually truncate story to fit the reading public they had plenty of their own bit and piece including my favorite humor in uniform life in these united state and laughter is the best medicine over the year thing change first it le story and more fluff then it le story and fluff and more advertising then it more advertising on top of more advertising it a if print magazine have a death wish yes we know it cost to print a magazine we also know magazine should make a reasonable profit it when the profit and bottom line becomes the focal point that problem arisebr br i will still read reader digest i will no longer subscribe to them that went out the window some time ago the story keep me coming back the excessive advertising keep me from staying',\n",
              " 'this review is on the magazine smithsonian and not the amazon subscription or subscription processbr br the smithsonian is a very intriguing magazine while it center around the smithsonians world it will take you a an explorer to archaeological site and discovery worldwide from the comfort of your easy chair recliner or couch you can journey the world and back in a little a a few minute to several hour depending on how much you might read and your actual reading habit br br this is well written professionally written material this sates the explorer in u all and allows u to see for the price of subscription thing i could never afford to see or place to go in life while having spent year in the u navy and being quite well traveled from it i dont often come across article of thing ive seen or place ive been im saying this in a positive way ive been quite broadened in my quottravelsquot because of this',\n",
              " 'this is a review of the magazine boy the amazon subscription processbr br time in and of itself is a great magazine it is definitely timely current stuff fraud ruth rush need to be dealt with that would and should give it star sadly this magazine is chalkful of advertisement yes i understand the magazine doesnt make money on the subscription and require advertising for revenuebr br while the internet is a wonderful thing there nothing like holding a magazine in your hand time ha always had a great reputation for good reporting it the advertising thats the downfall there just seems to be way too much of it story ad ad ad ad story of the page were full sized advertisementsbr br on the plus side is that most of the ad are clustered together and once past that youre good to go',\n",
              " 'this review is on the magazine not the amazon subscription processbr br national geographic is likely one of the best known magazine in the nation if not the world nat geo ha allowed generation upon generation of reader to travel the world from the comfort of their own home for the price of a subscription one could learn expore visit and understand nation community and people newly discovered and those long knownbr br one of the most amazing thing about national geographic is how long some people hold on to them it is not uncommon to come across bundle from the s s and s looking through them one learns about so much including the advertising which today is often found on the premiere auction sitebr br national geographic is an amazing source of information both consumer and locality this probably more than any magazine should grace your house should you wish to educate your family',\n",
              " 'this is a review of the magazine and not the subscription through amazonbr br good housekeeping like many magazine if it ilk make it money on advertising given that fact many page are nothing but either ad or infomercial once past that there really is a good magazine hidden between those pagesbr br i have been an on again and off again subscriber since the early s when i returned to the u after a five year stint in the military living in europe you might find it odd but this magazine helped with my transition to the land of consumerism and commercialismbr br good housekeeping keep up with trend and idea for the modern home from solar water system to water heated floor from pink rose pedal to rose hip tea gh ha been there given the duration this magazine ha been in operation earning a good housekeeping seal of approval is sometimea a boon to business and that push needed for national recognitionbr br gh is not a controversial magazine the editor would probably have coronary just at the thought of causing controversy this is an enjoyable read cover to cover once the advertising is overlooked but sometimes that advertising is just what is needed',\n",
              " 'this is a review of the magazine and not the subscription through amazonbr br i had subscribed to sunset several time over the year after moving to the atlantic coast side of the u reading it wa haphazard and only through an odd passing fast forward nearly year and im back on the pacific side of the country where sunset actually matter to me nowbr br ive always like their writing it an easy comfortable read without dummying it down so much i feel a though im being talked through instead of to their article seem to hit home for me being an avid hiker camper and backpacker there seems to be many choice that speak directly to mebr br sunset magazine isnt going to shake up the world but if you live in the west and are looking for something that offer you choice on what to see and do sunset doe just that',\n",
              " 'year ago my mother wa one of the original editor of taste of home that said anyone who wrote a recipe and had it published wa considered an editorbr br this wa a great magazine for the home cook most of the recipe were kitchen friendly with ingredient and tool you would have in a decently stocked kitchen something along the line of smoked paprika might have been considered classy or even foreign today with reader digest at the helm it a different magazine gone are the day of no advertisement and it is now filled with big glossy photo of food kitchen and body related item that the publisher feel you can not live without i for one can live without thembr br having spend more than year in the culinary business from the bottom of the chain to operator and now educator i would occasionally use taste of home for a comfort food selection these particular recipe would be given to the newest of the new cook to prepare and have ready for servicebr br taste of home still ha decent recipe it isnt the friendly magazine that it once wa it part of a conglomerate that feel number are more important the quality ill read it but i no longer subscribe',\n",
              " 'this review is on the magazine cook illustrated and not the amazon subscription or subscription policybr br cook illustrated is the consumer report of the food world they are indepth and take their time to figure out the working of a recipebr br all recipe are well thought out well written and let me tell you a a professional ive seen poorly written recipe and darned tasty recipe again a a professional i have seen these recipe to work for both home and the restaurant this is about a good a it get',\n",
              " 'ive long been a backpacker and often a subscriber to backpacker a a magazine devoted to being out and about i can think of very few better a a tester of equipment i can think of non other than consumer report who are a thoroughbr br backpacker magazine offer the known and lesser known hike any suggested would make for a great trip',\n",
              " 'it very small and general because bird and plant vary regionally this magazine is not very useful for me',\n",
              " 'marthas magazine is like receiving a little gift in the mail stop whining lady online option arent a cool a a print magazine you can hold fold back the corner of a page and save an issue print magazine will die if we dont subscribe and they are a ridiculous bargain on amazon',\n",
              " 'sort of a chi chi woman day',\n",
              " 'waaaaay to expensive this country gal better simmer down cook magazine and other high end magazine that are also loaded with content give at least six issue a year she doe quick hack recipe my yr old mother like the tv show so i thought i would get the magazine for her but even she read it in twenty minute top',\n",
              " 'i love this magazine i save all of the issue and take them out and read them over and over again',\n",
              " 'love the magazine for year good price on my renewal keep you up to today technology with many in depth article',\n",
              " 'great magazine for year at a terrific price easy to read and keep you up to date on technology and various rating on electronics cant lose on this offer',\n",
              " 'we love maine and enjoy reading about it',\n",
              " 'subscribe only if you have plenty of time on your hand and little to do with it it very slick nice to look at but irrelevant not worth either the time or the money unless you have lot of one or the other or an obsession with ultra modern building',\n",
              " 'this is wired it is a great magazine still excellent reference',\n",
              " 'purchased for my elderly mother she love them',\n",
              " 'clear and informative',\n",
              " 'i have always enjoyed this magazine and look forward to each issue',\n",
              " 'great buy',\n",
              " 'my kid are crazy about animal and this is a great magazine for them it feature a lot of really fun article and activity the literally jump for joy when this arrives in the mail and i can count on them to sit and read it for a few hour afterward',\n",
              " 'bought for a friend',\n",
              " 'love it calming affect',\n",
              " 'my granddaughter like the magazine however i originally bought a sixmonth subscription that could be renewed i never got a renewal notice because the original subscription didnt end until july however i got charged in february for another six month at i canceled my subscription made it yet to get my money back for them renewing my subscription three month early or three month into my first subscription of six month',\n",
              " 'ew is a perfectly fine subscription it is colorful entertaining and an enjoyable read i would have to take issue with the advertised issue though through the first issue i received were double issue what it is closer to is issue a month so plan accordingly for the first three month of my subscription it is a great value though so i would still recommend it at the price offered currently',\n",
              " 'great deal',\n",
              " 'it did take awhile to receive but it did come within the time frame they gave me other than that i absolutely this magazine i first discovered it about two year ago while waiting in the airport for my flight to board and i read it cover to cover during the flight i even reread it on the flight back',\n",
              " 'more ad than article i am disappointed',\n",
              " 'subscription started on time',\n",
              " 'i learn so much from the magazine new tip new recipe and we have great food quickly for dinner',\n",
              " 'backpacker is one of the greatest magazine out there for the one who love outdoors',\n",
              " 'good magazine',\n",
              " 'i used to subscribe to vegetarian time and liked that magazine but got tired of always having to adjust recipe to veganize them plus i dont feel that dairy even belongs in the human diet so it bugged me that so many of those recipe revolved around it veg news is great support for vegan and i love finding out about new product on the market that make my life easier ive been a vegetarian for year and a vegan for a good part of that and it just keep getting easier and easier i dont much care for cooking though so im always looking for shortcut beware that the focus of the magazine is not necessarily health oriented there is an awful lot of ink devoted to vegan sugary treat and vegan faux meat that i dont personally eat or need in my diet but the idea is to show how doable veganism is for anyone that is entertaining the idea but fear that life will be one bland meal after another veg news demonstrates that it doesnt have to be and that there are ton of alturnatives out there that dont require the death of our beloved animal on those occasion that im feeling unplugged and like im the only vegan on the planet it comforting to tap into the enthusiasm of many others that know that were clearly on to something good and have been for some time im renewing my subscription',\n",
              " 'love magazine',\n",
              " 'are you kidding me how did i not ever know about these magazine before love the art variety of story and diversity of interest great job cricketmedia',\n",
              " 'are you kidding me how did i not ever know about these magazine before love the art variety of story and diversity of interest great job cricketmedia',\n",
              " 'are you kidding me how did i not ever know about these magazine before love the art variety of story and diversity of interest great job cricketmedia',\n",
              " 'i have always loved traveling the world through national geographic the story are always amazing and interesting read',\n",
              " 'i like how there is a topic for everythingfashion beauty money food selfhelpetc',\n",
              " 'i like reading about fashion and beauty tip',\n",
              " 'ton of thing to try',\n",
              " 'really nice mag great article',\n",
              " 'product a stated lot of recipe with many ingredient',\n",
              " 'product a statedbr the first delivery wa to be in october the first issue arrived the first of september',\n",
              " 'love the magazine fast delivery',\n",
              " 'enjoy greatly',\n",
              " 'great publication',\n",
              " 'my kid love this book',\n",
              " 'child today still enjoy and benefit greatly from this mag a did i a a child good quality value',\n",
              " 'this cost half of what it cost at headquarters',\n",
              " 'home sick texan keep me informed about the rich folk and bbq joint',\n",
              " 'got this for a friend and shes thrilled still a good source for teen and not nasty like so many',\n",
              " 'my favorite mag',\n",
              " 'very well written article on good subject that will help beekeepersbr much better than beecoulture',\n",
              " 'brilliant magazine with great article make me want to get on the next plane heading across the pond god save the queen',\n",
              " 'i informed reader digest i am and cant read the small print i need the large print other wise the book are great will not be reordering because small print',\n",
              " 'lot of helpful info in this magazine thanks amazon',\n",
              " 'we go enjoy the article in this mag very much',\n",
              " 'bought for mom she ha always read these and doe not pick up at the food store she love the puzzle and limited number of ad show up every week and reminds her i am thinking about her',\n",
              " 'like the magazine but it will take to month for my mother to receive this a a christmas gift',\n",
              " 'nice magazine to look at',\n",
              " 'got for my husband',\n",
              " 'love this book',\n",
              " 'like to have around the house to look though for ideaz',\n",
              " 'i am very happy with my purchase of the people magazine subscription it wa a great price for month and wa delivered to my daughter a promised it wa a christmas presentbr br thanks for great service',\n",
              " 'this magazine leaf much to be desired while once it wa a gold standard now it just below average sadly enough most time my wife and i will read aloud and laugh at these ridiculous recipe which sound disgusting and really just out of touchbr after the last two year it more of a flipthrough than a readthrough magazine must be tough in the st century but i wish this one felt heartier at least then it would make the ad more justifiable',\n",
              " 'got this subscription for my son he absolutely love it and is learning a well',\n",
              " 'i got the subscription for my son many year ago he loved to read all about the subject presented recently i gifted a subscription to my year old niece and year old nephew i am pleased to say that the content is still amazing after plus year both child engage in the subject and of course photo highly recommend',\n",
              " 'i cant give a true review since i havent read them but the picture are great and my husband wa truly thrilled to receive the subscription',\n",
              " 'good magazine with a nice variety of subject i like it because it doesnt seem to have quite a many ad a the big name magazine',\n",
              " 'okay',\n",
              " 'okay',\n",
              " 'okay',\n",
              " 'okay',\n",
              " 'okay',\n",
              " 'mostly ad',\n",
              " 'i bought this for my husband for father day he love this magazine he is a ammo reloader and he say that this magazine is for anyone that reloads he would recommend it',\n",
              " 'always a good magazine',\n",
              " 'good article and recipe',\n",
              " 'gifted these to one of my grandson and one of my nephew that are the appropriate age to read them they both enjoy them quite a bit such a nice way to gift something for one of your family or friend that live a distance and i must say that any kid i know ha always loved receiving something in the mail great content my nephew is six and my grandson is eight',\n",
              " 'i subscribe for my classroom and both the student and myself enjoy looking and reading through the magazine',\n",
              " 'love this magazine',\n",
              " 'apparently we cant even escape politics in something straight forward a a finance magazine i started receiving these in place of money magazine that just recently quit printing monthly magazinesbr br if youre a democrat or a far left nut case youll love the magazine if you actually believe in something besides socialism and communism you might find the constant bashing of the right and praise of the left to be a little much look forward to this magazine going out of business learntocode',\n",
              " 'i purchased this magazine for my wife and our anniversaryit wa like hitting bingogreat gift for your wife',\n",
              " 'not a lot of useful articlesa whole lot of ad',\n",
              " 'i have the same problem a the other customer never received my magazine even after calling them twice stay out of this seller',\n",
              " 'missed st issue but nd wa right on time',\n",
              " 'will get again',\n",
              " 'favorite magazine',\n",
              " 'favorite magazine',\n",
              " 'i adore this magazine beautiful photo and home when i get it i make a cup of tea and enjoy',\n",
              " 'good',\n",
              " 'great for newbees and experienced keeper',\n",
              " 'i record everything i watch and am able to do a good job of it with the schedule and article',\n",
              " 'i wa going to have to stop subscribing to magazine i loved until i found your pricesa very interesting and informative magazine',\n",
              " 'black friday deal worth every',\n",
              " 'perfect magazine to learn way in which to clean up your eating habit well written recipe with healthy ingredient',\n",
              " 'you are what you eat pay attention this is a great magazine get started on cleaning up your diet',\n",
              " 'every issue i learn something new and ive been doing woodwork for many year',\n",
              " 'still a good magazine informative uplifting',\n",
              " 'excellent and exciting article',\n",
              " 'yes after several order i am finally receiving my weekly entertainment which i love',\n",
              " 'love this magazine and the ease of management of my subscription through amazon',\n",
              " 'not what i expected at all it wa much better i wa expecting some boring guy thing that would only be of interest to my husband it is full of wonderful idea howtos and review the latest and greatest product for diyers for example i learned a lot about selecting the right garage door the correct way to install it and some of the latest improvement in garage door who knew this magazine is not just for men these are definitely keeper now if i just had the time to do all of these project',\n",
              " 'if you have ever watched their show on tv this magazine is like a paper version large heavyweight paper page make this a magazine worth saving great recipe with excellent direction and product review that are very helpful first issue came in about week and a second followed a week later to get me up to date i will definitely be renewing my subscription for this magazine',\n",
              " 'i dont know what the issue is but i am not getting the issue i emailed but did not hear back from anyone i am on the verge of cancelling',\n",
              " 'just received this what a wonderful magazine great recipe',\n",
              " 'bought for my daughter she love it',\n",
              " 'love this magazine i also order a gift for people',\n",
              " 'love this magazine',\n",
              " 'im enjoying this magazine a lot more than others ive subscribed to for year',\n",
              " 'great magazine weve been a subscriber for year',\n",
              " 'i purchased this magazine for my year old horse crazy granddaughter she doesnt read book but she read this cover to cover',\n",
              " 'it is a fun magazine to glance through a you wait for your oil to get changed in these tough economic time i am so glad we have a magazine that will bodly test and rate the dozen of expensive premium tequillas that are out there honestly i had no idea that there were so many different type of really expensive tequilla this is not the forum for thoughtful commentary or intelligent discourse on vital issue of the day but the movie review were kind of funny after reading it i actually felt stupider and older i will enjoy the year but let the subscription lapse',\n",
              " 'being new to the apple experience i thought this might be helpful it is not i am not the most computer savvy person but i do use a window based pc with the standard office apps every day this magazine assumes a higher level of mac awareness then i posse i wa hoping for more of an introduction to using the different mac apps i will not renew this',\n",
              " 'great tv and movie guide',\n",
              " 'been around forever the best',\n",
              " 'definitely recommend it to tea lover and anyone who enjoys entertaining recipe tablescapes and tea room in various area are reviewed and recommended a beautiful magazine to enjoy over and over again',\n",
              " 'love it great article recipe etc eagerly await each new issue and reread in between a wonderful celebration of all thing southern',\n",
              " 'joke present',\n",
              " 'still a great magazine',\n",
              " 'my son just bought a house love watching this old house this wa the perfect gift for a new home owner',\n",
              " 'love this magazine',\n",
              " 'gave this subscription a a gift and the recipient love it',\n",
              " 'amazon made it very easy to subscribe to this magazine perfect',\n",
              " 'you get to read just enough news about the upcoming program due to be on tv and get to see a program of most of the show to be on tv the only magazine that i purchase in print form',\n",
              " 'superstition is a plague science hold the key to life not psychic or jesus or the virgin mary appearing on a tortilla',\n",
              " 'i never miss an issue this magazine is a must for any informed household',\n",
              " 'good content for numismatics',\n",
              " 'not what i thought it would be',\n",
              " 'a weekly must read get the print subscription to give your eye a break from the screen and you can flip through the cartoon cut them out and save the best and the cover are the best',\n",
              " 'intelligent straight poop this is how to know whats going on with politics the art and culture in general plus you get cartoon',\n",
              " 'great magazine star',\n",
              " 'this magazine is getting more and more simple with more and more advertising id say of the page are advertising if not morebr br i especially dislike their new article which highlight a person or company while filling the text and image with product placement complete with info on what each person is wearingbr br what gall me the most is their automatic renewal policy i used to always have to accept a renewal but now they automatically renew you and if you dont pay they threaten collection whats worse is they try and renew you at when they freely advertise or offer on their website open to everyone not just new subscribersbr br tool and car review are also getting very simplified ill most likely cancel when my subscription run out',\n",
              " 'bought this a a gift subscription for my dad he love it plus he get a gift every month over and over great gift',\n",
              " 'i like to toss these little gem in my purse to read while waiting for life to happen these remind me of fast food for the eye quick story read interesting but not too serious sweet story and trivia',\n",
              " 'very good',\n",
              " 'my son love it',\n",
              " 'we like doing stuff around the house save money and give you a feeling of accomplishment some time we are even better than the pro cause we take more time and are more careful this magazine give a lot of good advise i would like to see it go in depth more however',\n",
              " 'this mag ha inspiring and informative article for anyone trying to live healthier not necessarily for runner only but is beneficial regardless of your activity of choice',\n",
              " 'exactly a expected',\n",
              " 'i became familiar with this magazine while we were in south africa it really raised my cooking game the recipe are so much more intricate and more varied than in the u food magazinesbr br there been a little bit of a dip i think since a new editor started somehow her quest to freshen it up took some of the depth away from it but i still think it the best cookingfood magazine published my second vote surprisingly is taste magazine published by woolworth which in south africa is a gourmet supermarket and classy department store both magazine really get your imagination going and inspire you to cook thing that really are over the top without being ridiculously difficult given my work schedule if i cant make it in minute im not interestedbr br yes the subscription is ridiculously expensive it something i consider an extravagance but given how much of a positive effect it ha had on our daily meal and the fact that my husband doesnt even want to go to restaurant anymore because your cooking is so much better i figure were coming out ahead economically you can easily spend the same amount for a nice dinner these day and for the subscription cost of this magazine i get many many more good meal out of it in a given year i read it slowly one page at a time while eating always a pleasurebr br if you just cant bring yourself to spend this much for the printed magazine at least visit their website deliciouscouk for some inspiration',\n",
              " 'good price too',\n",
              " 'good price blaze',\n",
              " 'like this magazine we have a old house and i love new thing to build or renovate',\n",
              " 'i bought one prevention magazine at the grocery store and loved the info that it contained so i ordered a subscription it said that it would take week to arrive so i bought the next month magazine at the grocery store the subscription arrived the same week the second magazine did not hit home with me a much a the first month but that is to be expected im looking forward to next month it material is not life changing for me but it give me idea on how to tweak my diet and exerciselifstyle i enjoy the magazine i would order it again',\n",
              " 'great',\n",
              " 'enjoying reading',\n",
              " 'great reading',\n",
              " 'great',\n",
              " 'great',\n",
              " 'great',\n",
              " 'always loved this magazine',\n",
              " 'received my st issue love it',\n",
              " 'it an ok magazine it wa a good price when i purchased it it doe take a long time for the st magazine to arrive',\n",
              " 'it okay ha a lot of different article wish it came out more than six time a year',\n",
              " 'doe not include digital access this print only subscription for this great magazine is not recommended',\n",
              " 'great subscription price on amazon and that is why i bought it im very happy with this purchase and i received magazine in timely manner i do recommend buying this subscription from amazon',\n",
              " 'i tried this a it wa on special and i enjoy the article it a fun magazine especially if you like hgtv',\n",
              " 'ordered this magazine along with fitness from this seller great priceand both magazine are perfect together i will purchase this one for friend in the future because it is full of great tip and yummy recipe',\n",
              " 'good magazine',\n",
              " 'i read it cover to cover a i really enjoy reading about the tv show and movie that is why my subscription is always renewed',\n",
              " 'i recently bought a house and this magazine ha helped me a lot',\n",
              " 'i paid for a yearonly received month my nine year old daughter love taking this to church the magazine follows mass correctly and make it easier for her to stay focused too bad it not working out for u',\n",
              " 'easy reading with helpful hint',\n",
              " 'very handy to have the digital edition a we have a second home and dont always remember to take the print edition with u',\n",
              " 'great magazine fantastic resource for parent of kid with or who have adhd themselves',\n",
              " 'purchased a a gift they are really happy with it',\n",
              " 'like magazine',\n",
              " 'love the large lettering',\n",
              " 'ok',\n",
              " 'too many add got the email about the subscription renewing stopped renewal process about week before due date got alert about charge on my card for renewal called amazon customer service after about minute on the phone wa assured the credit on my card would show up in about day when credit card bill showed up week later there wa no credit for the subscription filed dispute with credit card have had robot email telling me i have to provide a valid card for renewal and after answering twice stating i did not want to renew got notified the info i provided would be forwarded to credit card company talk about a waste of time with a company that doesnt care about customer service buyer beware',\n",
              " 'i love knife very good read',\n",
              " 'i want to like this magazine i really do i consider myself an outdoorsy type i frequently run trail ultramarathons and i work in a job that provides me with ample opportunity to spend hour deep in the wood or on the water but this magazine just seems to be grasping for what it want to be not to mention the fact that it just come off a having such a bias toward the rockies and west coast i cant tell you how many page of skiingrelated material i just had to pas over in every issue i perhaps read great article the whole time i had a subscription to this mag when i went to renew and saw the priceforget it it like detail for guy in the mountain',\n",
              " 'european car is a magazine full of eye candy lot of german and italian uberexotics grace it page while thats great and it enjoyable to read about such car ec ha lost many subscriber due to it loss of focus on the more attainable european car out there the page used to be full of vw bmw audi and porsche project car that were all within reach of your average joe with a taste for something other than the basic camaro or mustang many used euro car are very cheap and easy to get into for those that would otherwise not be able to buy a new car of the same make id hoped that the focus on these car would become more intense when le bidrawn took over a editor a few year back unfortunately it appeared to me that thats when thing really seemed to go downhill i let my subscription lapse and cant see picking it back up unless the mag undergoes a major transformation so if youre into top dollar unattainable by all but the very few exotic european car this is your mag but if you are someone who just like your basic european offering and is looking for support and inspiration you stand a good chance of being disappointed',\n",
              " 'added to my long standing research project on china military power japan ha the knowhow to create a nuclear weapon industry and delivery vehicle in record time inevitably japan best solution to china agression is having it own substantial nuclear deterrent so who next japan for sure',\n",
              " 'interesting article written in everyday french very suitable for those who speak french a a second language',\n",
              " 'got this for my yo son for christmas and he look forward to getting his magazine in the mail every month he cant really do a lot of the activity in it by himself but we sit down and read it and do the activity together he especially like the ricky story every month he keep coming back and looking at them over and over again a we keep them on the bookshelf with his regular book planning on keeping this subscription for a long time',\n",
              " 'great mag for tweenteens interested in horse we have gifted a subscription to this more than once',\n",
              " 'i have had a bazaar subscription for almost five year and i am really disappointed in the magazine now i used to read vogue instead but stopped because it wa all ad and maybe or real article and now bazaar is the same way i cancelled my subscription a few month ago but i am still getting issue since it hasnt run out yet i still flickr through it since i am getting the magazine in the most recent issue i had to flip through literally a half inch of ad before i finally came to a full page of text every single page wa an ad except for the table of content and the editor letter i looked through the whole magazine and hardly any article were more than a page long the fashion article were barely more than picture with caption i feel i deserve more for my moneybr br about a year or so ago they revamped the whole magazine changing layout and stuff i thought that the most dramatic change wa going to be the ridiculous circle of text a time go on i have realized that they are putting more and more ad in the magazine a wellbr br i know ad are how the magazine make it money i get that id be fine if they were still putting out good article with the ad or at least spacing them out evenly between the ad but the ad are now taking the place of the article what do the writer do all day they sure a heck arent creating content for the magazine bazaar ha blogger and an instagram and a twitter and so on and so forth why even read the magazine you can go look on their websitebr br this magazine is a waste of money id rather read a fashion blog to find out whats in style since i know ill get to actually read something not just look at a picture book for an hour',\n",
              " 'ive enjoyed reader digest for over six decade and it get thinner and thinner and many more ad the content is good timeless just wish there wa more of it',\n",
              " 'favorite publication this issue wa different and interesting',\n",
              " 'daughter read every month good resource for understandinglearning about the ballet world wish they would provide a u news and world report college edition type of review for summer and fullyear program but there are usually quite a few informative article in every edition',\n",
              " 'i subscribed to reader digest for a decade while living in australia so it wa only natural to start up a subscription now i live in the u i didnt think there would be any real difference in the magazinebr br overall i am happy with this periodical it still contains great story feature article good picture and graphic and the same standard regular contribution such a the humor section laughter the best medicine all of which i enjoy very muchbr br unfortunately there are two area i am disappointed with about this magazine the first is the number of ad not only are there ad sprinkled liberally throughout the digest but it also come with several loose ad stuck in between the page or included in the wrapping i find this distracting and annoyingbr the other thing that i have noticed thats different is the quality of the paper used in these reader digest magazine the paper seems a lot le durable and ha a recycled feel to it if that mean more tree are saved and the paper is more ecofriendly then i will support it but if it is just cost cutting then i am a bit disappointed in the qualitybr br on a positive note the digest is also available in digital form which i find convenient although i do like to curl up with the magazine in hand and have some quiet time away from the computer to just read br br all up i do enjoy the content of the reader digest and i am glad i have a subscription to it so i am ensured of a regular good read',\n",
              " 'great magazine',\n",
              " 'great mag',\n",
              " 'too expensive for my taste',\n",
              " 'nice mag',\n",
              " 'too many ad will not purchase again',\n",
              " 'great magazine for the price',\n",
              " 'different idea',\n",
              " 'great magazine idea for everything',\n",
              " 'love this',\n",
              " 'i have read and loved this magazine for many year it is always full of beautiful picture and idea that i can use and share',\n",
              " 'i live in az and it doe not fit our time zone nor doe it carry our local channel i probably will not renew',\n",
              " 'ordered this for my husband he loved it',\n",
              " 'great magazine',\n",
              " 'the best',\n",
              " 'i have always subscribed and i probably always will it the best',\n",
              " 'i have great confidence in their review and they have led me to artist i might never had found otherwise',\n",
              " 'i love that i learn new thing and get another slant on the thing i already know the back of the book is always eye opening and it nice to have a new andreliable opinion on what you should not miss',\n",
              " 'i love this magazine i am going to purchase another year subscription for my sonbr i just wish my husband would read it',\n",
              " 'wa on sale for five dollar for a year',\n",
              " 'architectural digest ha always been impressive so this current subscription ha been a let down',\n",
              " 'i had to call because i wa not receiving my issue and customer service offered no assistance they were extremely rude and unwilling to help me the or cute pattern per issue is not worth the hassle i would not recommend this magazine to anyone',\n",
              " 'ive been subscribed to writer digest for almost three year it ha a good amount of advice for beginner and pro writer alike ranging from first time author interview how to create character with emotion nonfiction and fiction advice writing contest and so on unfortunately within the three year ive been receiving it there ha been a lot of repeat articlesadvice with just different wording a the title say they just recently changed some of their format providing better content and so far no repeat one of there newest contest is viewing a photo they added and writing an opening line for a novel the creativity is endless',\n",
              " 'love this magazine very inexpensive ha good informative article there are a bunch of ad but for the subscription price thats expected',\n",
              " 'i ordered from a discount service and the magazine never came they were cheaper and had worked two year before but not in i ordered through amazon and it started in under week',\n",
              " 'im enjoying this magazine alot i had subscribed year ago and glad i picked it back up very detailed in location hot spot up on whats in and out this for those who are traveller and those who aspire to travel',\n",
              " 'i subscribed to this tv guide because our local paper stopped printing a tv guide to go with our paper i thought this would replace the local tv guide wrong it is like a little celebrity whatsgoingon magazine when you thumb through all the celebrity stuff there is a tv guide of sort but all the local channel indicate local programming well if i didnt know that without this tv guidebr total waste of money wish i could get a refund will not subscribe to this for a second year for sure',\n",
              " 'i love the photo quality in this magazine',\n",
              " 'allure is the only fashionbeauty magazine i get it ha satisfied my need to stay current and in style for year',\n",
              " 'i love this magazine my daughter and i share recipe that we have tried and discus the outcome of each one i look forward to the item booklet in each issue that highlight a specific food and the possible recipe that can be whipped up from each tried and true suggestion this is a great sharing tool for family that are far apart if they like to cook also the handy organizer for recipe at the front of each issue make it easy to find a recipe in any categorybr update subscriber since i am ready to cancel both subscription i have had to call every month to get my magazine i have been told instead of the magazine i wa owed that my subscription would be continued for another month etc the address somehow got changed to having both subscription sent to atlanta how this happened i dont know because nothing changed since and both subscription were renewed every year automatically anyway dont waste your money the hassle is not worth the stress caused by having to be constantly vigilant about an errorthat amazon and hearst seem to not be able to consistently fix',\n",
              " 'only received one magazine for the whole year and a headache to unsubscribe',\n",
              " 'magazine wa ok',\n",
              " 'i love my digital magazine it is great thanks',\n",
              " 'love this magazine',\n",
              " 'great magazine i so enjoy remembering and learning about day gone by it got a lot of content too more than other nostalgic magazine i subscribed too arrived sooner than expected too',\n",
              " 'always love this book st thing i read every morning and get my day started due to my recent situation i cant get to daily mass like i did in the past but at least i can read along id be lost without it',\n",
              " 'best price anywhere now i have no guilt extending my subscription',\n",
              " 'i subscribe to this magazine for my mother who is a wwii war bride she love to be able to read about her home country and this magazine encompasses many different article that she enjoys reading it passed on to me i wa born in england and i really love to read the article and enjoy looking at the beautiful picture',\n",
              " 'in the era of nexuskindleipad im down to one print magazine subscription bbc history magazine it a beautiful magazine that i read covertocover a soon a it arrives in the mail it kind of expensive but well worth it for the amateur historian looking to get exposure to lot of history topicsbr br one thing to make clear up front is that it is very englishfocused not britishfocused or europefocused or worldfocused im quite interested in english history so that work very well for me but if youre not really into english history despite the mag effort to cover a broad range of world topic it probably not going to be of great interestbr br the other criticism i have is that it a bit fluffy even the feature article are very short nothing is ever covered in sufficient depth for a true history enthusiast a recent article on woman in anglosaxon time barely scratched the surface of the topic and defaulted to inane politicallycorrect theme instead of really digging in to that fascinating subject the mag coverage of the richard iii skeleton discovery and it implication wa brief and feeble on the other hand the brief article do at least pique your interest and give you thing to go read more about and research on the web and maybe lack of depth is an unfair criticism of a monthly magazine it is after all not a quarterly academic journal the writing is good and there are lot of cool picture and graphic to keep thing interestingbr br despite those criticism a noted above it actually the only magazine to which i subscribe and each month i wait for it to get here so i can dig in ill give it the five star although i wish they would have one or two major article each month that got double or triple the wordcount currently given to the feature story',\n",
              " 'i thought there would be more article about woodworking project hence the star but my wife who is the craftr of the family really enjoyed it so not a total loss',\n",
              " 'i wa disappointed one in the magazine two i tried to cancel order later same day and wa told it wa to late',\n",
              " 'good',\n",
              " 'fair value',\n",
              " 'ive always loved this magazine a it fit my style preference the photograph are lavish and well photographed any desired item are listed clearly with the name and contact information of the company',\n",
              " 'got three magazine then charged for a renewal of so end up costing dollar a copy and is mostly advertisement very dissapointed',\n",
              " 'everyone love yankee magazine there something in it for everyone',\n",
              " 'time is always informative about politics music book movie people you name it in a concise magazine i get the world at my doorstep',\n",
              " 'i ordered this for my granddaughter and overall she say she like it whenever it up for renewal she say she still read it so im happy to provide her with appropriate reading material even when she doesnt like an article we have good discussion about why so i think it a hit',\n",
              " 'great book',\n",
              " 'i purchased these for my year old son i wa super excited for these to arrive a i got highlight a a child and absolutely loved itbr i recognized the hidden picture where the child submitted their work right awaybr however my son didnt enjoy it like i did but then child have a lot more choice when it come to entertainment these day',\n",
              " 'i got just issue out of i contacted the seller who directed me to a middle vendor who never replied back money down the drain',\n",
              " 'it wa a gift they liked it',\n",
              " 'good price',\n",
              " 'great resource for little kid to read with family',\n",
              " 'beautiful very colorful picture the article are good for anyone who enjoys growing flower and watching the bird out in the back yard',\n",
              " 'only three issue in month',\n",
              " 'i love this magazine the article are interesting for an inexperienced family handyman like me and ha a lot of good energy saver idea then it always ha howtoplans to build thing that my experienced handyman husband can easily do',\n",
              " 'great inside information on tv show or seriesbr tell you what is a repeat or new nothing better my food store is always sold out so now i subscribe',\n",
              " 'this is a good magazine and ha so many idea for such a wide range i enjoy getting it and almost always use something out of it either a cooking idea or a craft project or',\n",
              " 'ha easy to implement idea and great tip and trick a well a review on the latest and greatest tool available',\n",
              " 'love it i read the article the recipe everything definitely suggests delicious meal at home cook can complete',\n",
              " 'great magazine for that old house enthusiast it is so hard to find good idea but this magazine ha it',\n",
              " 'love this magazine ha great idea that are not too hard to make',\n",
              " 'perfect for you man lot of info and thing to ponder about',\n",
              " 'love love this magazine so many thing that i cant wait to try br update i just received my st magazine and wa so happy that it came so fast i didnt think it would come till february and this just make my winter reading so much betterbr i could have read this in our local library but once you do you will want to have it for keep so you can go back and look up thingsbr i got this along with family handyman both these together will help you keep your small farm up to tip top shape',\n",
              " 'nice to get every month',\n",
              " 'i have had a subscription but i cancelled it because i have toobr many mag coming however i found and old on so i decidedbr to subscribe again but this is a gift for my nephew who lovesbr to cook im sure he will love it',\n",
              " 'got a year subscription for great price my mom really enjoys looking at them',\n",
              " 'a favorite magazine in our household always full of interesting article i love it it wa a great gift',\n",
              " 'even though i dont live on the coast we visit north padre island fairly often and we lived near corpus for many year i will probably renew this one',\n",
              " 'reading the nest travel msgazine again after a long pause i wished the printing wa larger older now eye ate not a good',\n",
              " 'love the price on this magazine',\n",
              " 'a great way to keep up with the culture',\n",
              " 'wonderful magazinebr the picture are so beautiful and the article informative',\n",
              " 'although the target audience is stated to be year old my seven year old is completely fascinated with this magazine she ha thanked me countless time for the subscription and look forward to each month with anticipation not only are the story lively and entertaining they are educational a well there is a good mix of fiction and non fiction story a well a poetry since receiving this magazine i have noticed her excelling more at reading comprehension and her own story writing skill these reason are why i believe it is well worth the money and i wll be renewing our subscription for a very long time',\n",
              " 'great subscription deal through amazon i really enjoy reading the article about the athlete and their team',\n",
              " 'my yearold son love the game and puzzle in this magazine he is able to read portion himself and look forward to the regular feature it is a huge bonus that it arrives like a mysterious gift in the physical mail box',\n",
              " 'good magazine',\n",
              " 'ok but too what if and science fiction compared to popular mechanic which we also enjoy',\n",
              " 'great price for renewal of a magazine i have enjoyed over many year lot of useable information monthly about apple product',\n",
              " 'we enjoy this magazine interesting and informative article',\n",
              " 'my favorite magazine',\n",
              " 'six year old christmas present he love it love getting mail for him',\n",
              " 'good magazine still can not lower my handicap maybe it not the magazine',\n",
              " 'love this magazineit is full on good advice for a small budgetcolorful and simply writtenprojects simply made for everybody can do',\n",
              " 'we love the magazine but be careful and make sure to cancel your subscription',\n",
              " 'kid love it would buy again be careful that youll end up with a subscription and cancel on time',\n",
              " 'love the highlighyts magazine',\n",
              " 'i have always enjoyed this',\n",
              " 'i enjoyed the magazine',\n",
              " 'i purchased this subscription a a gift for my sister who ha everything she ha been delighted she describes it a a high quality magazine with interresting and inspirational article',\n",
              " 'hand down my favorite magazine',\n",
              " 'i bought this for a friend birthday you cant go wrong with a magazine subscription especially when you are stuck for an idea',\n",
              " 'im giving this five star for the quality of the magazine although it took me a while to accept paying for a subscription the content is geared perfectly for my year old daughter she get excited every time a new issue arrives and read it cover to cover within a couple of day each issue follows a standard recipe of reading puzzle and activity they even have a spanglish story each month that introduces a few key word in spanish after my older daughter is done it get handed down to the two year old im not sure if she only like it because shes copying her sister but she seems to enjoy all of the picture and love writing all over it there are not a bunch of annoying ad although they did call me twice to try to upsell me some puzzle magazine br br although the internet ha made me think that all content can be free my childrens education is one area in which im willing to pay up',\n",
              " 'great christmas present for my teenage niece',\n",
              " 'grandson who is sport nut barely look at',\n",
              " 'i have cancelled most of my magazine subscription but i kept coastal living this is an adult picture book the internet not a good for me and even though i get most of my recipe from the internet because review and reviewer suggested improvement are available i like the recipe idea suggested and appropriate for casual beach life',\n",
              " 'this magazine provides useful information for mac user sure you can get lot of information on the web but first you have to know you want it and then decide whether to trust the information you get maclife is good adjunct to the internetbr br fyi i do not consider myself a power user but i do use my ilife and iwork application every day',\n",
              " 'got this two year in a row for my si in law she is obsessed with cooking and her so it is always a hit and for buck how can you go wrong',\n",
              " 'this magazine is not written for a homesteader gardener or farmer it written for people with more money than sense who feel like they could do any of the above mostly im distressed by the complete lack of knowledge on the part of their writer im hoping it that the only other reason youd deliberately spread false information would be pretty maliciousbr br overall a pas if youre looking for anything other than entertainment their review always heavily favor their higher end advertiser the actual article are pretty hit or miss when it come to actual information and their inability to figure out how to use a scale make most of their recipe a crapshootbr br wouldnt buy and id wish people wouldnt assume it a great magazine for those involved in homesteadinggardeningetc',\n",
              " 'im a long time subscriber and look forward to each new issue',\n",
              " 'wife love it',\n",
              " 'my wife love it',\n",
              " 'filled with advertising',\n",
              " 'this magazine is my notsoguilty pleasure ive been a long long time subscriber and cant imagine not reading it weekly',\n",
              " 'my husband and i look forward to this little magazine every month and read it cover to cover',\n",
              " 'ive been writing code for year professionally a a full stack software engineer ive had associate senior and lead title when i saw a coding magazine i wa beside myself with curiosity and excitement two month later my first issue ha arrived let u dig inbr br the cover of the magazine is very inviting lot of popular framework language and technology are listed in the banner and footer good colorsbr br when we open the magazine the first page is a full page advertisement i skip through and count roughly more there are only page in the magazine additional advertising is sprinkled throughout the remaining page there is even a column on who to reach about ad purchasingbr br back on topic the page quality is very good my hat is off to whoever chose the paper fantastic qualitybr br first content page is an editorial biography next were getting into the actual article im familiar with about of the content already and have at least heard of the remainderbr br the minibios of the engineer who wrote the article lead me to think im about to be taught by a master i dont recognize their name but their work in pluralsight oreily aws microsoft etc give me great expectationsbr br and that is where this review go south each article is just way too elementary some are basically modified version of getting started tutorial from website albeit some of the tip are indeed great for newbie i just didnt grasp that wa the target audiencebr br would i buy it again no would i suggest it to those with little experience maybe but probably not the magazine just feel like a company trying to advertise their service',\n",
              " 'page almost of it is full page advertisementsbr br after a few month my first magazine came with a letter requesting no thanksbr br there wa actually five decent page in this magazine so ill give two star',\n",
              " 'easier than going to the store and cheaper to',\n",
              " 'one of the best dirt bike magz for a long time sent this to my nephew so he can start learning the good stuff',\n",
              " 'love the reader digest it hasnt changed in year good quality magazine',\n",
              " 'one of my favorite a must have in any shooter bathroom collectionbr br the service great and the process simplebr a',\n",
              " 'great value magazine arrives promptly and is used in my office waiting room a great magazine for woman of any age',\n",
              " 'i love the content of this s magazine',\n",
              " 'ok like most magazine there always seems to be a lot of ad',\n",
              " 'when pop mech decided to go to the digital edition i wa glad you pay for it when you buy the mag subscription why glad because people like to steal the magazine from the usps so for month i might not get it so i went to the digital edition and guess what the article in the printed magazine arent even accessible the digital edition is not the same all the article are different great article but not what i signed on for popular mechanic go the first mile and put what i paid for online',\n",
              " 'pacific standard provides a number of short abstract type article a well a a few indepth article about fascinating stuff i can usually read it in under an hour and always feel like ive heard about new and intriguing idea and concept i will not read about in the new yorker',\n",
              " 'waiting on subscription to start deliver to peter g johnson in the address providedbr br thanksken marcusbr kenmarcusgmailcom',\n",
              " 'great magazine remember to turn off auto renew every month is all you should pay',\n",
              " 'something i enjoy reading good recipe etc',\n",
              " ...]"
            ]
          },
          "execution_count": 22,
          "metadata": {},
          "output_type": "execute_result"
        }
      ],
      "source": [
        "X_transformed"
      ]
    },
    {
      "cell_type": "markdown",
      "metadata": {
        "id": "eJHDZECocQCw"
      },
      "source": [
        "## Obtaining GloVe vectors"
      ]
    },
    {
      "cell_type": "code",
      "execution_count": null,
      "metadata": {
        "id": "2tduYzc18_At"
      },
      "outputs": [],
      "source": [
        "x_transformed = dataset_to_glove(X_transformed, embeddings_index, embedding_dim=100)"
      ]
    },
    {
      "cell_type": "markdown",
      "metadata": {
        "id": "wgs8iX0ccaCE"
      },
      "source": [
        "## Resampling"
      ]
    },
    {
      "cell_type": "code",
      "execution_count": null,
      "metadata": {
        "id": "-xez1ImI9aIr"
      },
      "outputs": [],
      "source": [
        "X, y = resampler(x_transformed, megazine_data['sentiment'])"
      ]
    },
    {
      "cell_type": "markdown",
      "metadata": {
        "id": "E5-xYnWDcpEk"
      },
      "source": [
        "## Number of ratings per sentiment after resampling"
      ]
    },
    {
      "cell_type": "code",
      "execution_count": null,
      "metadata": {
        "colab": {
          "base_uri": "https://localhost:8080/",
          "height": 210
        },
        "id": "DYWMfeZDS-Sa",
        "outputId": "97033f7d-8958-48e7-f4b2-a18ed6b11400"
      },
      "outputs": [
        {
          "data": {
            "text/html": [
              "<div>\n",
              "<style scoped>\n",
              "    .dataframe tbody tr th:only-of-type {\n",
              "        vertical-align: middle;\n",
              "    }\n",
              "\n",
              "    .dataframe tbody tr th {\n",
              "        vertical-align: top;\n",
              "    }\n",
              "\n",
              "    .dataframe thead th {\n",
              "        text-align: right;\n",
              "    }\n",
              "</style>\n",
              "<table border=\"1\" class=\"dataframe\">\n",
              "  <thead>\n",
              "    <tr style=\"text-align: right;\">\n",
              "      <th></th>\n",
              "      <th>count</th>\n",
              "    </tr>\n",
              "    <tr>\n",
              "      <th>sentiment</th>\n",
              "      <th></th>\n",
              "    </tr>\n",
              "  </thead>\n",
              "  <tbody>\n",
              "    <tr>\n",
              "      <th>2</th>\n",
              "      <td>52826</td>\n",
              "    </tr>\n",
              "    <tr>\n",
              "      <th>0</th>\n",
              "      <td>52826</td>\n",
              "    </tr>\n",
              "    <tr>\n",
              "      <th>1</th>\n",
              "      <td>52826</td>\n",
              "    </tr>\n",
              "  </tbody>\n",
              "</table>\n",
              "</div><br><label><b>dtype:</b> int64</label>"
            ],
            "text/plain": [
              "sentiment\n",
              "2    52826\n",
              "0    52826\n",
              "1    52826\n",
              "Name: count, dtype: int64"
            ]
          },
          "execution_count": 25,
          "metadata": {},
          "output_type": "execute_result"
        }
      ],
      "source": [
        "y.value_counts()"
      ]
    },
    {
      "cell_type": "markdown",
      "metadata": {
        "id": "11bOVDODchvy"
      },
      "source": [
        "## Splitting"
      ]
    },
    {
      "cell_type": "code",
      "execution_count": null,
      "metadata": {
        "id": "MgAFUmakdy3g"
      },
      "outputs": [],
      "source": [
        "X_train, X_test, y_train, y_test = splitter(X, y)"
      ]
    },
    {
      "cell_type": "markdown",
      "metadata": {
        "id": "kYxbs1Cyc__Z"
      },
      "source": [
        "## Class distribution of training and testing sets"
      ]
    },
    {
      "cell_type": "code",
      "execution_count": null,
      "metadata": {
        "colab": {
          "base_uri": "https://localhost:8080/",
          "height": 210
        },
        "id": "YQfflxUjTCWy",
        "outputId": "1241e478-4bff-4fef-da28-363f04be6a10"
      },
      "outputs": [
        {
          "data": {
            "text/html": [
              "<div>\n",
              "<style scoped>\n",
              "    .dataframe tbody tr th:only-of-type {\n",
              "        vertical-align: middle;\n",
              "    }\n",
              "\n",
              "    .dataframe tbody tr th {\n",
              "        vertical-align: top;\n",
              "    }\n",
              "\n",
              "    .dataframe thead th {\n",
              "        text-align: right;\n",
              "    }\n",
              "</style>\n",
              "<table border=\"1\" class=\"dataframe\">\n",
              "  <thead>\n",
              "    <tr style=\"text-align: right;\">\n",
              "      <th></th>\n",
              "      <th>count</th>\n",
              "    </tr>\n",
              "    <tr>\n",
              "      <th>sentiment</th>\n",
              "      <th></th>\n",
              "    </tr>\n",
              "  </thead>\n",
              "  <tbody>\n",
              "    <tr>\n",
              "      <th>2</th>\n",
              "      <td>42412</td>\n",
              "    </tr>\n",
              "    <tr>\n",
              "      <th>0</th>\n",
              "      <td>42199</td>\n",
              "    </tr>\n",
              "    <tr>\n",
              "      <th>1</th>\n",
              "      <td>42171</td>\n",
              "    </tr>\n",
              "  </tbody>\n",
              "</table>\n",
              "</div><br><label><b>dtype:</b> int64</label>"
            ],
            "text/plain": [
              "sentiment\n",
              "2    42412\n",
              "0    42199\n",
              "1    42171\n",
              "Name: count, dtype: int64"
            ]
          },
          "execution_count": 27,
          "metadata": {},
          "output_type": "execute_result"
        }
      ],
      "source": [
        "y_train.value_counts()"
      ]
    },
    {
      "cell_type": "code",
      "execution_count": null,
      "metadata": {
        "colab": {
          "base_uri": "https://localhost:8080/",
          "height": 210
        },
        "id": "CwMv3Cg2TJxo",
        "outputId": "63c41bc4-1768-418a-a81b-333b3c851b1e"
      },
      "outputs": [
        {
          "data": {
            "text/html": [
              "<div>\n",
              "<style scoped>\n",
              "    .dataframe tbody tr th:only-of-type {\n",
              "        vertical-align: middle;\n",
              "    }\n",
              "\n",
              "    .dataframe tbody tr th {\n",
              "        vertical-align: top;\n",
              "    }\n",
              "\n",
              "    .dataframe thead th {\n",
              "        text-align: right;\n",
              "    }\n",
              "</style>\n",
              "<table border=\"1\" class=\"dataframe\">\n",
              "  <thead>\n",
              "    <tr style=\"text-align: right;\">\n",
              "      <th></th>\n",
              "      <th>count</th>\n",
              "    </tr>\n",
              "    <tr>\n",
              "      <th>sentiment</th>\n",
              "      <th></th>\n",
              "    </tr>\n",
              "  </thead>\n",
              "  <tbody>\n",
              "    <tr>\n",
              "      <th>1</th>\n",
              "      <td>10655</td>\n",
              "    </tr>\n",
              "    <tr>\n",
              "      <th>0</th>\n",
              "      <td>10627</td>\n",
              "    </tr>\n",
              "    <tr>\n",
              "      <th>2</th>\n",
              "      <td>10414</td>\n",
              "    </tr>\n",
              "  </tbody>\n",
              "</table>\n",
              "</div><br><label><b>dtype:</b> int64</label>"
            ],
            "text/plain": [
              "sentiment\n",
              "1    10655\n",
              "0    10627\n",
              "2    10414\n",
              "Name: count, dtype: int64"
            ]
          },
          "execution_count": 28,
          "metadata": {},
          "output_type": "execute_result"
        }
      ],
      "source": [
        "y_test.value_counts()"
      ]
    },
    {
      "cell_type": "markdown",
      "metadata": {
        "id": "kQVWrJundOZY"
      },
      "source": [
        "## How the vectorized data looks like"
      ]
    },
    {
      "cell_type": "code",
      "execution_count": null,
      "metadata": {
        "colab": {
          "base_uri": "https://localhost:8080/"
        },
        "id": "Id9Iu89cJRXb",
        "outputId": "5794627d-3723-4e53-a25f-ef9c85932262"
      },
      "outputs": [
        {
          "data": {
            "text/plain": [
              "array([[-0.2108864 ,  0.19374999,  0.04096401, ..., -0.26959801,\n",
              "         0.4071826 ,  0.349278  ],\n",
              "       [-0.10410296,  0.24428022,  0.20118603, ..., -0.41685912,\n",
              "         0.47113246,  0.26505703],\n",
              "       [-0.3631804 ,  0.379498  ,  0.16866438, ..., -0.67806399,\n",
              "         0.60154402,  0.547189  ],\n",
              "       ...,\n",
              "       [-0.16721624,  0.25778061,  0.38698664, ..., -0.38313615,\n",
              "         0.46400383,  0.24200121],\n",
              "       [-0.0407083 ,  0.17861749,  0.38122812, ..., -0.21474735,\n",
              "         0.69100457,  0.0252439 ],\n",
              "       [-0.12713285,  0.27180976,  0.39737773, ..., -0.32892552,\n",
              "         0.4853878 ,  0.31082478]])"
            ]
          },
          "execution_count": 29,
          "metadata": {},
          "output_type": "execute_result"
        }
      ],
      "source": [
        "X_train"
      ]
    },
    {
      "cell_type": "code",
      "execution_count": null,
      "metadata": {
        "colab": {
          "base_uri": "https://localhost:8080/"
        },
        "id": "UjNnYzkpolQ8",
        "outputId": "63c9ebb5-d858-4a74-ed11-2f17cc3529ac"
      },
      "outputs": [
        {
          "data": {
            "text/plain": [
              "array([[-0.01966619,  0.17723985,  0.2609438 , ..., -0.32061771,\n",
              "         0.53035593,  0.33431527],\n",
              "       [-0.23119561,  0.32096499,  0.34605414, ..., -0.35614824,\n",
              "         0.24429151,  0.27128485],\n",
              "       [-0.12218714,  0.25989464,  0.39080718, ..., -0.37603614,\n",
              "         0.40493613,  0.29022187],\n",
              "       ...,\n",
              "       [-0.10675456,  0.29212111,  0.35409105, ..., -0.39003459,\n",
              "         0.48491797,  0.21834882],\n",
              "       [-0.07957727,  0.22656155,  0.36646342, ..., -0.26645145,\n",
              "         0.35068777,  0.35378453],\n",
              "       [-0.24736667,  0.20211233,  0.77624995, ..., -0.20898934,\n",
              "        -0.03142   ,  0.36343002]])"
            ]
          },
          "execution_count": 32,
          "metadata": {},
          "output_type": "execute_result"
        }
      ],
      "source": [
        "X_test"
      ]
    },
    {
      "cell_type": "markdown",
      "metadata": {
        "id": "neG2KhfXdYLn"
      },
      "source": [
        "## Checking the dimensions"
      ]
    },
    {
      "cell_type": "code",
      "execution_count": null,
      "metadata": {
        "colab": {
          "base_uri": "https://localhost:8080/"
        },
        "id": "HslX-LtXk4yZ",
        "outputId": "1f42358d-9cf4-4fd4-ef4c-a19190ffe5b5"
      },
      "outputs": [
        {
          "data": {
            "text/plain": [
              "(126782, 100)"
            ]
          },
          "execution_count": 30,
          "metadata": {},
          "output_type": "execute_result"
        }
      ],
      "source": [
        "X_train.shape"
      ]
    },
    {
      "cell_type": "code",
      "execution_count": null,
      "metadata": {
        "colab": {
          "base_uri": "https://localhost:8080/"
        },
        "id": "yoPurrMDk_jZ",
        "outputId": "2c742c95-5100-4fa2-e053-d1c48b6bbf41"
      },
      "outputs": [
        {
          "data": {
            "text/plain": [
              "(31696, 100)"
            ]
          },
          "execution_count": 31,
          "metadata": {},
          "output_type": "execute_result"
        }
      ],
      "source": [
        "X_test.shape"
      ]
    },
    {
      "cell_type": "markdown",
      "metadata": {
        "id": "WyrOFx_Rl4tj"
      },
      "source": [
        "## Model training and testing"
      ]
    },
    {
      "cell_type": "code",
      "execution_count": null,
      "metadata": {
        "id": "QYHrS_vq5azs"
      },
      "outputs": [],
      "source": [
        "import tensorflow as tf"
      ]
    },
    {
      "cell_type": "code",
      "execution_count": null,
      "metadata": {
        "colab": {
          "base_uri": "https://localhost:8080/"
        },
        "id": "JDcgp276iItW",
        "outputId": "932084a4-46e4-4a3a-b088-4d738ccc4992"
      },
      "outputs": [
        {
          "name": "stderr",
          "output_type": "stream",
          "text": [
            "[nltk_data] Downloading package punkt to /root/nltk_data...\n",
            "[nltk_data]   Package punkt is already up-to-date!\n",
            "[nltk_data] Downloading package wordnet to /root/nltk_data...\n",
            "[nltk_data]   Package wordnet is already up-to-date!\n",
            "[nltk_data] Downloading package stopwords to /root/nltk_data...\n",
            "[nltk_data]   Package stopwords is already up-to-date!\n"
          ]
        }
      ],
      "source": [
        "# defined to preprocess a single review during testing\n",
        "\n",
        "import re, string\n",
        "import nltk\n",
        "from nltk.corpus import stopwords\n",
        "from nltk.stem import WordNetLemmatizer\n",
        "from nltk.tokenize import word_tokenize\n",
        "nltk.download('punkt')\n",
        "nltk.download('wordnet')\n",
        "nltk.download('stopwords')\n",
        "\n",
        "# STOPWORD REMOVAL\n",
        "def remove_stopwords(text):\n",
        "    stop_words = set(stopwords.words('english'))\n",
        "    filtered_words = [word for word in text.split() if word not in stop_words]\n",
        "    return ' '.join(filtered_words)\n",
        "\n",
        "# LEMMATIZATION\n",
        "# Initialize the lemmatizer\n",
        "wl = WordNetLemmatizer()\n",
        "\n",
        "def lemmatizer(text):\n",
        "    tokens = word_tokenize(text)\n",
        "    lemmatized_tokens = [wl.lemmatize(token) for token in tokens]\n",
        "    return ' '.join(lemmatized_tokens)\n",
        "\n",
        "\n",
        "def process(text):\n",
        "  # text = str(text)\n",
        "  text = text.lower()\n",
        "  text = text.strip()\n",
        "\n",
        "  # Remove URLs/links\n",
        "  text = re.sub(r'http\\S+|www.\\S+', '', text)\n",
        "  text = re.sub(r'\\(.*?\\)|\\[.*?\\]', '', text)\n",
        "  text = re.sub(r'[\\(\\)\\[\\]]', '', text)\n",
        "  text = re.compile('<.`/*?>').sub('', text)\n",
        "  text = re.sub(r'\\[[0-9]*]', '', text)\n",
        "  text = re.sub(r'[^\\w\\s]', '', text)\n",
        "  text = re.sub(r'\\d+', '', text)\n",
        "  text = re.sub(r'[^a-zA-Z0-9\\s]', '', text)\n",
        "  text = re.sub(r'\\s+', ' ', text)\n",
        "\n",
        "  # text = remove_stopwords(text)\n",
        "  text = lemmatizer(text)\n",
        "  return [text]"
      ]
    },
    {
      "cell_type": "markdown",
      "metadata": {
        "id": "9voZ9UAUd7N-"
      },
      "source": [
        "## Reshaping as a tensor"
      ]
    },
    {
      "cell_type": "code",
      "execution_count": null,
      "metadata": {
        "id": "Q9DBRdB07XQr"
      },
      "outputs": [],
      "source": [
        "X_train = X_train.reshape(X_train.shape[0], 1, X_train.shape[1])\n",
        "X_test = X_test.reshape(X_test.shape[0], 1, X_test.shape[1])"
      ]
    },
    {
      "cell_type": "markdown",
      "metadata": {
        "id": "_phK6oxEd_mJ"
      },
      "source": [
        "## Converting into one-hot encoded categorical labels"
      ]
    },
    {
      "cell_type": "code",
      "execution_count": null,
      "metadata": {
        "id": "hDkU3l9b7ZIJ"
      },
      "outputs": [],
      "source": [
        "from tensorflow.keras.utils import to_categorical\n",
        "y_train = to_categorical(y_train)\n",
        "y_test = to_categorical(y_test)"
      ]
    },
    {
      "cell_type": "markdown",
      "metadata": {
        "id": "AfE2glJheGVC"
      },
      "source": [
        "## Function to create the model"
      ]
    },
    {
      "cell_type": "code",
      "execution_count": null,
      "metadata": {
        "id": "nDswuD056LXC"
      },
      "outputs": [],
      "source": [
        "def create_model():\n",
        "  inputs = tf.keras.Input(shape=(X_train.shape[1], X_train.shape[2]))\n",
        "  gru = tf.keras.layers.GRU(128, return_sequences=True)(inputs)\n",
        "  gru = tf.keras.layers.GRU(64)(gru)\n",
        "  outputs = tf.keras.layers.Dense(3, activation='softmax')(gru)\n",
        "  model = tf.keras.models.Model(inputs=inputs, outputs=outputs)\n",
        "  print(model.summary())\n",
        "  return model"
      ]
    },
    {
      "cell_type": "code",
      "execution_count": null,
      "metadata": {
        "colab": {
          "base_uri": "https://localhost:8080/",
          "height": 274
        },
        "id": "6PHjhcbz6-QR",
        "outputId": "f4594b8e-0e1d-4938-d1a0-ea299e172239"
      },
      "outputs": [
        {
          "data": {
            "text/html": [
              "<pre style=\"white-space:pre;overflow-x:auto;line-height:normal;font-family:Menlo,'DejaVu Sans Mono',consolas,'Courier New',monospace\"><span style=\"font-weight: bold\">Model: \"functional\"</span>\n",
              "</pre>\n"
            ],
            "text/plain": [
              "\u001b[1mModel: \"functional\"\u001b[0m\n"
            ]
          },
          "metadata": {},
          "output_type": "display_data"
        },
        {
          "data": {
            "text/html": [
              "<pre style=\"white-space:pre;overflow-x:auto;line-height:normal;font-family:Menlo,'DejaVu Sans Mono',consolas,'Courier New',monospace\">┏━━━━━━━━━━━━━━━━━━━━━━━━━━━━━━━━━━━━━━┳━━━━━━━━━━━━━━━━━━━━━━━━━━━━━┳━━━━━━━━━━━━━━━━━┓\n",
              "┃<span style=\"font-weight: bold\"> Layer (type)                         </span>┃<span style=\"font-weight: bold\"> Output Shape                </span>┃<span style=\"font-weight: bold\">         Param # </span>┃\n",
              "┡━━━━━━━━━━━━━━━━━━━━━━━━━━━━━━━━━━━━━━╇━━━━━━━━━━━━━━━━━━━━━━━━━━━━━╇━━━━━━━━━━━━━━━━━┩\n",
              "│ input_layer (<span style=\"color: #0087ff; text-decoration-color: #0087ff\">InputLayer</span>)             │ (<span style=\"color: #00d7ff; text-decoration-color: #00d7ff\">None</span>, <span style=\"color: #00af00; text-decoration-color: #00af00\">1</span>, <span style=\"color: #00af00; text-decoration-color: #00af00\">100</span>)              │               <span style=\"color: #00af00; text-decoration-color: #00af00\">0</span> │\n",
              "├──────────────────────────────────────┼─────────────────────────────┼─────────────────┤\n",
              "│ gru (<span style=\"color: #0087ff; text-decoration-color: #0087ff\">GRU</span>)                            │ (<span style=\"color: #00d7ff; text-decoration-color: #00d7ff\">None</span>, <span style=\"color: #00af00; text-decoration-color: #00af00\">1</span>, <span style=\"color: #00af00; text-decoration-color: #00af00\">128</span>)              │          <span style=\"color: #00af00; text-decoration-color: #00af00\">88,320</span> │\n",
              "├──────────────────────────────────────┼─────────────────────────────┼─────────────────┤\n",
              "│ gru_1 (<span style=\"color: #0087ff; text-decoration-color: #0087ff\">GRU</span>)                          │ (<span style=\"color: #00d7ff; text-decoration-color: #00d7ff\">None</span>, <span style=\"color: #00af00; text-decoration-color: #00af00\">64</span>)                  │          <span style=\"color: #00af00; text-decoration-color: #00af00\">37,248</span> │\n",
              "├──────────────────────────────────────┼─────────────────────────────┼─────────────────┤\n",
              "│ dense (<span style=\"color: #0087ff; text-decoration-color: #0087ff\">Dense</span>)                        │ (<span style=\"color: #00d7ff; text-decoration-color: #00d7ff\">None</span>, <span style=\"color: #00af00; text-decoration-color: #00af00\">3</span>)                   │             <span style=\"color: #00af00; text-decoration-color: #00af00\">195</span> │\n",
              "└──────────────────────────────────────┴─────────────────────────────┴─────────────────┘\n",
              "</pre>\n"
            ],
            "text/plain": [
              "┏━━━━━━━━━━━━━━━━━━━━━━━━━━━━━━━━━━━━━━┳━━━━━━━━━━━━━━━━━━━━━━━━━━━━━┳━━━━━━━━━━━━━━━━━┓\n",
              "┃\u001b[1m \u001b[0m\u001b[1mLayer (type)                        \u001b[0m\u001b[1m \u001b[0m┃\u001b[1m \u001b[0m\u001b[1mOutput Shape               \u001b[0m\u001b[1m \u001b[0m┃\u001b[1m \u001b[0m\u001b[1m        Param #\u001b[0m\u001b[1m \u001b[0m┃\n",
              "┡━━━━━━━━━━━━━━━━━━━━━━━━━━━━━━━━━━━━━━╇━━━━━━━━━━━━━━━━━━━━━━━━━━━━━╇━━━━━━━━━━━━━━━━━┩\n",
              "│ input_layer (\u001b[38;5;33mInputLayer\u001b[0m)             │ (\u001b[38;5;45mNone\u001b[0m, \u001b[38;5;34m1\u001b[0m, \u001b[38;5;34m100\u001b[0m)              │               \u001b[38;5;34m0\u001b[0m │\n",
              "├──────────────────────────────────────┼─────────────────────────────┼─────────────────┤\n",
              "│ gru (\u001b[38;5;33mGRU\u001b[0m)                            │ (\u001b[38;5;45mNone\u001b[0m, \u001b[38;5;34m1\u001b[0m, \u001b[38;5;34m128\u001b[0m)              │          \u001b[38;5;34m88,320\u001b[0m │\n",
              "├──────────────────────────────────────┼─────────────────────────────┼─────────────────┤\n",
              "│ gru_1 (\u001b[38;5;33mGRU\u001b[0m)                          │ (\u001b[38;5;45mNone\u001b[0m, \u001b[38;5;34m64\u001b[0m)                  │          \u001b[38;5;34m37,248\u001b[0m │\n",
              "├──────────────────────────────────────┼─────────────────────────────┼─────────────────┤\n",
              "│ dense (\u001b[38;5;33mDense\u001b[0m)                        │ (\u001b[38;5;45mNone\u001b[0m, \u001b[38;5;34m3\u001b[0m)                   │             \u001b[38;5;34m195\u001b[0m │\n",
              "└──────────────────────────────────────┴─────────────────────────────┴─────────────────┘\n"
            ]
          },
          "metadata": {},
          "output_type": "display_data"
        },
        {
          "data": {
            "text/html": [
              "<pre style=\"white-space:pre;overflow-x:auto;line-height:normal;font-family:Menlo,'DejaVu Sans Mono',consolas,'Courier New',monospace\"><span style=\"font-weight: bold\"> Total params: </span><span style=\"color: #00af00; text-decoration-color: #00af00\">125,763</span> (491.26 KB)\n",
              "</pre>\n"
            ],
            "text/plain": [
              "\u001b[1m Total params: \u001b[0m\u001b[38;5;34m125,763\u001b[0m (491.26 KB)\n"
            ]
          },
          "metadata": {},
          "output_type": "display_data"
        },
        {
          "data": {
            "text/html": [
              "<pre style=\"white-space:pre;overflow-x:auto;line-height:normal;font-family:Menlo,'DejaVu Sans Mono',consolas,'Courier New',monospace\"><span style=\"font-weight: bold\"> Trainable params: </span><span style=\"color: #00af00; text-decoration-color: #00af00\">125,763</span> (491.26 KB)\n",
              "</pre>\n"
            ],
            "text/plain": [
              "\u001b[1m Trainable params: \u001b[0m\u001b[38;5;34m125,763\u001b[0m (491.26 KB)\n"
            ]
          },
          "metadata": {},
          "output_type": "display_data"
        },
        {
          "data": {
            "text/html": [
              "<pre style=\"white-space:pre;overflow-x:auto;line-height:normal;font-family:Menlo,'DejaVu Sans Mono',consolas,'Courier New',monospace\"><span style=\"font-weight: bold\"> Non-trainable params: </span><span style=\"color: #00af00; text-decoration-color: #00af00\">0</span> (0.00 B)\n",
              "</pre>\n"
            ],
            "text/plain": [
              "\u001b[1m Non-trainable params: \u001b[0m\u001b[38;5;34m0\u001b[0m (0.00 B)\n"
            ]
          },
          "metadata": {},
          "output_type": "display_data"
        },
        {
          "name": "stdout",
          "output_type": "stream",
          "text": [
            "None\n"
          ]
        }
      ],
      "source": [
        "dl_model = create_model()"
      ]
    },
    {
      "cell_type": "markdown",
      "metadata": {
        "id": "zLHNZ1noeLg7"
      },
      "source": [
        "## Compiling"
      ]
    },
    {
      "cell_type": "code",
      "execution_count": null,
      "metadata": {
        "id": "0JRMT5SF8AYa"
      },
      "outputs": [],
      "source": [
        "dl_model.compile(optimizer='adam', loss='categorical_crossentropy', metrics=[tf.keras.metrics.CategoricalAccuracy(name='accuracy', dtype=None),\n",
        "                  tf.keras.metrics.Recall(name='Recall'),\n",
        "                  tf.keras.metrics.Precision(name='Precision')])"
      ]
    },
    {
      "cell_type": "markdown",
      "metadata": {
        "id": "w0VMyJg5eOCo"
      },
      "source": [
        "## Training with validation and early stopping"
      ]
    },
    {
      "cell_type": "code",
      "execution_count": null,
      "metadata": {
        "colab": {
          "base_uri": "https://localhost:8080/"
        },
        "id": "ywBVLXFc8EzO",
        "outputId": "9ddedff5-a65c-42cb-fbe3-dac0e23da94a"
      },
      "outputs": [
        {
          "name": "stdout",
          "output_type": "stream",
          "text": [
            "Epoch 1/50\n",
            "\u001b[1m3170/3170\u001b[0m \u001b[32m━━━━━━━━━━━━━━━━━━━━\u001b[0m\u001b[37m\u001b[0m \u001b[1m26s\u001b[0m 7ms/step - Precision: 0.6996 - Recall: 0.4092 - accuracy: 0.5971 - loss: 0.8516 - val_Precision: 0.7017 - val_Recall: 0.5189 - val_accuracy: 0.6377 - val_loss: 0.7855\n",
            "Epoch 2/50\n",
            "\u001b[1m3170/3170\u001b[0m \u001b[32m━━━━━━━━━━━━━━━━━━━━\u001b[0m\u001b[37m\u001b[0m \u001b[1m40s\u001b[0m 6ms/step - Precision: 0.7016 - Recall: 0.5410 - accuracy: 0.6449 - loss: 0.7760 - val_Precision: 0.7061 - val_Recall: 0.5722 - val_accuracy: 0.6569 - val_loss: 0.7555\n",
            "Epoch 3/50\n",
            "\u001b[1m3170/3170\u001b[0m \u001b[32m━━━━━━━━━━━━━━━━━━━━\u001b[0m\u001b[37m\u001b[0m \u001b[1m21s\u001b[0m 7ms/step - Precision: 0.7121 - Recall: 0.5657 - accuracy: 0.6609 - loss: 0.7524 - val_Precision: 0.7182 - val_Recall: 0.5761 - val_accuracy: 0.6673 - val_loss: 0.7367\n",
            "Epoch 4/50\n",
            "\u001b[1m3170/3170\u001b[0m \u001b[32m━━━━━━━━━━━━━━━━━━━━\u001b[0m\u001b[37m\u001b[0m \u001b[1m41s\u001b[0m 7ms/step - Precision: 0.7152 - Recall: 0.5790 - accuracy: 0.6671 - loss: 0.7396 - val_Precision: 0.7213 - val_Recall: 0.5981 - val_accuracy: 0.6759 - val_loss: 0.7195\n",
            "Epoch 5/50\n",
            "\u001b[1m3170/3170\u001b[0m \u001b[32m━━━━━━━━━━━━━━━━━━━━\u001b[0m\u001b[37m\u001b[0m \u001b[1m40s\u001b[0m 6ms/step - Precision: 0.7239 - Recall: 0.5977 - accuracy: 0.6760 - loss: 0.7210 - val_Precision: 0.7438 - val_Recall: 0.5791 - val_accuracy: 0.6841 - val_loss: 0.7125\n",
            "Epoch 6/50\n",
            "\u001b[1m3170/3170\u001b[0m \u001b[32m━━━━━━━━━━━━━━━━━━━━\u001b[0m\u001b[37m\u001b[0m \u001b[1m22s\u001b[0m 7ms/step - Precision: 0.7300 - Recall: 0.6070 - accuracy: 0.6827 - loss: 0.7076 - val_Precision: 0.7382 - val_Recall: 0.5994 - val_accuracy: 0.6825 - val_loss: 0.7048\n",
            "Epoch 7/50\n",
            "\u001b[1m3170/3170\u001b[0m \u001b[32m━━━━━━━━━━━━━━━━━━━━\u001b[0m\u001b[37m\u001b[0m \u001b[1m19s\u001b[0m 6ms/step - Precision: 0.7367 - Recall: 0.6173 - accuracy: 0.6914 - loss: 0.6939 - val_Precision: 0.7303 - val_Recall: 0.6281 - val_accuracy: 0.6899 - val_loss: 0.6888\n",
            "Epoch 8/50\n",
            "\u001b[1m3170/3170\u001b[0m \u001b[32m━━━━━━━━━━━━━━━━━━━━\u001b[0m\u001b[37m\u001b[0m \u001b[1m23s\u001b[0m 7ms/step - Precision: 0.7449 - Recall: 0.6341 - accuracy: 0.7011 - loss: 0.6771 - val_Precision: 0.7350 - val_Recall: 0.6291 - val_accuracy: 0.6891 - val_loss: 0.6852\n",
            "Epoch 9/50\n",
            "\u001b[1m3170/3170\u001b[0m \u001b[32m━━━━━━━━━━━━━━━━━━━━\u001b[0m\u001b[37m\u001b[0m \u001b[1m38s\u001b[0m 6ms/step - Precision: 0.7481 - Recall: 0.6409 - accuracy: 0.7063 - loss: 0.6628 - val_Precision: 0.7468 - val_Recall: 0.6479 - val_accuracy: 0.7072 - val_loss: 0.6593\n",
            "Epoch 10/50\n",
            "\u001b[1m3170/3170\u001b[0m \u001b[32m━━━━━━━━━━━━━━━━━━━━\u001b[0m\u001b[37m\u001b[0m \u001b[1m21s\u001b[0m 7ms/step - Precision: 0.7560 - Recall: 0.6519 - accuracy: 0.7158 - loss: 0.6512 - val_Precision: 0.7469 - val_Recall: 0.6479 - val_accuracy: 0.7066 - val_loss: 0.6572\n",
            "Epoch 11/50\n",
            "\u001b[1m3170/3170\u001b[0m \u001b[32m━━━━━━━━━━━━━━━━━━━━\u001b[0m\u001b[37m\u001b[0m \u001b[1m41s\u001b[0m 6ms/step - Precision: 0.7642 - Recall: 0.6670 - accuracy: 0.7253 - loss: 0.6323 - val_Precision: 0.7670 - val_Recall: 0.6445 - val_accuracy: 0.7159 - val_loss: 0.6429\n",
            "Epoch 12/50\n",
            "\u001b[1m3170/3170\u001b[0m \u001b[32m━━━━━━━━━━━━━━━━━━━━\u001b[0m\u001b[37m\u001b[0m \u001b[1m22s\u001b[0m 7ms/step - Precision: 0.7702 - Recall: 0.6765 - accuracy: 0.7304 - loss: 0.6158 - val_Precision: 0.7660 - val_Recall: 0.6730 - val_accuracy: 0.7267 - val_loss: 0.6298\n",
            "Epoch 13/50\n",
            "\u001b[1m3170/3170\u001b[0m \u001b[32m━━━━━━━━━━━━━━━━━━━━\u001b[0m\u001b[37m\u001b[0m \u001b[1m39s\u001b[0m 6ms/step - Precision: 0.7766 - Recall: 0.6869 - accuracy: 0.7391 - loss: 0.6018 - val_Precision: 0.7658 - val_Recall: 0.6726 - val_accuracy: 0.7288 - val_loss: 0.6216\n",
            "Epoch 14/50\n",
            "\u001b[1m3170/3170\u001b[0m \u001b[32m━━━━━━━━━━━━━━━━━━━━\u001b[0m\u001b[37m\u001b[0m \u001b[1m22s\u001b[0m 7ms/step - Precision: 0.7810 - Recall: 0.6931 - accuracy: 0.7451 - loss: 0.5894 - val_Precision: 0.7707 - val_Recall: 0.6939 - val_accuracy: 0.7373 - val_loss: 0.6017\n",
            "Epoch 15/50\n",
            "\u001b[1m3170/3170\u001b[0m \u001b[32m━━━━━━━━━━━━━━━━━━━━\u001b[0m\u001b[37m\u001b[0m \u001b[1m19s\u001b[0m 6ms/step - Precision: 0.7901 - Recall: 0.7090 - accuracy: 0.7549 - loss: 0.5679 - val_Precision: 0.7788 - val_Recall: 0.6918 - val_accuracy: 0.7422 - val_loss: 0.5935\n",
            "Epoch 16/50\n",
            "\u001b[1m3170/3170\u001b[0m \u001b[32m━━━━━━━━━━━━━━━━━━━━\u001b[0m\u001b[37m\u001b[0m \u001b[1m25s\u001b[0m 8ms/step - Precision: 0.7955 - Recall: 0.7188 - accuracy: 0.7628 - loss: 0.5552 - val_Precision: 0.7750 - val_Recall: 0.7181 - val_accuracy: 0.7513 - val_loss: 0.5831\n",
            "Epoch 17/50\n",
            "\u001b[1m3170/3170\u001b[0m \u001b[32m━━━━━━━━━━━━━━━━━━━━\u001b[0m\u001b[37m\u001b[0m \u001b[1m37s\u001b[0m 6ms/step - Precision: 0.8014 - Recall: 0.7271 - accuracy: 0.7705 - loss: 0.5405 - val_Precision: 0.7864 - val_Recall: 0.7212 - val_accuracy: 0.7585 - val_loss: 0.5759\n",
            "Epoch 18/50\n",
            "\u001b[1m3170/3170\u001b[0m \u001b[32m━━━━━━━━━━━━━━━━━━━━\u001b[0m\u001b[37m\u001b[0m \u001b[1m22s\u001b[0m 7ms/step - Precision: 0.8098 - Recall: 0.7399 - accuracy: 0.7791 - loss: 0.5242 - val_Precision: 0.7925 - val_Recall: 0.7275 - val_accuracy: 0.7638 - val_loss: 0.5628\n",
            "Epoch 19/50\n",
            "\u001b[1m3170/3170\u001b[0m \u001b[32m━━━━━━━━━━━━━━━━━━━━\u001b[0m\u001b[37m\u001b[0m \u001b[1m39s\u001b[0m 6ms/step - Precision: 0.8200 - Recall: 0.7501 - accuracy: 0.7895 - loss: 0.5076 - val_Precision: 0.8040 - val_Recall: 0.7393 - val_accuracy: 0.7777 - val_loss: 0.5458\n",
            "Epoch 20/50\n",
            "\u001b[1m3170/3170\u001b[0m \u001b[32m━━━━━━━━━━━━━━━━━━━━\u001b[0m\u001b[37m\u001b[0m \u001b[1m22s\u001b[0m 7ms/step - Precision: 0.8269 - Recall: 0.7629 - accuracy: 0.7988 - loss: 0.4874 - val_Precision: 0.8058 - val_Recall: 0.7371 - val_accuracy: 0.7777 - val_loss: 0.5381\n",
            "Epoch 21/50\n",
            "\u001b[1m3170/3170\u001b[0m \u001b[32m━━━━━━━━━━━━━━━━━━━━\u001b[0m\u001b[37m\u001b[0m \u001b[1m42s\u001b[0m 7ms/step - Precision: 0.8335 - Recall: 0.7719 - accuracy: 0.8056 - loss: 0.4735 - val_Precision: 0.7944 - val_Recall: 0.7419 - val_accuracy: 0.7710 - val_loss: 0.5552\n",
            "Epoch 22/50\n",
            "\u001b[1m3170/3170\u001b[0m \u001b[32m━━━━━━━━━━━━━━━━━━━━\u001b[0m\u001b[37m\u001b[0m \u001b[1m40s\u001b[0m 7ms/step - Precision: 0.8425 - Recall: 0.7866 - accuracy: 0.8176 - loss: 0.4529 - val_Precision: 0.8227 - val_Recall: 0.7566 - val_accuracy: 0.7934 - val_loss: 0.5108\n",
            "Epoch 23/50\n",
            "\u001b[1m3170/3170\u001b[0m \u001b[32m━━━━━━━━━━━━━━━━━━━━\u001b[0m\u001b[37m\u001b[0m \u001b[1m41s\u001b[0m 7ms/step - Precision: 0.8507 - Recall: 0.7952 - accuracy: 0.8261 - loss: 0.4367 - val_Precision: 0.8220 - val_Recall: 0.7784 - val_accuracy: 0.8012 - val_loss: 0.5067\n",
            "Epoch 24/50\n",
            "\u001b[1m3170/3170\u001b[0m \u001b[32m━━━━━━━━━━━━━━━━━━━━\u001b[0m\u001b[37m\u001b[0m \u001b[1m41s\u001b[0m 7ms/step - Precision: 0.8543 - Recall: 0.8031 - accuracy: 0.8313 - loss: 0.4218 - val_Precision: 0.8341 - val_Recall: 0.7814 - val_accuracy: 0.8114 - val_loss: 0.4865\n",
            "Epoch 25/50\n",
            "\u001b[1m3170/3170\u001b[0m \u001b[32m━━━━━━━━━━━━━━━━━━━━\u001b[0m\u001b[37m\u001b[0m \u001b[1m41s\u001b[0m 7ms/step - Precision: 0.8562 - Recall: 0.8069 - accuracy: 0.8344 - loss: 0.4141 - val_Precision: 0.8303 - val_Recall: 0.7823 - val_accuracy: 0.8095 - val_loss: 0.4917\n",
            "Epoch 26/50\n",
            "\u001b[1m3170/3170\u001b[0m \u001b[32m━━━━━━━━━━━━━━━━━━━━\u001b[0m\u001b[37m\u001b[0m \u001b[1m21s\u001b[0m 7ms/step - Precision: 0.8647 - Recall: 0.8183 - accuracy: 0.8428 - loss: 0.3975 - val_Precision: 0.8286 - val_Recall: 0.7893 - val_accuracy: 0.8110 - val_loss: 0.4820\n",
            "Epoch 27/50\n",
            "\u001b[1m3170/3170\u001b[0m \u001b[32m━━━━━━━━━━━━━━━━━━━━\u001b[0m\u001b[37m\u001b[0m \u001b[1m20s\u001b[0m 6ms/step - Precision: 0.8706 - Recall: 0.8286 - accuracy: 0.8516 - loss: 0.3796 - val_Precision: 0.8388 - val_Recall: 0.8031 - val_accuracy: 0.8234 - val_loss: 0.4666\n",
            "Epoch 28/50\n",
            "\u001b[1m3170/3170\u001b[0m \u001b[32m━━━━━━━━━━━━━━━━━━━━\u001b[0m\u001b[37m\u001b[0m \u001b[1m22s\u001b[0m 7ms/step - Precision: 0.8785 - Recall: 0.8393 - accuracy: 0.8598 - loss: 0.3627 - val_Precision: 0.8453 - val_Recall: 0.8036 - val_accuracy: 0.8256 - val_loss: 0.4574\n",
            "Epoch 29/50\n",
            "\u001b[1m3170/3170\u001b[0m \u001b[32m━━━━━━━━━━━━━━━━━━━━\u001b[0m\u001b[37m\u001b[0m \u001b[1m22s\u001b[0m 7ms/step - Precision: 0.8836 - Recall: 0.8459 - accuracy: 0.8656 - loss: 0.3519 - val_Precision: 0.8553 - val_Recall: 0.8155 - val_accuracy: 0.8361 - val_loss: 0.4354\n",
            "Epoch 30/50\n",
            "\u001b[1m3170/3170\u001b[0m \u001b[32m━━━━━━━━━━━━━━━━━━━━\u001b[0m\u001b[37m\u001b[0m \u001b[1m24s\u001b[0m 7ms/step - Precision: 0.8853 - Recall: 0.8485 - accuracy: 0.8687 - loss: 0.3445 - val_Precision: 0.8571 - val_Recall: 0.8180 - val_accuracy: 0.8382 - val_loss: 0.4372\n",
            "Epoch 31/50\n",
            "\u001b[1m3170/3170\u001b[0m \u001b[32m━━━━━━━━━━━━━━━━━━━━\u001b[0m\u001b[37m\u001b[0m \u001b[1m37s\u001b[0m 6ms/step - Precision: 0.8919 - Recall: 0.8584 - accuracy: 0.8756 - loss: 0.3247 - val_Precision: 0.8447 - val_Recall: 0.8056 - val_accuracy: 0.8262 - val_loss: 0.4491\n",
            "Epoch 32/50\n",
            "\u001b[1m3170/3170\u001b[0m \u001b[32m━━━━━━━━━━━━━━━━━━━━\u001b[0m\u001b[37m\u001b[0m \u001b[1m23s\u001b[0m 7ms/step - Precision: 0.8938 - Recall: 0.8623 - accuracy: 0.8786 - loss: 0.3184 - val_Precision: 0.8611 - val_Recall: 0.8327 - val_accuracy: 0.8481 - val_loss: 0.4159\n",
            "Epoch 33/50\n",
            "\u001b[1m3170/3170\u001b[0m \u001b[32m━━━━━━━━━━━━━━━━━━━━\u001b[0m\u001b[37m\u001b[0m \u001b[1m39s\u001b[0m 6ms/step - Precision: 0.8966 - Recall: 0.8663 - accuracy: 0.8819 - loss: 0.3108 - val_Precision: 0.8700 - val_Recall: 0.8348 - val_accuracy: 0.8537 - val_loss: 0.4092\n",
            "Epoch 34/50\n",
            "\u001b[1m3170/3170\u001b[0m \u001b[32m━━━━━━━━━━━━━━━━━━━━\u001b[0m\u001b[37m\u001b[0m \u001b[1m23s\u001b[0m 7ms/step - Precision: 0.9023 - Recall: 0.8727 - accuracy: 0.8878 - loss: 0.2967 - val_Precision: 0.8515 - val_Recall: 0.8244 - val_accuracy: 0.8373 - val_loss: 0.4408\n",
            "Epoch 35/50\n",
            "\u001b[1m3170/3170\u001b[0m \u001b[32m━━━━━━━━━━━━━━━━━━━━\u001b[0m\u001b[37m\u001b[0m \u001b[1m40s\u001b[0m 7ms/step - Precision: 0.9054 - Recall: 0.8780 - accuracy: 0.8922 - loss: 0.2873 - val_Precision: 0.8695 - val_Recall: 0.8415 - val_accuracy: 0.8544 - val_loss: 0.4043\n",
            "Epoch 36/50\n",
            "\u001b[1m3170/3170\u001b[0m \u001b[32m━━━━━━━━━━━━━━━━━━━━\u001b[0m\u001b[37m\u001b[0m \u001b[1m41s\u001b[0m 7ms/step - Precision: 0.9105 - Recall: 0.8855 - accuracy: 0.8985 - loss: 0.2751 - val_Precision: 0.8753 - val_Recall: 0.8485 - val_accuracy: 0.8631 - val_loss: 0.3900\n",
            "Epoch 37/50\n",
            "\u001b[1m3170/3170\u001b[0m \u001b[32m━━━━━━━━━━━━━━━━━━━━\u001b[0m\u001b[37m\u001b[0m \u001b[1m41s\u001b[0m 7ms/step - Precision: 0.9135 - Recall: 0.8895 - accuracy: 0.9018 - loss: 0.2652 - val_Precision: 0.8738 - val_Recall: 0.8480 - val_accuracy: 0.8617 - val_loss: 0.3964\n",
            "Epoch 38/50\n",
            "\u001b[1m3170/3170\u001b[0m \u001b[32m━━━━━━━━━━━━━━━━━━━━\u001b[0m\u001b[37m\u001b[0m \u001b[1m21s\u001b[0m 7ms/step - Precision: 0.9171 - Recall: 0.8956 - accuracy: 0.9067 - loss: 0.2540 - val_Precision: 0.8803 - val_Recall: 0.8570 - val_accuracy: 0.8691 - val_loss: 0.3877\n",
            "Epoch 39/50\n",
            "\u001b[1m3170/3170\u001b[0m \u001b[32m━━━━━━━━━━━━━━━━━━━━\u001b[0m\u001b[37m\u001b[0m \u001b[1m41s\u001b[0m 7ms/step - Precision: 0.9201 - Recall: 0.8996 - accuracy: 0.9096 - loss: 0.2461 - val_Precision: 0.8782 - val_Recall: 0.8549 - val_accuracy: 0.8664 - val_loss: 0.3930\n",
            "Epoch 40/50\n",
            "\u001b[1m3170/3170\u001b[0m \u001b[32m━━━━━━━━━━━━━━━━━━━━\u001b[0m\u001b[37m\u001b[0m \u001b[1m41s\u001b[0m 7ms/step - Precision: 0.9219 - Recall: 0.9024 - accuracy: 0.9124 - loss: 0.2379 - val_Precision: 0.8802 - val_Recall: 0.8570 - val_accuracy: 0.8693 - val_loss: 0.3743\n",
            "Epoch 41/50\n",
            "\u001b[1m3170/3170\u001b[0m \u001b[32m━━━━━━━━━━━━━━━━━━━━\u001b[0m\u001b[37m\u001b[0m \u001b[1m41s\u001b[0m 7ms/step - Precision: 0.9240 - Recall: 0.9046 - accuracy: 0.9140 - loss: 0.2321 - val_Precision: 0.8871 - val_Recall: 0.8661 - val_accuracy: 0.8768 - val_loss: 0.3708\n",
            "Epoch 42/50\n",
            "\u001b[1m3170/3170\u001b[0m \u001b[32m━━━━━━━━━━━━━━━━━━━━\u001b[0m\u001b[37m\u001b[0m \u001b[1m44s\u001b[0m 7ms/step - Precision: 0.9286 - Recall: 0.9103 - accuracy: 0.9202 - loss: 0.2204 - val_Precision: 0.8812 - val_Recall: 0.8581 - val_accuracy: 0.8698 - val_loss: 0.3862\n",
            "Epoch 43/50\n",
            "\u001b[1m3170/3170\u001b[0m \u001b[32m━━━━━━━━━━━━━━━━━━━━\u001b[0m\u001b[37m\u001b[0m \u001b[1m38s\u001b[0m 6ms/step - Precision: 0.9300 - Recall: 0.9131 - accuracy: 0.9218 - loss: 0.2165 - val_Precision: 0.8928 - val_Recall: 0.8749 - val_accuracy: 0.8844 - val_loss: 0.3660\n",
            "Epoch 44/50\n",
            "\u001b[1m3170/3170\u001b[0m \u001b[32m━━━━━━━━━━━━━━━━━━━━\u001b[0m\u001b[37m\u001b[0m \u001b[1m23s\u001b[0m 7ms/step - Precision: 0.9314 - Recall: 0.9162 - accuracy: 0.9235 - loss: 0.2101 - val_Precision: 0.8921 - val_Recall: 0.8721 - val_accuracy: 0.8826 - val_loss: 0.3596\n",
            "Epoch 45/50\n",
            "\u001b[1m3170/3170\u001b[0m \u001b[32m━━━━━━━━━━━━━━━━━━━━\u001b[0m\u001b[37m\u001b[0m \u001b[1m39s\u001b[0m 7ms/step - Precision: 0.9330 - Recall: 0.9177 - accuracy: 0.9256 - loss: 0.2053 - val_Precision: 0.8947 - val_Recall: 0.8807 - val_accuracy: 0.8878 - val_loss: 0.3647\n",
            "Epoch 46/50\n",
            "\u001b[1m3170/3170\u001b[0m \u001b[32m━━━━━━━━━━━━━━━━━━━━\u001b[0m\u001b[37m\u001b[0m \u001b[1m40s\u001b[0m 6ms/step - Precision: 0.9359 - Recall: 0.9216 - accuracy: 0.9283 - loss: 0.1969 - val_Precision: 0.8992 - val_Recall: 0.8843 - val_accuracy: 0.8933 - val_loss: 0.3515\n",
            "Epoch 47/50\n",
            "\u001b[1m3170/3170\u001b[0m \u001b[32m━━━━━━━━━━━━━━━━━━━━\u001b[0m\u001b[37m\u001b[0m \u001b[1m42s\u001b[0m 7ms/step - Precision: 0.9372 - Recall: 0.9239 - accuracy: 0.9303 - loss: 0.1951 - val_Precision: 0.9012 - val_Recall: 0.8848 - val_accuracy: 0.8934 - val_loss: 0.3512\n",
            "Epoch 48/50\n",
            "\u001b[1m3170/3170\u001b[0m \u001b[32m━━━━━━━━━━━━━━━━━━━━\u001b[0m\u001b[37m\u001b[0m \u001b[1m25s\u001b[0m 8ms/step - Precision: 0.9361 - Recall: 0.9225 - accuracy: 0.9292 - loss: 0.1929 - val_Precision: 0.9004 - val_Recall: 0.8859 - val_accuracy: 0.8934 - val_loss: 0.3462\n",
            "Epoch 49/50\n",
            "\u001b[1m3170/3170\u001b[0m \u001b[32m━━━━━━━━━━━━━━━━━━━━\u001b[0m\u001b[37m\u001b[0m \u001b[1m38s\u001b[0m 7ms/step - Precision: 0.9424 - Recall: 0.9299 - accuracy: 0.9358 - loss: 0.1806 - val_Precision: 0.8954 - val_Recall: 0.8843 - val_accuracy: 0.8891 - val_loss: 0.3668\n",
            "Epoch 50/50\n",
            "\u001b[1m3170/3170\u001b[0m \u001b[32m━━━━━━━━━━━━━━━━━━━━\u001b[0m\u001b[37m\u001b[0m \u001b[1m22s\u001b[0m 7ms/step - Precision: 0.9426 - Recall: 0.9311 - accuracy: 0.9365 - loss: 0.1771 - val_Precision: 0.9050 - val_Recall: 0.8902 - val_accuracy: 0.8984 - val_loss: 0.3399\n"
          ]
        }
      ],
      "source": [
        "history = dl_model.fit(\n",
        "    X_train,\n",
        "    y_train,\n",
        "    validation_split=0.2,\n",
        "    epochs=50,\n",
        "    batch_size=32,\n",
        "    callbacks=[tf.keras.callbacks.EarlyStopping(monitor='val_loss', patience=5, restore_best_weights=True)]\n",
        "    )"
      ]
    },
    {
      "cell_type": "markdown",
      "metadata": {
        "id": "3zQr8_ewebkE"
      },
      "source": [
        "## Testing and evaluation"
      ]
    },
    {
      "cell_type": "code",
      "execution_count": null,
      "metadata": {
        "colab": {
          "base_uri": "https://localhost:8080/"
        },
        "id": "61GwMkvn8TxN",
        "outputId": "1d48dbda-24ec-4b77-c9b3-b19851943a5b"
      },
      "outputs": [
        {
          "name": "stdout",
          "output_type": "stream",
          "text": [
            "\u001b[1m991/991\u001b[0m \u001b[32m━━━━━━━━━━━━━━━━━━━━\u001b[0m\u001b[37m\u001b[0m \u001b[1m3s\u001b[0m 3ms/step - Precision: 0.9091 - Recall: 0.8945 - accuracy: 0.9033 - loss: 0.3367\n"
          ]
        },
        {
          "data": {
            "text/plain": [
              "[0.33482444286346436,\n",
              " 0.9008708000183105,\n",
              " 0.8922261595726013,\n",
              " 0.9071371555328369]"
            ]
          },
          "execution_count": 41,
          "metadata": {},
          "output_type": "execute_result"
        }
      ],
      "source": [
        "dl_model.evaluate(X_test, y_test)"
      ]
    },
    {
      "cell_type": "markdown",
      "metadata": {
        "id": "R48CAiueehq6"
      },
      "source": [
        "## Plotting accuracy and loss curves"
      ]
    },
    {
      "cell_type": "code",
      "execution_count": null,
      "metadata": {
        "id": "lwUNJ4T3Ap_R"
      },
      "outputs": [],
      "source": [
        "import matplotlib.pyplot as plt"
      ]
    },
    {
      "cell_type": "code",
      "execution_count": null,
      "metadata": {
        "colab": {
          "base_uri": "https://localhost:8080/",
          "height": 471
        },
        "id": "Q_b_cTyQAsWM",
        "outputId": "51ea7eea-bdde-4bb3-dcaa-f36e4e2fbd7f"
      },
      "outputs": [
        {
          "data": {
            "text/plain": [
              "Text(0, 0.5, 'Accuracy')"
            ]
          },
          "execution_count": 43,
          "metadata": {},
          "output_type": "execute_result"
        },
        {
          "data": {
            "image/png": "[encoded data removed]",
            "text/plain": [
              "<Figure size 640x480 with 1 Axes>"
            ]
          },
          "metadata": {},
          "output_type": "display_data"
        }
      ],
      "source": [
        "plt.plot(history.history['accuracy'])\n",
        "plt.plot(history.history['val_accuracy'])\n",
        "plt.legend(['Training accuracy','Validation accuracy'])\n",
        "plt.xlabel(\"Epochs\")\n",
        "plt.ylabel(\"Accuracy\")"
      ]
    },
    {
      "cell_type": "code",
      "execution_count": null,
      "metadata": {
        "colab": {
          "base_uri": "https://localhost:8080/",
          "height": 466
        },
        "id": "PzDs3h1tAujf",
        "outputId": "3d820b13-7ccb-4049-d744-065a6ae2af6d"
      },
      "outputs": [
        {
          "data": {
            "text/plain": [
              "Text(0, 0.5, 'Loss')"
            ]
          },
          "execution_count": 44,
          "metadata": {},
          "output_type": "execute_result"
        },
        {
          "data": {
            "image/png": "[encoded data removed]",
            "text/plain": [
              "<Figure size 640x480 with 1 Axes>"
            ]
          },
          "metadata": {},
          "output_type": "display_data"
        }
      ],
      "source": [
        "plt.plot(history.history['loss'])\n",
        "plt.plot(history.history['val_loss'])\n",
        "plt.legend(['Training loss','Validation loss'])\n",
        "plt.xlabel(\"Epochs\")\n",
        "plt.ylabel(\"Loss\")"
      ]
    },
    {
      "cell_type": "markdown",
      "metadata": {
        "id": "KoUWLBCRe0En"
      },
      "source": [
        "## Testing with single reviews"
      ]
    },
    {
      "cell_type": "code",
      "execution_count": null,
      "metadata": {
        "colab": {
          "base_uri": "https://localhost:8080/"
        },
        "id": "dCLhu-0FA2vt",
        "outputId": "700b9777-6057-401d-b94e-a97ac44355bc"
      },
      "outputs": [
        {
          "name": "stdout",
          "output_type": "stream",
          "text": [
            "[[-3.6656499e-01  4.2363000e-01  4.7158501e-01 -2.1565500e-01\n",
            "  -5.7955503e-01 -1.4096400e-01 -2.3611999e-01 -4.2769998e-02\n",
            "  -1.7333001e-01 -1.0045500e-01 -1.1898400e-01 -2.7160999e-01\n",
            "   2.8402001e-01 -3.0548000e-01 -1.7458500e-01  7.6699987e-02\n",
            "  -4.2832500e-01 -2.6959500e-01 -1.3935801e-01  7.2104502e-01\n",
            "   6.2059498e-01  1.9960999e-01  2.3532000e-01 -1.0768501e-01\n",
            "  -5.5212501e-02 -2.3747002e-01 -2.5906000e-01 -5.7844996e-02\n",
            "  -4.2190000e-02  2.3910001e-02 -1.0714993e-02  8.4199995e-02\n",
            "   2.4602500e-01  5.6405008e-02  1.2182501e-01 -8.8525012e-02\n",
            "  -1.9284400e-01 -7.0105009e-02 -6.9723003e-02 -1.1344500e-01\n",
            "  -3.8198000e-01  2.9692051e-01  2.9722500e-01 -1.8223800e-01\n",
            "   3.8374999e-01  3.6842000e-01  9.8909998e-01 -6.4704999e-02\n",
            "  -2.5275502e-01 -9.9651003e-01  1.1293500e-01 -4.2777002e-01\n",
            "   3.0409992e-02  9.3561500e-01 -2.6222500e-01 -2.4273500e+00\n",
            "   4.6425003e-01  3.0734950e-01  1.4433000e+00  3.7218001e-01\n",
            "  -4.3536600e-01  1.1519850e+00 -8.3090997e-01 -3.1136000e-01\n",
            "   8.3908498e-01  4.6340004e-02  5.3151500e-01 -2.2009999e-02\n",
            "   2.2162350e-01 -2.1004501e-01 -2.1500140e-04 -1.8432501e-01\n",
            "  -2.0045501e-01  3.9341003e-01  6.4521003e-01 -2.4251498e-02\n",
            "  -4.8601502e-01 -1.5701650e-01 -6.0830998e-01  1.5533501e-01\n",
            "   7.2263503e-01  4.3550500e-01 -6.5188503e-01  2.5090998e-01\n",
            "  -1.3000700e+00 -3.9118499e-01 -4.0599412e-01 -3.1577000e-01\n",
            "  -4.9991000e-01 -3.6672649e-01  2.4309351e-01  3.5783452e-01\n",
            "  -3.0673000e-01  1.6505800e-01 -4.0236497e-01  3.3486500e-01\n",
            "  -3.8837498e-01 -2.4903500e-01  5.4350000e-02  6.0785010e-02]] (1, 100)\n",
            "[[[-3.6656499e-01  4.2363000e-01  4.7158501e-01 -2.1565500e-01\n",
            "   -5.7955503e-01 -1.4096400e-01 -2.3611999e-01 -4.2769998e-02\n",
            "   -1.7333001e-01 -1.0045500e-01 -1.1898400e-01 -2.7160999e-01\n",
            "    2.8402001e-01 -3.0548000e-01 -1.7458500e-01  7.6699987e-02\n",
            "   -4.2832500e-01 -2.6959500e-01 -1.3935801e-01  7.2104502e-01\n",
            "    6.2059498e-01  1.9960999e-01  2.3532000e-01 -1.0768501e-01\n",
            "   -5.5212501e-02 -2.3747002e-01 -2.5906000e-01 -5.7844996e-02\n",
            "   -4.2190000e-02  2.3910001e-02 -1.0714993e-02  8.4199995e-02\n",
            "    2.4602500e-01  5.6405008e-02  1.2182501e-01 -8.8525012e-02\n",
            "   -1.9284400e-01 -7.0105009e-02 -6.9723003e-02 -1.1344500e-01\n",
            "   -3.8198000e-01  2.9692051e-01  2.9722500e-01 -1.8223800e-01\n",
            "    3.8374999e-01  3.6842000e-01  9.8909998e-01 -6.4704999e-02\n",
            "   -2.5275502e-01 -9.9651003e-01  1.1293500e-01 -4.2777002e-01\n",
            "    3.0409992e-02  9.3561500e-01 -2.6222500e-01 -2.4273500e+00\n",
            "    4.6425003e-01  3.0734950e-01  1.4433000e+00  3.7218001e-01\n",
            "   -4.3536600e-01  1.1519850e+00 -8.3090997e-01 -3.1136000e-01\n",
            "    8.3908498e-01  4.6340004e-02  5.3151500e-01 -2.2009999e-02\n",
            "    2.2162350e-01 -2.1004501e-01 -2.1500140e-04 -1.8432501e-01\n",
            "   -2.0045501e-01  3.9341003e-01  6.4521003e-01 -2.4251498e-02\n",
            "   -4.8601502e-01 -1.5701650e-01 -6.0830998e-01  1.5533501e-01\n",
            "    7.2263503e-01  4.3550500e-01 -6.5188503e-01  2.5090998e-01\n",
            "   -1.3000700e+00 -3.9118499e-01 -4.0599412e-01 -3.1577000e-01\n",
            "   -4.9991000e-01 -3.6672649e-01  2.4309351e-01  3.5783452e-01\n",
            "   -3.0673000e-01  1.6505800e-01 -4.0236497e-01  3.3486500e-01\n",
            "   -3.8837498e-01 -2.4903500e-01  5.4350000e-02  6.0785010e-02]]] (1, 1, 100)\n",
            "\u001b[1m1/1\u001b[0m \u001b[32m━━━━━━━━━━━━━━━━━━━━\u001b[0m\u001b[37m\u001b[0m \u001b[1m0s\u001b[0m 37ms/step\n"
          ]
        }
      ],
      "source": [
        "processed_text = dataset_to_glove(process(\"very bad\"), embeddings_index, embedding_dim=100)\n",
        "print(processed_text, processed_text.shape)\n",
        "processed_text = processed_text.reshape(processed_text.shape[0], 1 ,processed_text.shape[1])\n",
        "print(processed_text, processed_text.shape)\n",
        "prediction_dl = dl_model.predict(processed_text)"
      ]
    },
    {
      "cell_type": "code",
      "execution_count": null,
      "metadata": {
        "colab": {
          "base_uri": "https://localhost:8080/"
        },
        "id": "GtL5pCv6CYea",
        "outputId": "1c969254-b7dd-4371-a923-4c24b0e2cab7"
      },
      "outputs": [
        {
          "data": {
            "text/plain": [
              "array([[9.9998534e-01, 1.4683677e-05, 3.5730689e-11]], dtype=float32)"
            ]
          },
          "execution_count": 46,
          "metadata": {},
          "output_type": "execute_result"
        }
      ],
      "source": [
        "prediction_dl"
      ]
    },
    {
      "cell_type": "code",
      "execution_count": null,
      "metadata": {
        "colab": {
          "base_uri": "https://localhost:8080/"
        },
        "id": "vftBXlP5B7so",
        "outputId": "a04d6061-f60a-4337-9922-faac14f0dd97"
      },
      "outputs": [
        {
          "data": {
            "text/plain": [
              "0"
            ]
          },
          "execution_count": 47,
          "metadata": {},
          "output_type": "execute_result"
        }
      ],
      "source": [
        "prediction_dl.argmax()"
      ]
    },
    {
      "cell_type": "markdown",
      "metadata": {
        "id": "5IYlnoSZe6No"
      },
      "source": [
        "## Function to map sentiment from prediction"
      ]
    },
    {
      "cell_type": "code",
      "execution_count": null,
      "metadata": {
        "id": "Zm2gC61-_11U"
      },
      "outputs": [],
      "source": [
        "def map_sentiment(prediction):\n",
        "  if prediction == 0:\n",
        "    return 'Negative'\n",
        "  elif prediction == 1:\n",
        "    return 'Neutral'\n",
        "  elif prediction == 2:\n",
        "    return 'Positive'"
      ]
    },
    {
      "cell_type": "code",
      "execution_count": null,
      "metadata": {
        "id": "hbmJeA0nAHZ5"
      },
      "outputs": [],
      "source": [
        "sentiment = map_sentiment(prediction_dl.argmax())"
      ]
    },
    {
      "cell_type": "code",
      "execution_count": null,
      "metadata": {
        "id": "68qWtc1EALlN"
      },
      "outputs": [],
      "source": [
        "sentiment"
      ]
    },
    {
      "cell_type": "markdown",
      "metadata": {
        "id": "6WT9dvcGagLL"
      },
      "source": [
        "## Saving for deployment"
      ]
    },
    {
      "cell_type": "code",
      "execution_count": null,
      "metadata": {
        "id": "bFXqmeFuAheq"
      },
      "outputs": [],
      "source": [
        "dl_model.save('/content/drive/MyDrive/Amazon megazine data sentiment analysis/dl_model.keras')"
      ]
    }
  ],
  "metadata": {
    "colab": {
      "provenance": []
    },
    "kernelspec": {
      "display_name": "Python 3",
      "name": "python3"
    },
    "language_info": {
      "name": "python"
    }
  },
  "nbformat": 4,
  "nbformat_minor": 0
}
